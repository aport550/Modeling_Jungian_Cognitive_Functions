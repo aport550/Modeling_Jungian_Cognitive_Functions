{
 "cells": [
  {
   "cell_type": "code",
   "execution_count": 1,
   "metadata": {},
   "outputs": [],
   "source": [
    "import pandas as pd\n",
    "import numpy as np\n",
    "import matplotlib.pyplot as plt\n",
    "import seaborn as sb\n",
    "import sklearn\n",
    "import warnings\n",
    "from collections import Counter\n",
    "warnings.filterwarnings('ignore')\n",
    "df = pd.read_csv('mbti_1.csv')"
   ]
  },
  {
   "cell_type": "code",
   "execution_count": 2,
   "metadata": {},
   "outputs": [
    {
     "data": {
      "text/plain": [
       "Text(0, 0.5, 'MBTI Type')"
      ]
     },
     "execution_count": 2,
     "metadata": {},
     "output_type": "execute_result"
    },
    {
     "data": {
      "image/png": "[encoded data removed]",
      "text/plain": [
       "<Figure size 432x288 with 1 Axes>"
      ]
     },
     "metadata": {},
     "output_type": "display_data"
    }
   ],
   "source": [
    "count = Counter(df)\n",
    "X = pd.DataFrame.from_dict(count, orient='index')\n",
    "sb.set()\n",
    "types_count = df.iloc[:,0].value_counts()\n",
    "types_count.sort_values(ascending=True).plot('barh')\n",
    "plt.xlabel(\"Count\")\n",
    "plt.ylabel(\"MBTI Type\")\n",
    "#ax = sb.distplot(X)\n"
   ]
  },
  {
   "cell_type": "markdown",
   "metadata": {},
   "source": [
    "Brief Summary of Cognitive Functions:\n",
    "\n",
    "The MBTI personality types are based off of the Jungian cognitive functions.   The Jungian Cognitive functions include 4 different styles of perception(Ne,Ni,Se,Si) and 4 different styles of judgment(Fi,Fe,Ti,Te) in the way people interact with the world.  The model proposes that each person exhibits a primary method of perception and a primary method of judgment as well as auxiliary styles of perception of judgment.  For the sake of this data, I will only utilize the primary methods of perception and judgment and disregard the auxiliary methods.\n",
    "\n",
    "ESTP — Se - Ti - Fe - Ni<br>\n",
    "ESFP — Se - Fi - Te - Ni<br>\n",
    "ISTJ — Si - Te - Fi - Ne<br>\n",
    "ISFJ — Si - Fe - Ti - Ne<br>\n",
    "ENTP — Ne - Ti - Fe - Si<br>\n",
    "ENFP — Ne - Fi - Te - Si<br>\n",
    "INTJ — Ni - Te - Fi - Se<br>\n",
    "INFJ — Ni - Fe - Ti - Se<br>\n",
    "ESTJ — Te - Si - Ne - Fi<br>\n",
    "ENTJ — Te - Ni - Se - Fi<br>\n",
    "ISTP — Ti - Se - Ni - Fe<br>\n",
    "INTP — Ti - Ne - Si - Fe<br>\n",
    "ESFJ — Fe - Si - Ne - Ti<br>\n",
    "ENFJ — Fe - Ni - Se - Ti<br>\n",
    "ISFP — Fi - Se - Ni - Te<br>\n",
    "INFP — Fi - Ne - Si - Te<br>"
   ]
  },
  {
   "cell_type": "code",
   "execution_count": 3,
   "metadata": {},
   "outputs": [],
   "source": [
    "#df[\"Ne\"] = df.apply(lambda x: df.iloc[x,0][])\n",
    "df[\"Ne\"] = [1 if x[-1] == 'P' and x[1] == 'N' else 0 for x in df.iloc[:,0]]\n",
    "df[\"Ni\"] = [1 if x[-1] == 'J' and x[1] == 'N' else 0 for x in df.iloc[:,0]]\n",
    "df[\"Se\"] = [1 if x[-1] == 'P' and x[1] == 'S' else 0 for x in df.iloc[:,0]]\n",
    "df[\"Si\"] = [1 if x[-1] == 'J' and x[1] == 'S' else 0 for x in df.iloc[:,0]]\n",
    "df[\"Fi\"] = [1 if x[-1] == 'P' and x[2] == 'F' else 0 for x in df.iloc[:,0]]\n",
    "df[\"Fe\"] = [1 if x[-1] == 'J' and x[2] == 'F' else 0 for x in df.iloc[:,0]]\n",
    "df[\"Ti\"] = [1 if x[-1] == 'P' and x[2] == 'T' else 0 for x in df.iloc[:,0]]\n",
    "df[\"Te\"] = [1 if x[-1] == 'J' and x[2] == 'T' else 0 for x in df.iloc[:,0]]\n",
    "\n",
    "\n",
    "\n"
   ]
  },
  {
   "cell_type": "code",
   "execution_count": null,
   "metadata": {},
   "outputs": [],
   "source": []
  },
  {
   "cell_type": "code",
   "execution_count": 4,
   "metadata": {
    "scrolled": true
   },
   "outputs": [
    {
     "data": {
      "text/plain": [
       "Text(0, 0.5, 'Count')"
      ]
     },
     "execution_count": 4,
     "metadata": {},
     "output_type": "execute_result"
    },
    {
     "data": {
      "image/png": "[encoded data removed]",
      "text/plain": [
       "<Figure size 432x288 with 1 Axes>"
      ]
     },
     "metadata": {},
     "output_type": "display_data"
    }
   ],
   "source": [
    "#pivot = pd.pivot_table(df, values=, index= df.columns[2:], columns=, aggfunc =np.count)\n",
    "#transposed = df.transpose()\n",
    "#transposed\n",
    "#transposed.drop([\"type\",\"posts\"],axis=0)\n",
    "\n",
    "functions = np.array(df.columns[2:])\n",
    "counts = df.iloc[:,2:].apply(np.sum,axis=0)\n",
    "plt.bar(functions,counts)\n",
    "plt.xlabel(\"Primary Perceiving-Judging Functions\")\n",
    "plt.ylabel(\"Count\")"
   ]
  },
  {
   "cell_type": "code",
   "execution_count": 5,
   "metadata": {
    "scrolled": false
   },
   "outputs": [
    {
     "data": {
      "text/plain": [
       "INFP    1832\n",
       "INFJ    1470\n",
       "INTP    1304\n",
       "INTJ    1091\n",
       "ENTP     685\n",
       "ENFP     675\n",
       "ISTP     337\n",
       "ISFP     271\n",
       "ENTJ     231\n",
       "ISTJ     205\n",
       "ENFJ     190\n",
       "ISFJ     166\n",
       "ESTP      89\n",
       "ESFP      48\n",
       "ESFJ      42\n",
       "ESTJ      39\n",
       "Name: type, dtype: int64"
      ]
     },
     "execution_count": 5,
     "metadata": {},
     "output_type": "execute_result"
    }
   ],
   "source": [
    "#show the counts for each MBTI Type\n",
    "df.iloc[:,0].value_counts()"
   ]
  },
  {
   "cell_type": "code",
   "execution_count": 6,
   "metadata": {},
   "outputs": [],
   "source": [
    "#The cognitive functions are only reliant on the last 3 characters of the type"
   ]
  },
  {
   "cell_type": "code",
   "execution_count": 7,
   "metadata": {
    "scrolled": false
   },
   "outputs": [
    {
     "name": "stdout",
     "output_type": "stream",
     "text": [
      "1664\n",
      "1664\n"
     ]
    },
    {
     "data": {
      "text/html": [
       "<div>\n",
       "<style scoped>\n",
       "    .dataframe tbody tr th:only-of-type {\n",
       "        vertical-align: middle;\n",
       "    }\n",
       "\n",
       "    .dataframe tbody tr th {\n",
       "        vertical-align: top;\n",
       "    }\n",
       "\n",
       "    .dataframe thead th {\n",
       "        text-align: right;\n",
       "    }\n",
       "</style>\n",
       "<table border=\"1\" class=\"dataframe\">\n",
       "  <thead>\n",
       "    <tr style=\"text-align: right;\">\n",
       "      <th></th>\n",
       "      <th>type</th>\n",
       "      <th>posts</th>\n",
       "      <th>Ne</th>\n",
       "      <th>Ni</th>\n",
       "      <th>Se</th>\n",
       "      <th>Si</th>\n",
       "      <th>Fi</th>\n",
       "      <th>Fe</th>\n",
       "      <th>Ti</th>\n",
       "      <th>Te</th>\n",
       "      <th>NFP</th>\n",
       "      <th>NFJ</th>\n",
       "      <th>NTP</th>\n",
       "      <th>NTJ</th>\n",
       "      <th>STJ</th>\n",
       "      <th>STP</th>\n",
       "      <th>SFP</th>\n",
       "      <th>SFJ</th>\n",
       "      <th>E</th>\n",
       "    </tr>\n",
       "  </thead>\n",
       "  <tbody>\n",
       "    <tr>\n",
       "      <th>0</th>\n",
       "      <td>INFP</td>\n",
       "      <td>'Math is a prison.  It has RIGID rules that ca...</td>\n",
       "      <td>1</td>\n",
       "      <td>0</td>\n",
       "      <td>0</td>\n",
       "      <td>0</td>\n",
       "      <td>1</td>\n",
       "      <td>0</td>\n",
       "      <td>0</td>\n",
       "      <td>0</td>\n",
       "      <td>1</td>\n",
       "      <td>0</td>\n",
       "      <td>0</td>\n",
       "      <td>0</td>\n",
       "      <td>0</td>\n",
       "      <td>0</td>\n",
       "      <td>0</td>\n",
       "      <td>0</td>\n",
       "      <td>0</td>\n",
       "    </tr>\n",
       "    <tr>\n",
       "      <th>1</th>\n",
       "      <td>INFP</td>\n",
       "      <td>'First Listen: 'Music For Shut-Ins' : NPR|||So...</td>\n",
       "      <td>1</td>\n",
       "      <td>0</td>\n",
       "      <td>0</td>\n",
       "      <td>0</td>\n",
       "      <td>1</td>\n",
       "      <td>0</td>\n",
       "      <td>0</td>\n",
       "      <td>0</td>\n",
       "      <td>1</td>\n",
       "      <td>0</td>\n",
       "      <td>0</td>\n",
       "      <td>0</td>\n",
       "      <td>0</td>\n",
       "      <td>0</td>\n",
       "      <td>0</td>\n",
       "      <td>0</td>\n",
       "      <td>0</td>\n",
       "    </tr>\n",
       "    <tr>\n",
       "      <th>2</th>\n",
       "      <td>INFP</td>\n",
       "      <td>'Have a nice morning from Prague btw. Spring i...</td>\n",
       "      <td>1</td>\n",
       "      <td>0</td>\n",
       "      <td>0</td>\n",
       "      <td>0</td>\n",
       "      <td>1</td>\n",
       "      <td>0</td>\n",
       "      <td>0</td>\n",
       "      <td>0</td>\n",
       "      <td>1</td>\n",
       "      <td>0</td>\n",
       "      <td>0</td>\n",
       "      <td>0</td>\n",
       "      <td>0</td>\n",
       "      <td>0</td>\n",
       "      <td>0</td>\n",
       "      <td>0</td>\n",
       "      <td>0</td>\n",
       "    </tr>\n",
       "    <tr>\n",
       "      <th>3</th>\n",
       "      <td>INFP</td>\n",
       "      <td>'Who are your favorite outdoor writers or whic...</td>\n",
       "      <td>1</td>\n",
       "      <td>0</td>\n",
       "      <td>0</td>\n",
       "      <td>0</td>\n",
       "      <td>1</td>\n",
       "      <td>0</td>\n",
       "      <td>0</td>\n",
       "      <td>0</td>\n",
       "      <td>1</td>\n",
       "      <td>0</td>\n",
       "      <td>0</td>\n",
       "      <td>0</td>\n",
       "      <td>0</td>\n",
       "      <td>0</td>\n",
       "      <td>0</td>\n",
       "      <td>0</td>\n",
       "      <td>0</td>\n",
       "    </tr>\n",
       "    <tr>\n",
       "      <th>4</th>\n",
       "      <td>INFP</td>\n",
       "      <td>'I don't really have a type but I think I'd be...</td>\n",
       "      <td>1</td>\n",
       "      <td>0</td>\n",
       "      <td>0</td>\n",
       "      <td>0</td>\n",
       "      <td>1</td>\n",
       "      <td>0</td>\n",
       "      <td>0</td>\n",
       "      <td>0</td>\n",
       "      <td>1</td>\n",
       "      <td>0</td>\n",
       "      <td>0</td>\n",
       "      <td>0</td>\n",
       "      <td>0</td>\n",
       "      <td>0</td>\n",
       "      <td>0</td>\n",
       "      <td>0</td>\n",
       "      <td>0</td>\n",
       "    </tr>\n",
       "  </tbody>\n",
       "</table>\n",
       "</div>"
      ],
      "text/plain": [
       "   type                                              posts  Ne  Ni  Se  Si  \\\n",
       "0  INFP  'Math is a prison.  It has RIGID rules that ca...   1   0   0   0   \n",
       "1  INFP  'First Listen: 'Music For Shut-Ins' : NPR|||So...   1   0   0   0   \n",
       "2  INFP  'Have a nice morning from Prague btw. Spring i...   1   0   0   0   \n",
       "3  INFP  'Who are your favorite outdoor writers or whic...   1   0   0   0   \n",
       "4  INFP  'I don't really have a type but I think I'd be...   1   0   0   0   \n",
       "\n",
       "   Fi  Fe  Ti  Te  NFP  NFJ  NTP  NTJ  STJ  STP  SFP  SFJ  E  \n",
       "0   1   0   0   0    1    0    0    0    0    0    0    0  0  \n",
       "1   1   0   0   0    1    0    0    0    0    0    0    0  0  \n",
       "2   1   0   0   0    1    0    0    0    0    0    0    0  0  \n",
       "3   1   0   0   0    1    0    0    0    0    0    0    0  0  \n",
       "4   1   0   0   0    1    0    0    0    0    0    0    0  0  "
      ]
     },
     "execution_count": 7,
     "metadata": {},
     "output_type": "execute_result"
    },
    {
     "data": {
      "image/png": "[encoded data removed]",
      "text/plain": [
       "<Figure size 432x288 with 1 Axes>"
      ]
     },
     "metadata": {},
     "output_type": "display_data"
    }
   ],
   "source": [
    "#  Si is the least common cognitive function.   \n",
    "#  Lets sample so that we get an equal amount of every cognitive function.\n",
    "#  len(df[df['Si'] == 1])\n",
    "from sklearn.utils import resample\n",
    "df[\"NFP\"] = [1 if x == 'INFP' or x =='ENFP' else 0 for x in df.iloc[:,0]]\n",
    "df[\"NFJ\"] = [1 if x == 'INFJ' or x == 'ENFJ' else 0 for x in df.iloc[:,0]]\n",
    "df[\"NTP\"] = [1 if x == 'ENTP' or x =='INTP' else 0 for x in df.iloc[:,0]]\n",
    "df[\"NTJ\"] = [1 if x == 'ENTJ' or x == 'INTJ' else 0 for x in df.iloc[:,0]]\n",
    "df[\"STJ\"] = [1 if x == 'ESTJ' or x == 'ISTJ' else 0 for x in df.iloc[:,0]]\n",
    "df[\"STP\"] = [1 if x == 'ESTP' or x == 'ISTP' else 0 for x in df.iloc[:,0]]\n",
    "df[\"SFP\"] = [1 if x == 'ESFP' or x == 'ISFP' else 0 for x in df.iloc[:,0]]\n",
    "df[\"SFJ\"] = [1 if x == 'ESFJ' or x == 'ISFJ' else 0 for x in df.iloc[:,0]]\n",
    "df[\"E\"] = [1 if x[0] == 'E' else 0 for x in df.iloc[:,0]]\n",
    "\n",
    "def resample_df(df,samples):\n",
    "    downsampled = resample(df[df[\"NFP\"] == 1], replace=False,n_samples=samples,random_state=10) # reproducible results\n",
    "    downsampled2 = resample(df[df[\"NFJ\"] == 1], replace=False,n_samples=samples,random_state=10) # reproducible results\n",
    "    downsampled3 = resample(df[df[\"NTP\"] == 1], replace=False,n_samples=samples,random_state=10) # reproducible results\n",
    "    downsampled4 = resample(df[df[\"NTJ\"] == 1], replace=False,n_samples=samples,random_state=10) # reproducible results\n",
    "    downsampled5 = resample(df[df[\"SFP\"] == 1], replace=False,n_samples=samples,random_state=10) # reproducible results\n",
    "    downsampled6 = resample(df[df[\"SFJ\"] == 1], replace=False,n_samples=samples,random_state=10) # reproducible results\n",
    "    downsampled7 = resample(df[df[\"STP\"] == 1], replace=False,n_samples=samples,random_state=10) # reproducible results\n",
    "    downsampled8 = resample(df[df[\"STJ\"] == 1], replace=False,n_samples=samples,random_state=10) # reproducible results\n",
    "    downsampled_df = pd.concat([downsampled,downsampled2,downsampled3,downsampled4,downsampled5,downsampled6,downsampled7,downsampled8])\n",
    "    return downsampled_df\n",
    "resample_df(df,208)\n",
    "\n",
    "#df.drop(columns=['SFP','SFJ','STJ','STP','NFP','NFJ','NTP','NTJ'])\n",
    "#downsampled_df = pd.concat([downsampled,downsampled2,downsampled3,downsampled4,downsampled5,downsampled6,downsampled7,downsampled8])\n",
    "downsampled_df = resample_df(df,208)\n",
    "downsampled_df.iloc[:,0].value_counts()\n",
    "print(len(downsampled_df))\n",
    "downsampled_df = downsampled_df.drop_duplicates(subset='posts', keep='first', inplace=False)\n",
    "print(len(downsampled_df))\n",
    "functions = np.array(downsampled_df.columns[2:10])\n",
    "counts = downsampled_df.iloc[:,2:10].apply(np.sum,axis=0)\n",
    "plt.bar(functions,counts)\n",
    "plt.xlabel(\"Primary Perceiving-Judging Functions\")\n",
    "plt.ylabel(\"Count\")\n",
    "#downsampled_df = downsampled_df.drop(columns=['SFP','SFJ','STJ','STP','NFP','NFJ','NTP','NTJ'])\n",
    "#downsampled_df.head()\n",
    "dfd = downsampled_df\n",
    "dfd = dfd.reset_index(drop=True)\n",
    "dfd.head()\n"
   ]
  },
  {
   "cell_type": "code",
   "execution_count": 8,
   "metadata": {
    "scrolled": false
   },
   "outputs": [
    {
     "name": "stdout",
     "output_type": "stream",
     "text": [
      "1664\n",
      "1408\n",
      "256\n"
     ]
    },
    {
     "data": {
      "text/plain": [
       "Text(0, 0.5, 'Count')"
      ]
     },
     "execution_count": 8,
     "metadata": {},
     "output_type": "execute_result"
    },
    {
     "data": {
      "image/png": "[encoded data removed]",
      "text/plain": [
       "<Figure size 432x288 with 1 Axes>"
      ]
     },
     "metadata": {},
     "output_type": "display_data"
    }
   ],
   "source": [
    "#split to train and test sets\n",
    "\n",
    "#posts_list = df['posts'][0].split('|||')\n",
    "np.random.seed(20)\n",
    "split = np.random.rand(dfd.shape[0])\n",
    "#train_df = dfd[split < .85]\n",
    "#test_df = dfd[split >= .85]\n",
    "print(len(dfd))\n",
    "train_df = resample_df(dfd,176)\n",
    "test_df = pd.concat([dfd,train_df]).drop_duplicates(keep=False)\n",
    "\n",
    "print(len(train_df))\n",
    "print(len(test_df))\n",
    "\n",
    "train_df = train_df.reset_index(drop=True)\n",
    "test_df = test_df.reset_index(drop=True)\n",
    "\n",
    "#print(test_df)\n",
    "functions = np.array(test_df.columns[2:10])\n",
    "counts = test_df.iloc[:,2:10].apply(np.sum,axis=0)\n",
    "plt.bar(functions,counts)\n",
    "plt.xlabel(\"Primary Perceiving-Judging Functions\")\n",
    "plt.ylabel(\"Count\")\n"
   ]
  },
  {
   "cell_type": "code",
   "execution_count": null,
   "metadata": {},
   "outputs": [],
   "source": []
  },
  {
   "cell_type": "code",
   "execution_count": 9,
   "metadata": {
    "scrolled": true
   },
   "outputs": [
    {
     "ename": "NameError",
     "evalue": "name 'linebreaks' is not defined",
     "output_type": "error",
     "traceback": [
      "\u001b[0;31m---------------------------------------------------------------------------\u001b[0m",
      "\u001b[0;31mNameError\u001b[0m                                 Traceback (most recent call last)",
      "\u001b[0;32m<ipython-input-9-a79c4bc07a4d>\u001b[0m in \u001b[0;36m<module>\u001b[0;34m\u001b[0m\n\u001b[1;32m     64\u001b[0m \u001b[0;31m# ps = [clean_posts(train_df,count)[0] for count in range(len(train_df))]\u001b[0m\u001b[0;34m\u001b[0m\u001b[0;34m\u001b[0m\u001b[0;34m\u001b[0m\u001b[0m\n\u001b[1;32m     65\u001b[0m \u001b[0;31m# print(len(ps))\u001b[0m\u001b[0;34m\u001b[0m\u001b[0;34m\u001b[0m\u001b[0;34m\u001b[0m\u001b[0m\n\u001b[0;32m---> 66\u001b[0;31m \u001b[0mtrain_df\u001b[0m\u001b[0;34m[\u001b[0m\u001b[0;34m'links'\u001b[0m\u001b[0;34m]\u001b[0m \u001b[0;34m=\u001b[0m \u001b[0;34m[\u001b[0m\u001b[0mclean_posts\u001b[0m\u001b[0;34m(\u001b[0m\u001b[0mtrain_df\u001b[0m\u001b[0;34m,\u001b[0m\u001b[0mcount\u001b[0m\u001b[0;34m)\u001b[0m\u001b[0;34m[\u001b[0m\u001b[0;36m0\u001b[0m\u001b[0;34m]\u001b[0m \u001b[0;32mfor\u001b[0m \u001b[0mcount\u001b[0m \u001b[0;32min\u001b[0m \u001b[0mrange\u001b[0m\u001b[0;34m(\u001b[0m\u001b[0mlen\u001b[0m\u001b[0;34m(\u001b[0m\u001b[0mtrain_df\u001b[0m\u001b[0;34m)\u001b[0m\u001b[0;34m)\u001b[0m\u001b[0;34m]\u001b[0m\u001b[0;34m\u001b[0m\u001b[0;34m\u001b[0m\u001b[0m\n\u001b[0m\u001b[1;32m     67\u001b[0m \u001b[0mtrain_df\u001b[0m\u001b[0;34m[\u001b[0m\u001b[0;34m'post_list'\u001b[0m\u001b[0;34m]\u001b[0m \u001b[0;34m=\u001b[0m \u001b[0;34m[\u001b[0m\u001b[0mclean_posts\u001b[0m\u001b[0;34m(\u001b[0m\u001b[0mtrain_df\u001b[0m\u001b[0;34m,\u001b[0m\u001b[0mcount\u001b[0m\u001b[0;34m)\u001b[0m\u001b[0;34m[\u001b[0m\u001b[0;36m1\u001b[0m\u001b[0;34m]\u001b[0m \u001b[0;32mfor\u001b[0m \u001b[0mcount\u001b[0m \u001b[0;32min\u001b[0m \u001b[0mrange\u001b[0m\u001b[0;34m(\u001b[0m\u001b[0mlen\u001b[0m\u001b[0;34m(\u001b[0m\u001b[0mtrain_df\u001b[0m\u001b[0;34m)\u001b[0m\u001b[0;34m)\u001b[0m\u001b[0;34m]\u001b[0m\u001b[0;34m\u001b[0m\u001b[0;34m\u001b[0m\u001b[0m\n\u001b[1;32m     68\u001b[0m \u001b[0mtrain_df\u001b[0m\u001b[0;34m[\u001b[0m\u001b[0;34m'Qmarks'\u001b[0m\u001b[0;34m]\u001b[0m \u001b[0;34m=\u001b[0m \u001b[0;34m[\u001b[0m\u001b[0mclean_posts\u001b[0m\u001b[0;34m(\u001b[0m\u001b[0mtrain_df\u001b[0m\u001b[0;34m,\u001b[0m\u001b[0mcount\u001b[0m\u001b[0;34m)\u001b[0m\u001b[0;34m[\u001b[0m\u001b[0;36m2\u001b[0m\u001b[0;34m]\u001b[0m \u001b[0;32mfor\u001b[0m \u001b[0mcount\u001b[0m \u001b[0;32min\u001b[0m \u001b[0mrange\u001b[0m\u001b[0;34m(\u001b[0m\u001b[0mlen\u001b[0m\u001b[0;34m(\u001b[0m\u001b[0mtrain_df\u001b[0m\u001b[0;34m)\u001b[0m\u001b[0;34m)\u001b[0m\u001b[0;34m]\u001b[0m\u001b[0;34m\u001b[0m\u001b[0;34m\u001b[0m\u001b[0m\n",
      "\u001b[0;32m<ipython-input-9-a79c4bc07a4d>\u001b[0m in \u001b[0;36m<listcomp>\u001b[0;34m(.0)\u001b[0m\n\u001b[1;32m     64\u001b[0m \u001b[0;31m# ps = [clean_posts(train_df,count)[0] for count in range(len(train_df))]\u001b[0m\u001b[0;34m\u001b[0m\u001b[0;34m\u001b[0m\u001b[0;34m\u001b[0m\u001b[0m\n\u001b[1;32m     65\u001b[0m \u001b[0;31m# print(len(ps))\u001b[0m\u001b[0;34m\u001b[0m\u001b[0;34m\u001b[0m\u001b[0;34m\u001b[0m\u001b[0m\n\u001b[0;32m---> 66\u001b[0;31m \u001b[0mtrain_df\u001b[0m\u001b[0;34m[\u001b[0m\u001b[0;34m'links'\u001b[0m\u001b[0;34m]\u001b[0m \u001b[0;34m=\u001b[0m \u001b[0;34m[\u001b[0m\u001b[0mclean_posts\u001b[0m\u001b[0;34m(\u001b[0m\u001b[0mtrain_df\u001b[0m\u001b[0;34m,\u001b[0m\u001b[0mcount\u001b[0m\u001b[0;34m)\u001b[0m\u001b[0;34m[\u001b[0m\u001b[0;36m0\u001b[0m\u001b[0;34m]\u001b[0m \u001b[0;32mfor\u001b[0m \u001b[0mcount\u001b[0m \u001b[0;32min\u001b[0m \u001b[0mrange\u001b[0m\u001b[0;34m(\u001b[0m\u001b[0mlen\u001b[0m\u001b[0;34m(\u001b[0m\u001b[0mtrain_df\u001b[0m\u001b[0;34m)\u001b[0m\u001b[0;34m)\u001b[0m\u001b[0;34m]\u001b[0m\u001b[0;34m\u001b[0m\u001b[0;34m\u001b[0m\u001b[0m\n\u001b[0m\u001b[1;32m     67\u001b[0m \u001b[0mtrain_df\u001b[0m\u001b[0;34m[\u001b[0m\u001b[0;34m'post_list'\u001b[0m\u001b[0;34m]\u001b[0m \u001b[0;34m=\u001b[0m \u001b[0;34m[\u001b[0m\u001b[0mclean_posts\u001b[0m\u001b[0;34m(\u001b[0m\u001b[0mtrain_df\u001b[0m\u001b[0;34m,\u001b[0m\u001b[0mcount\u001b[0m\u001b[0;34m)\u001b[0m\u001b[0;34m[\u001b[0m\u001b[0;36m1\u001b[0m\u001b[0;34m]\u001b[0m \u001b[0;32mfor\u001b[0m \u001b[0mcount\u001b[0m \u001b[0;32min\u001b[0m \u001b[0mrange\u001b[0m\u001b[0;34m(\u001b[0m\u001b[0mlen\u001b[0m\u001b[0;34m(\u001b[0m\u001b[0mtrain_df\u001b[0m\u001b[0;34m)\u001b[0m\u001b[0;34m)\u001b[0m\u001b[0;34m]\u001b[0m\u001b[0;34m\u001b[0m\u001b[0;34m\u001b[0m\u001b[0m\n\u001b[1;32m     68\u001b[0m \u001b[0mtrain_df\u001b[0m\u001b[0;34m[\u001b[0m\u001b[0;34m'Qmarks'\u001b[0m\u001b[0;34m]\u001b[0m \u001b[0;34m=\u001b[0m \u001b[0;34m[\u001b[0m\u001b[0mclean_posts\u001b[0m\u001b[0;34m(\u001b[0m\u001b[0mtrain_df\u001b[0m\u001b[0;34m,\u001b[0m\u001b[0mcount\u001b[0m\u001b[0;34m)\u001b[0m\u001b[0;34m[\u001b[0m\u001b[0;36m2\u001b[0m\u001b[0;34m]\u001b[0m \u001b[0;32mfor\u001b[0m \u001b[0mcount\u001b[0m \u001b[0;32min\u001b[0m \u001b[0mrange\u001b[0m\u001b[0;34m(\u001b[0m\u001b[0mlen\u001b[0m\u001b[0;34m(\u001b[0m\u001b[0mtrain_df\u001b[0m\u001b[0;34m)\u001b[0m\u001b[0;34m)\u001b[0m\u001b[0;34m]\u001b[0m\u001b[0;34m\u001b[0m\u001b[0;34m\u001b[0m\u001b[0m\n",
      "\u001b[0;32m<ipython-input-9-a79c4bc07a4d>\u001b[0m in \u001b[0;36mclean_posts\u001b[0;34m(df, index)\u001b[0m\n\u001b[1;32m     31\u001b[0m             \u001b[0mcommas\u001b[0m\u001b[0;34m.\u001b[0m\u001b[0mappend\u001b[0m\u001b[0;34m(\u001b[0m\u001b[0mpost\u001b[0m\u001b[0;34m.\u001b[0m\u001b[0mcount\u001b[0m\u001b[0;34m(\u001b[0m\u001b[0;34m','\u001b[0m\u001b[0;34m)\u001b[0m \u001b[0;34m/\u001b[0m \u001b[0mlen\u001b[0m\u001b[0;34m(\u001b[0m\u001b[0mpost\u001b[0m\u001b[0;34m)\u001b[0m\u001b[0;34m)\u001b[0m\u001b[0;34m\u001b[0m\u001b[0;34m\u001b[0m\u001b[0m\n\u001b[1;32m     32\u001b[0m             \u001b[0mQmarks\u001b[0m\u001b[0;34m.\u001b[0m\u001b[0mappend\u001b[0m\u001b[0;34m(\u001b[0m\u001b[0mpost\u001b[0m\u001b[0;34m.\u001b[0m\u001b[0mcount\u001b[0m\u001b[0;34m(\u001b[0m\u001b[0;34m'?'\u001b[0m\u001b[0;34m)\u001b[0m \u001b[0;34m/\u001b[0m \u001b[0mlen\u001b[0m\u001b[0;34m(\u001b[0m\u001b[0mpost\u001b[0m\u001b[0;34m)\u001b[0m\u001b[0;34m)\u001b[0m\u001b[0;34m\u001b[0m\u001b[0;34m\u001b[0m\u001b[0m\n\u001b[0;32m---> 33\u001b[0;31m             \u001b[0mlinebreaks\u001b[0m\u001b[0;34m.\u001b[0m\u001b[0mappend\u001b[0m\u001b[0;34m(\u001b[0m\u001b[0mpost\u001b[0m\u001b[0;34m.\u001b[0m\u001b[0mcount\u001b[0m\u001b[0;34m(\u001b[0m\u001b[0;34m'\\n'\u001b[0m\u001b[0;34m)\u001b[0m \u001b[0;34m/\u001b[0m \u001b[0mlen\u001b[0m\u001b[0;34m(\u001b[0m\u001b[0mpost\u001b[0m\u001b[0;34m)\u001b[0m\u001b[0;34m)\u001b[0m\u001b[0;34m\u001b[0m\u001b[0;34m\u001b[0m\u001b[0m\n\u001b[0m\u001b[1;32m     34\u001b[0m             \u001b[0mexclamations\u001b[0m\u001b[0;34m.\u001b[0m\u001b[0mappend\u001b[0m\u001b[0;34m(\u001b[0m\u001b[0mpost\u001b[0m\u001b[0;34m.\u001b[0m\u001b[0mcount\u001b[0m\u001b[0;34m(\u001b[0m\u001b[0;34m'!'\u001b[0m\u001b[0;34m)\u001b[0m \u001b[0;34m/\u001b[0m \u001b[0mlen\u001b[0m\u001b[0;34m(\u001b[0m\u001b[0mpost\u001b[0m\u001b[0;34m)\u001b[0m\u001b[0;34m)\u001b[0m\u001b[0;34m\u001b[0m\u001b[0;34m\u001b[0m\u001b[0m\n\u001b[1;32m     35\u001b[0m         \u001b[0;32melse\u001b[0m\u001b[0;34m:\u001b[0m\u001b[0;34m\u001b[0m\u001b[0;34m\u001b[0m\u001b[0m\n",
      "\u001b[0;31mNameError\u001b[0m: name 'linebreaks' is not defined"
     ]
    }
   ],
   "source": [
    "#def clean_posts():\n",
    "import re\n",
    "from collections import Counter \n",
    "def clean_posts(df,index):\n",
    "    posts_list = df['posts'][index].split('|||')\n",
    "    count = 0\n",
    "    #posts_list = np.array(posts_list)\n",
    "    #print(len(posts_list))\n",
    "    links = []\n",
    "    posts = []\n",
    "    Qmarks = []\n",
    "    commas = []\n",
    "    #linebreaks = []\n",
    "    exclamations = []\n",
    "    length = len(posts_list)\n",
    "    #print(length)\n",
    "    for count,post in enumerate(posts_list):\n",
    "        link = re.findall('http[s]?://(?:[a-zA-Z]|[0-9]|[$-_@.&+]|[!*\\(\\), ]|(?:%[0-9a-fA-F][0-9a-fA-F]))+', post) \n",
    "        if(link!=[]):\n",
    "            links.append(link)\n",
    "#         else:\n",
    "#             links.append([])\n",
    "            #print(len(post))\n",
    "            \n",
    "#         commas.append(post.count(','))\n",
    "#         Qmarks.append(post.count('?'))\n",
    "#         linebreaks.append(post.count('\\n'))\n",
    "#         exclamations.append(post.count('!'))\n",
    "            \n",
    "        if(len(post) > 0):\n",
    "            commas.append(post.count(',') / len(post))\n",
    "            Qmarks.append(post.count('?') / len(post))\n",
    "            #linebreaks.append(post.count('\\n') / len(post))\n",
    "            exclamations.append(post.count('!') / len(post))\n",
    "        else:\n",
    "            commas.append(0)\n",
    "            Qmarks.append(0)\n",
    "            #linebreaks.append(0)\n",
    "            exclamations.append(0)\n",
    "        posts.append(post)\n",
    "        #count+=1\n",
    "    #print(len(links),len(posts))\n",
    "    return [links, posts, np.sum(Qmarks), np.sum(commas), np.sum(exclamations)]\n",
    "#clean_posts(0)[1]\n",
    "# dfd['links'] = [clean_posts(dfd,count)[0] for count in range(len(dfd))]\n",
    "# dfd['post_list'] = [clean_posts(dfd,count)[1] for count in range(len(dfd))]\n",
    "def clean_df(df):\n",
    "    df['links'] = [clean_posts(df,count)[0] for count in range(len(df))]\n",
    "    df['post_list'] = [clean_posts(df,count)[1] for count in range(len(df))]\n",
    "    df['Qmarks'] = [clean_posts(df,count)[2] for count in range(len(df))]\n",
    "    #df['linebreaks'] = [clean_posts(df,count)[4] for count in range(len(df))]\n",
    "    df['commas'] = [clean_posts(df,count)[3] for count in range(len(df))]\n",
    "    df['exclamations'] = [clean_posts(df,count)[4] for count in range(len(df))]\n",
    "\n",
    "# print(len(clean_posts(train_df,2)[2]))\n",
    "# print(len(clean_posts(train_df,2)[3]))\n",
    "# print(len(clean_posts(train_df,2)[1]))\n",
    "#print((clean_posts(train_df,1)[4]))\n",
    "# print(len(clean_posts(train_df,2)[5]))\n",
    "# print(clean_posts(train_df,1)[3])\n",
    "\n",
    "# qs = [clean_posts(df,count)[2] for count in range(len(df))]\n",
    "# print(len(qs))\n",
    "# ps = [clean_posts(train_df,count)[0] for count in range(len(train_df))]\n",
    "# print(len(ps))\n",
    "train_df['links'] = [clean_posts(train_df,count)[0] for count in range(len(train_df))]\n",
    "train_df['post_list'] = [clean_posts(train_df,count)[1] for count in range(len(train_df))]\n",
    "train_df['Qmarks'] = [clean_posts(train_df,count)[2] for count in range(len(train_df))]\n",
    "#train_df['linebreaks'] = [clean_posts(train_df,count)[4] for count in range(len(train_df))]\n",
    "train_df['commas'] = [clean_posts(train_df,count)[3] for count in range(len(train_df))]\n",
    "train_df['exclamations'] = [clean_posts(train_df,count)[5] for count in range(len(train_df))]\n"
   ]
  },
  {
   "cell_type": "code",
   "execution_count": null,
   "metadata": {},
   "outputs": [],
   "source": [
    "def drop_irrelevant(df):\n",
    "    df = df.dropna()\n",
    "    df = df.drop(columns=[\"posts\",\"type\"])\n",
    "    df = df.drop(columns=['SFP','SFJ','STJ','STP','NFP','NFJ','NTP','NTJ'])\n",
    "    return df\n",
    "train_df = drop_irrelevant(train_df)"
   ]
  },
  {
   "cell_type": "code",
   "execution_count": null,
   "metadata": {},
   "outputs": [],
   "source": [
    "#df['links'][0]\n",
    "#df['links'][0]\n",
    "#for link in df['links'][0]:\n",
    "    #urls = re.findall('http[s]?://(?:[a-zA-Z]|[0-9]|[$-_@.&+]|[!*\\(\\),]|(?:%[0-9a-fA-F][0-9a-fA-F]))+', link)\n",
    "#df['post_list'][0]\n",
    "train_df.corr()"
   ]
  },
  {
   "cell_type": "code",
   "execution_count": null,
   "metadata": {},
   "outputs": [],
   "source": [
    "import nltk\n",
    "nltk.download('punkt')\n",
    "import nltk.tokenize\n",
    "from nltk.tokenize import word_tokenize\n",
    "#from tokenize import tokenize, untokenize\n",
    "#tokenize(df['links'][0][0])"
   ]
  },
  {
   "cell_type": "code",
   "execution_count": null,
   "metadata": {},
   "outputs": [],
   "source": [
    "def average_post_length(df,count):\n",
    "    return np.mean([len(x) for x in df['post_list'][count]])\n",
    "train_df['average_post_length'] = [average_post_length(train_df,x) for x in range(len(train_df))]\n"
   ]
  },
  {
   "cell_type": "code",
   "execution_count": null,
   "metadata": {
    "scrolled": false
   },
   "outputs": [],
   "source": [
    "def get_counts(df):\n",
    "    df['post_count'] = [len(x) for x in df['post_list']]\n",
    "    df['link_count'] = [len(x) for x in df['links']]\n",
    "get_counts(train_df)\n",
    "#dfd.head()"
   ]
  },
  {
   "cell_type": "code",
   "execution_count": null,
   "metadata": {},
   "outputs": [],
   "source": [
    "# temp1 = train_df\n",
    "# from sklearn.feature_extraction.text import TfidfVectorizer\n",
    "# v = TfidfVectorizer()\n",
    "# response = [v.fit_transform(p) for p in temp1['post_list']]\n",
    "# temp1['sparse'] = [r for r in response]"
   ]
  },
  {
   "cell_type": "code",
   "execution_count": null,
   "metadata": {},
   "outputs": [],
   "source": [
    "# temp1.sparse"
   ]
  },
  {
   "cell_type": "code",
   "execution_count": null,
   "metadata": {
    "scrolled": false
   },
   "outputs": [],
   "source": [
    "from nltk.corpus import stopwords\n",
    "from nltk.tokenize import sent_tokenize\n",
    "import string\n",
    "def post_info(df,index):\n",
    "    words = []\n",
    "    sent_lengths = []\n",
    "    sents_per_post = []\n",
    "    words_per_sent = []\n",
    "    word_lengths = []\n",
    "    words_per_post = []\n",
    "    len_per_post = []\n",
    "    total_len = 0\n",
    "    total_words = 0\n",
    "    \n",
    "    for post in df['post_list'][index]:\n",
    "        total_len += len(post)\n",
    "        len_per_post.append(len(post))\n",
    "        #returns a list of sentences in the post\n",
    "        sent = sent_tokenize(post)\n",
    "        #get the amount of sentences in the post\n",
    "        sents_per_post.append(len(sent))\n",
    "        #get the amount of words in a sentece\n",
    "        for s in sent:\n",
    "            sent_lengths.append(len(s))\n",
    "            words_in_sentence = s.split(' ')\n",
    "            words_per_sent.append(len(words_in_sentence))\n",
    "        word = post.split(' ')\n",
    "        table = str.maketrans('', '', string.punctuation)\n",
    "        stripped = [w.translate(table) for w in word]\n",
    "        for w in stripped:\n",
    "            if(w != ''):\n",
    "                word_lengths.append(len(w))\n",
    "                words.append(w.lower())\n",
    "        words_per_post.append(len(stripped))\n",
    "        total_words += len(stripped)\n",
    "\n",
    "    avg_sent_length = np.mean(sent_lengths)\n",
    "    avg_sents_per_post = np.mean(sents_per_post)\n",
    "    avg_word_length = np.mean(word_lengths)\n",
    "    avg_words_per_sent = np.mean(words_per_sent)\n",
    "    avg_words_per_post = np.mean(words_per_post)\n",
    "    avg_len_per_post = np.mean(len_per_post)\n",
    "    \n",
    "    word_counts = {}\n",
    "    for w in words:\n",
    "        #word = w.strip(unwanted_chars)\n",
    "        if w not in word_counts:\n",
    "            word_counts[w] = 0 \n",
    "        word_counts[w]+=1\n",
    "    wc = sorted(word_counts.items(), key=lambda w:w[1], reverse=True)\n",
    "    wc = [list(e) for e in wc]\n",
    "#     for w in wc:\n",
    "#         if(w[1] == 1):\n",
    "#             #print(w)\n",
    "#             wc.remove(w)\n",
    "\n",
    "    return [wc, total_words, avg_words_per_post, avg_words_per_sent, avg_sent_length, avg_word_length, avg_sents_per_post, avg_len_per_post, total_len]\n",
    "#post_info(train_df,1)[0]"
   ]
  },
  {
   "cell_type": "code",
   "execution_count": null,
   "metadata": {},
   "outputs": [],
   "source": [
    "#post_infos[1][1]\n",
    "def add_word_struct_info(df):\n",
    "    post_infos = [post_info(df,index) for index in range(len(df))]\n",
    "    df['total_words'] = [post_infos[x][1] for x in range(len(df))]\n",
    "    df['avg_words_per_post'] = [post_infos[x][2] for x in range(len(df))]\n",
    "    df['avg_words_per_sent'] = [post_infos[x][3] for x in range(len(df))]\n",
    "    df['avg_sent_length'] = [post_infos[x][4] for x in range(len(df))]\n",
    "    df['avg_word_length'] = [post_infos[x][5] for x in range(len(df))]\n",
    "    df['avg_sents_per_post'] = [post_infos[x][6] for x in range(len(df))]\n",
    "    df['avg_len_per_post'] = [post_infos[x][7] for x in range(len(df))]\n",
    "    df['total_len'] = [post_infos[x][8] for x in range(len(df))]\n",
    "    \n",
    "add_word_struct_info(train_df)"
   ]
  },
  {
   "cell_type": "code",
   "execution_count": null,
   "metadata": {
    "scrolled": true
   },
   "outputs": [],
   "source": [
    "train_df.head()\n",
    "def get_corr_info(df):\n",
    "    for_corr = train_df.drop(columns=[\"links\",\"post_list\"])\n",
    "    c = for_corr.corr().iloc[8:,:8]\n",
    "    return c\n",
    "#sb.heatmap(c)\n",
    "#get_corr_info(df)"
   ]
  },
  {
   "cell_type": "code",
   "execution_count": null,
   "metadata": {
    "scrolled": true
   },
   "outputs": [],
   "source": [
    "def link_info(df,index):\n",
    "    websites = []\n",
    "    total_links = 0\n",
    "    link_count = 0\n",
    "    for link in df['links'][index]:\n",
    "        link_count += 1\n",
    "        total_links+=1\n",
    "        link = link[0]\n",
    "        tld = '.com'\n",
    "        tld_index = link.find(tld,0)\n",
    "        \n",
    "        if(tld_index != -1):\n",
    "            link.partition(\".\")[0]\n",
    "            domain = re.match(\"(.*?).com\",link).group()\n",
    "            until_tld = domain.partition(\".com\")[0]\n",
    "            rev_until_tld = until_tld[::-1]\n",
    "            domain_name = rev_until_tld.partition(\"/\")[0][::-1]\n",
    "            domain_name = domain_name[::-1].partition(\".\")[0][::-1]\n",
    "            websites.append(domain_name)\n",
    "    sites_count = {}\n",
    "    for w in websites:\n",
    "        if w not in sites_count:\n",
    "            sites_count[w] = 0 \n",
    "        sites_count[w]+=1\n",
    "    sc = sorted(sites_count.items(), key=lambda w:w[1], reverse=True)\n",
    "    sc = [list(e) for e in sc]\n",
    "    has_links = 1\n",
    "    if(sc == []):\n",
    "        has_links = 0\n",
    "    return [sc,has_links,link_count]\n",
    "link_info(train_df,0)\n",
    "    "
   ]
  },
  {
   "cell_type": "code",
   "execution_count": null,
   "metadata": {},
   "outputs": [],
   "source": [
    "def add_link_cols(df):\n",
    "    df['has_links'] = [link_info(df,index)[1] for index in range(len(df))]\n",
    "    df['sites_posted'] = [link_info(df,index)[0] for index in range(len(df))]\n",
    "    df['link_count'] = [link_info(df,index)[2] for index in range(len(df))]\n",
    "add_link_cols(train_df)\n",
    "#train_df['has_links']"
   ]
  },
  {
   "cell_type": "code",
   "execution_count": null,
   "metadata": {
    "scrolled": false
   },
   "outputs": [],
   "source": [
    "def get_top_sites(df):\n",
    "    links = [link_info(df,index)[0] for index in range(len(df))]\n",
    "    top_sites = {}\n",
    "    for info in links:\n",
    "        if(info!=[]):\n",
    "            for d in info:\n",
    "                if d[0] not in top_sites:\n",
    "                    top_sites[d[0]] = 0\n",
    "                top_sites[d[0]] += d[1]\n",
    "    ts = sorted(top_sites.items(), key=lambda s:s[1], reverse=True)\n",
    "    ts = [list(e) for e in ts]\n",
    "    return ts\n",
    "#get_top_sites(train_df)\n",
    "\n",
    "# Website Name, total times link to that website was posted across total posts"
   ]
  },
  {
   "cell_type": "code",
   "execution_count": null,
   "metadata": {},
   "outputs": [],
   "source": [
    "def get_top_words(df):\n",
    "    words = [post_info(df,index)[0] for index in range(len(df))]\n",
    "    top_words = {}\n",
    "    for word in words:\n",
    "        if(word!=[]):\n",
    "            for w in word:\n",
    "                if w[0] not in top_words:\n",
    "                    top_words[w[0]] = 0\n",
    "                top_words[w[0]] += w[1]\n",
    "    tw = sorted(top_words.items(), key=lambda x:x[1], reverse=True)\n",
    "    tw = [list(e) for e in tw]\n",
    "    return tw\n"
   ]
  },
  {
   "cell_type": "code",
   "execution_count": null,
   "metadata": {
    "scrolled": false
   },
   "outputs": [],
   "source": [
    "sites_posted = train_df['sites_posted']\n",
    "#sites_posted[0][0][0]\n",
    "sites = [sites_posted[i][0][0] if sites_posted[i] != [] else ' ' for i in range(len(train_df))]\n",
    "#get_top_sites(train_df)\n",
    "#train_df['sites_posted'][0][0][0]\n",
    "#sites[0] == 'youtube'\n",
    "youtube = [True if s == 'tumblr' else False for s in sites]\n",
    "t = train_df[youtube]\n",
    "functions = np.array(t.columns[:8])\n",
    "counts = t.iloc[:,:8].apply(np.sum,axis=0)\n",
    "plt.bar(functions,counts)\n",
    "plt.xlabel(\"Primary Perceiving-Judging Functions\")\n",
    "plt.ylabel(\"Count\")\n"
   ]
  },
  {
   "cell_type": "code",
   "execution_count": null,
   "metadata": {
    "scrolled": true
   },
   "outputs": [],
   "source": [
    "top_words = [post_info(train_df,i)[0] for i in range(len(train_df))]\n",
    "top_words_by_index = top_words[0]\n",
    "top_words_overall = get_top_words(train_df)\n",
    "all_words = [t[0] for t in top_words_overall]\n",
    "all_wcounts = [t[1] for t in top_words_overall]\n",
    "#top_words_overall\n",
    "#all_words[:15]\n",
    "#plt.bar(all_words[:15],all_wcounts[:15])\n",
    "# self_centered = [True if t != 'I' else False for t in tw]\n",
    "# s = train_df[self_centered]\n",
    "# #train_df[train_df[]]\n",
    "# functions = np.array(s.columns[:8])\n",
    "# counts = s.iloc[:,:8].apply(np.sum,axis=0)\n",
    "# plt.bar(functions,counts)\n",
    "# plt.xlabel(\"Primary Perceiving-Judging Functions\")\n",
    "# plt.ylabel(\"Count\")\n"
   ]
  },
  {
   "cell_type": "code",
   "execution_count": null,
   "metadata": {
    "scrolled": true
   },
   "outputs": [],
   "source": [
    "all_words = [t[0] for t in top_words_overall]\n",
    "all_wcounts = [t[1] for t in top_words_overall]\n"
   ]
  },
  {
   "cell_type": "code",
   "execution_count": null,
   "metadata": {},
   "outputs": [],
   "source": [
    "plt.barh(all_words[:20][::-1],all_wcounts[:20][::-1])\n",
    "plt.title(\"Most Common Words\")\n",
    "plt.xlabel(\"Word Count\")\n",
    "plt.ylabel(\"Word\")"
   ]
  },
  {
   "cell_type": "code",
   "execution_count": null,
   "metadata": {},
   "outputs": [],
   "source": [
    "import nltk\n",
    "from nltk.corpus import stopwords\n",
    "stop_words = set(stopwords.words('english'))\n",
    "#sws = [word for word in all_words if word in stop_words]\n",
    "#non_sws = [[word,index] for index,word in enumerate(all_words) if word not in stop_words]\n",
    "stop_words = list(stop_words)\n",
    "punctuationless_stop_words = [\"ive\",\"im\",\"would\",\"should\",\"is\",\"ill\",\"wouldnt\",\"shouldnt\",\"isnt\",\"didnt\",\"dont\",\"wont\",\"cant\",\"couldnt\"]\n",
    "for w in punctuationless_stop_words:\n",
    "    stop_words.append(w)\n",
    "sws = [[t[0],t[1]] for t in top_words_overall if t[0] in stop_words]\n",
    "non_sws = [[t[0],t[1]] for t in top_words_overall if t[0] not in stop_words]\n",
    "def get_indeces(l,index,end):\n",
    "    return [t[index] for t in l[:end]]\n"
   ]
  },
  {
   "cell_type": "code",
   "execution_count": null,
   "metadata": {
    "scrolled": true
   },
   "outputs": [],
   "source": [
    "#Most Common Stop Words\n",
    "X = get_indeces(sws,0,20)[::-1]\n",
    "y = get_indeces(sws,1,20)[::-1]\n",
    "plt.title(\"Most Common Overall Stop Words\")\n",
    "plt.barh(X,y)\n",
    "plt.ylabel(\"Stop Words\")\n",
    "plt.xlabel(\"Count\")"
   ]
  },
  {
   "cell_type": "code",
   "execution_count": null,
   "metadata": {
    "scrolled": true
   },
   "outputs": [],
   "source": [
    "#Most Common Non-Stop Words\n",
    "X = get_indeces(non_sws,0,20)[::-1]\n",
    "y = get_indeces(non_sws,1,20)[::-1]\n",
    "plt.title(\"Most Common Overall Non Stop Words\")\n",
    "plt.barh(X,y)\n",
    "plt.ylabel(\"Non Stop Words\")\n",
    "plt.xlabel(\"Count\")"
   ]
  },
  {
   "cell_type": "code",
   "execution_count": null,
   "metadata": {},
   "outputs": [],
   "source": [
    "temp = train_df\n",
    "def wordlist(word,temp):\n",
    "    like_list = []\n",
    "    for i, row in enumerate(temp.itertuples()):\n",
    "    #for t in range(len(temp)):\n",
    "        info = post_info(temp,i)\n",
    "        words_arr = info[0]\n",
    "        word_count = info[1]\n",
    "        like_count = 0\n",
    "        for w in words_arr:\n",
    "            if(w[0] == word):\n",
    "                like_count = w[1]\n",
    "        like_list.append(like_count / word_count)\n",
    "    return like_list\n",
    "like_list = wordlist(\"i\",temp)         \n",
    "         \n",
    "         \n",
    "         \n",
    "         "
   ]
  },
  {
   "cell_type": "code",
   "execution_count": null,
   "metadata": {
    "scrolled": true
   },
   "outputs": [],
   "source": [
    "\n",
    "\n",
    "\n",
    "\n",
    "def add_word_columns(temp,start,end,words):\n",
    "    for i in range(start,end):\n",
    "        print(words[i])\n",
    "        word = words[i][0]\n",
    "        like_list = wordlist(word, temp)\n",
    "        print(like_list[0])\n",
    "        temp[word] = like_list\n",
    "        print(temp[word])\n",
    "        print(i)\n",
    "\n",
    "\n",
    "#add_word_columns(temp,1,21,non_sws)\n",
    "#clean_df(temp)\n",
    "add_word_columns(temp,0,60,non_sws)\n",
    "\n",
    "\n",
    "#wordlist(all_words[0],temp)"
   ]
  },
  {
   "cell_type": "code",
   "execution_count": null,
   "metadata": {},
   "outputs": [],
   "source": [
    "# import cProfile\n",
    "# import pstats\n",
    "# import my_slow_module\n",
    "\n",
    "# from cymem.cymem cimport Pool\n",
    "# from random import random\n",
    "import spacy\n",
    "NLPLagnguageType = spacy.load('en')\n",
    "text = NLPLanguageType('Earth Revolves around the sun.')\n",
    "# Iterating over the text\n",
    "for token in text:\n",
    "   print(token.text,token_pos_)\n"
   ]
  },
  {
   "cell_type": "code",
   "execution_count": 38,
   "metadata": {
    "scrolled": true
   },
   "outputs": [],
   "source": [
    "# #temp.corr().values\n",
    "# s = temp.corr().unstack()\n",
    "# so = s.sort_values(kind=\"quicksort\")\n",
    "# temp.columns[25:64]\n",
    "# word_corr = temp.iloc[:,25:64].corr()\n",
    "# #sb.heatmap(temp.iloc[:,25:64].corr())\n",
    "# word_corr"
   ]
  },
  {
   "cell_type": "code",
   "execution_count": null,
   "metadata": {},
   "outputs": [],
   "source": []
  },
  {
   "cell_type": "code",
   "execution_count": 39,
   "metadata": {},
   "outputs": [],
   "source": [
    "# The amount of likes is mildly negatively correlated (-.267) with the average word length\n",
    "# It is also slightly positively correlated with 'Fi' Cognitive function\n",
    "# temp.like_per_word.corr(temp.avg_word_length)# -.267\n",
    "# temp.like_per_word.corr(temp.Fi) # .127\n"
   ]
  },
  {
   "cell_type": "code",
   "execution_count": 40,
   "metadata": {},
   "outputs": [
    {
     "name": "stdout",
     "output_type": "stream",
     "text": [
      "you\n",
      "6\n",
      "your\n",
      "37\n",
      "youre\n",
      "96\n",
      "youve\n",
      "435\n",
      "youll\n",
      "630\n",
      "youd\n",
      "932\n",
      "yours\n",
      "1216\n"
     ]
    }
   ],
   "source": [
    "\n",
    "\n",
    "first_person = ['i','im','ill','id','ive']\n",
    "second_person = ['you','yours','youre','youve','youd','your','youll']\n",
    "third_person = ['they','their','them','theyll','theyd','theyve','he','his','him','her','hers','shed','shes','hes','hed']\n",
    "\n",
    "for c,w in enumerate(all_words):\n",
    "    if w in second_person:\n",
    "        print(w)\n",
    "        print(c)\n"
   ]
  },
  {
   "cell_type": "code",
   "execution_count": 41,
   "metadata": {},
   "outputs": [],
   "source": [
    "def find_corr(df,word1,word2):\n",
    "    corr = df[word1].corr(df[word2])\n",
    "    print(corr)\n",
    "\n",
    "\n",
    "\n",
    "\n",
    "# find_corr(temp,'i','Fi')\n",
    "# find_corr(temp,'you','Fi')\n",
    "# find_corr(temp,'you','Fe')\n",
    "\n",
    "#temp['id'].corr(temp['youd'])"
   ]
  },
  {
   "cell_type": "code",
   "execution_count": null,
   "metadata": {},
   "outputs": [],
   "source": []
  },
  {
   "cell_type": "code",
   "execution_count": null,
   "metadata": {},
   "outputs": [],
   "source": []
  },
  {
   "cell_type": "code",
   "execution_count": 42,
   "metadata": {},
   "outputs": [],
   "source": [
    "#1408 Total Entries\n"
   ]
  },
  {
   "cell_type": "code",
   "execution_count": 43,
   "metadata": {},
   "outputs": [],
   "source": [
    "#temp[temp['Si'] == 1] #352 each of every cognitive Function"
   ]
  },
  {
   "cell_type": "code",
   "execution_count": 44,
   "metadata": {},
   "outputs": [
    {
     "ename": "SyntaxError",
     "evalue": "unexpected EOF while parsing (<ipython-input-44-963ec2a707fe>, line 10)",
     "output_type": "error",
     "traceback": [
      "\u001b[0;36m  File \u001b[0;32m\"<ipython-input-44-963ec2a707fe>\"\u001b[0;36m, line \u001b[0;32m10\u001b[0m\n\u001b[0;31m    #find_high_corr(temp)\u001b[0m\n\u001b[0m                         ^\u001b[0m\n\u001b[0;31mSyntaxError\u001b[0m\u001b[0;31m:\u001b[0m unexpected EOF while parsing\n"
     ]
    }
   ],
   "source": [
    "def find_high_corr(df):\n",
    "    corrs = []\n",
    "    length = len(df)\n",
    "    for i in range(length):\n",
    "        l = len(df) - i\n",
    "        k = df.iloc[:,i] + \" - \" + df.iloc[:,l]\n",
    "        v = df.iloc[:,i].corr(df.iloc[:,l]\n",
    "        #corrs.append([k,v])\n",
    "    #return corrs\n",
    "#find_high_corr(temp)"
   ]
  },
  {
   "cell_type": "code",
   "execution_count": 45,
   "metadata": {},
   "outputs": [],
   "source": [
    "#temp = temp.drop(columns=['like_per_word'])"
   ]
  },
  {
   "cell_type": "code",
   "execution_count": 46,
   "metadata": {
    "scrolled": true
   },
   "outputs": [],
   "source": [
    "#temp.iloc[:,81]\n",
    "#temp.iloc[:,0].corr(temp.iloc[:,80])\n",
    "def find_high_corr(df):\n",
    "    corrs = []\n",
    "    done_already = []\n",
    "    length = len(df.columns) - 1\n",
    "    for i in range(length):\n",
    "        for j in range(length):\n",
    "            first = df.iloc[:,i]\n",
    "            second = df.iloc[:,j]\n",
    "            first_c = df.columns[i]\n",
    "            second_c = df.columns[j]\n",
    "            if([second_c,first_c] in done_already):\n",
    "                (\"Duplicate\")\n",
    "            else:\n",
    "                if(first_c == second_c):\n",
    "                    (\"Duplicate\")\n",
    "                else:\n",
    "                    if(first.dtype == 'O' or second.dtype == 'O'):\n",
    "                        (\"Not a number\")\n",
    "                    else:\n",
    "                        k = (f\"{first} - {second}\")\n",
    "                        v = first.corr(second)\n",
    "                        corrs.append([first_c,second_c,v])\n",
    "                done_already.append([first_c,second_c])\n",
    "    corr_df = pd.DataFrame(corrs,columns = [\"Factor 1\", \"Factor 2\", \"Correlation\"])\n",
    "    corr_df = corr_df.sort_values(\"Correlation\", ascending=False)\n",
    "    return corr_df\n",
    "\n",
    "corr_df = find_high_corr(temp)"
   ]
  },
  {
   "cell_type": "code",
   "execution_count": 47,
   "metadata": {},
   "outputs": [],
   "source": [
    "# corr_df = corr_df.reset_index(drop=True)\n",
    "#corr_df = corr_df.drop([2,3,4,5,6,7,8,9,10,11,12,13,14,15,16,17])\n",
    "#corr_df = corr_df.drop([19,20,21,22,23,24,25,29,30,31,32,33,34,35,36,37,38,39,41])\n",
    "#corr_df = corr_df.reset_index(drop=True)\n",
    "type_info = ['Fi','Fe','Te','Ti','Ne','Ni','Se','Si','E','infp','infj','istj','estp','estj','istj','isfp','isfj','esfp','esfj','entj','entp','enfp','enfj','intp','intj']\n",
    "struct_vars = ['avg_sents_per_post','average_post_length','avg_words_per_post','avg_sent_length','avg_word_length','total_len','total_words','avg_words_per_sent','avg_len_per_post']\n",
    "link_info = ['has_links','link_count']\n",
    "post_info = ['post_count']\n",
    "notwords = type_info + struct_vars + link_info + post_info\n",
    "#not_a_word = corr_df['Factor 1'] not in notwords or (corr_df['Factor 2'] not in notwords)\n",
    "def get_notwords(df,notwords,num):\n",
    "    df['temp'] = [1 if ((df.iloc[i]['Factor 1'] in notwords) or (df.iloc[i]['Factor 2'] in notwords)) else 0 for i in range(len(df))]\n",
    "    return df[df['temp'] == num]\n",
    "                              \n",
    "word_corrs = get_notwords(corr_df,notwords,0)                              \n",
    "#corr_df['is_word'] = [1 if ((corr_df.iloc[i]['Factor 1'] not in notwords) or (corr_df.iloc[i]['Factor 2'] not in notwords)) else 0 for i in range(len(corr_df))]\n",
    "                              \n",
    "                              "
   ]
  },
  {
   "cell_type": "code",
   "execution_count": 55,
   "metadata": {},
   "outputs": [
    {
     "ename": "KeyError",
     "evalue": "\"['linebreak'] not found in axis\"",
     "output_type": "error",
     "traceback": [
      "\u001b[0;31m---------------------------------------------------------------------------\u001b[0m",
      "\u001b[0;31mKeyError\u001b[0m                                  Traceback (most recent call last)",
      "\u001b[0;32m<ipython-input-55-087c562a30e8>\u001b[0m in \u001b[0;36m<module>\u001b[0;34m\u001b[0m\n\u001b[1;32m      1\u001b[0m \u001b[0;31m#word_corrs = word_corrs.drop(columns='temp')\u001b[0m\u001b[0;34m\u001b[0m\u001b[0;34m\u001b[0m\u001b[0;34m\u001b[0m\u001b[0m\n\u001b[0;32m----> 2\u001b[0;31m \u001b[0mword_corrs\u001b[0m \u001b[0;34m=\u001b[0m \u001b[0mword_corrs\u001b[0m\u001b[0;34m.\u001b[0m\u001b[0mdrop\u001b[0m\u001b[0;34m(\u001b[0m\u001b[0mcolumns\u001b[0m\u001b[0;34m=\u001b[0m\u001b[0;34m'linebreak'\u001b[0m\u001b[0;34m)\u001b[0m\u001b[0;34m\u001b[0m\u001b[0;34m\u001b[0m\u001b[0m\n\u001b[0m",
      "\u001b[0;32m~/anaconda3/lib/python3.7/site-packages/pandas/core/frame.py\u001b[0m in \u001b[0;36mdrop\u001b[0;34m(self, labels, axis, index, columns, level, inplace, errors)\u001b[0m\n\u001b[1;32m   3938\u001b[0m                                            \u001b[0mindex\u001b[0m\u001b[0;34m=\u001b[0m\u001b[0mindex\u001b[0m\u001b[0;34m,\u001b[0m \u001b[0mcolumns\u001b[0m\u001b[0;34m=\u001b[0m\u001b[0mcolumns\u001b[0m\u001b[0;34m,\u001b[0m\u001b[0;34m\u001b[0m\u001b[0;34m\u001b[0m\u001b[0m\n\u001b[1;32m   3939\u001b[0m                                            \u001b[0mlevel\u001b[0m\u001b[0;34m=\u001b[0m\u001b[0mlevel\u001b[0m\u001b[0;34m,\u001b[0m \u001b[0minplace\u001b[0m\u001b[0;34m=\u001b[0m\u001b[0minplace\u001b[0m\u001b[0;34m,\u001b[0m\u001b[0;34m\u001b[0m\u001b[0;34m\u001b[0m\u001b[0m\n\u001b[0;32m-> 3940\u001b[0;31m                                            errors=errors)\n\u001b[0m\u001b[1;32m   3941\u001b[0m \u001b[0;34m\u001b[0m\u001b[0m\n\u001b[1;32m   3942\u001b[0m     @rewrite_axis_style_signature('mapper', [('copy', True),\n",
      "\u001b[0;32m~/anaconda3/lib/python3.7/site-packages/pandas/core/generic.py\u001b[0m in \u001b[0;36mdrop\u001b[0;34m(self, labels, axis, index, columns, level, inplace, errors)\u001b[0m\n\u001b[1;32m   3778\u001b[0m         \u001b[0;32mfor\u001b[0m \u001b[0maxis\u001b[0m\u001b[0;34m,\u001b[0m \u001b[0mlabels\u001b[0m \u001b[0;32min\u001b[0m \u001b[0maxes\u001b[0m\u001b[0;34m.\u001b[0m\u001b[0mitems\u001b[0m\u001b[0;34m(\u001b[0m\u001b[0;34m)\u001b[0m\u001b[0;34m:\u001b[0m\u001b[0;34m\u001b[0m\u001b[0;34m\u001b[0m\u001b[0m\n\u001b[1;32m   3779\u001b[0m             \u001b[0;32mif\u001b[0m \u001b[0mlabels\u001b[0m \u001b[0;32mis\u001b[0m \u001b[0;32mnot\u001b[0m \u001b[0;32mNone\u001b[0m\u001b[0;34m:\u001b[0m\u001b[0;34m\u001b[0m\u001b[0;34m\u001b[0m\u001b[0m\n\u001b[0;32m-> 3780\u001b[0;31m                 \u001b[0mobj\u001b[0m \u001b[0;34m=\u001b[0m \u001b[0mobj\u001b[0m\u001b[0;34m.\u001b[0m\u001b[0m_drop_axis\u001b[0m\u001b[0;34m(\u001b[0m\u001b[0mlabels\u001b[0m\u001b[0;34m,\u001b[0m \u001b[0maxis\u001b[0m\u001b[0;34m,\u001b[0m \u001b[0mlevel\u001b[0m\u001b[0;34m=\u001b[0m\u001b[0mlevel\u001b[0m\u001b[0;34m,\u001b[0m \u001b[0merrors\u001b[0m\u001b[0;34m=\u001b[0m\u001b[0merrors\u001b[0m\u001b[0;34m)\u001b[0m\u001b[0;34m\u001b[0m\u001b[0;34m\u001b[0m\u001b[0m\n\u001b[0m\u001b[1;32m   3781\u001b[0m \u001b[0;34m\u001b[0m\u001b[0m\n\u001b[1;32m   3782\u001b[0m         \u001b[0;32mif\u001b[0m \u001b[0minplace\u001b[0m\u001b[0;34m:\u001b[0m\u001b[0;34m\u001b[0m\u001b[0;34m\u001b[0m\u001b[0m\n",
      "\u001b[0;32m~/anaconda3/lib/python3.7/site-packages/pandas/core/generic.py\u001b[0m in \u001b[0;36m_drop_axis\u001b[0;34m(self, labels, axis, level, errors)\u001b[0m\n\u001b[1;32m   3810\u001b[0m                 \u001b[0mnew_axis\u001b[0m \u001b[0;34m=\u001b[0m \u001b[0maxis\u001b[0m\u001b[0;34m.\u001b[0m\u001b[0mdrop\u001b[0m\u001b[0;34m(\u001b[0m\u001b[0mlabels\u001b[0m\u001b[0;34m,\u001b[0m \u001b[0mlevel\u001b[0m\u001b[0;34m=\u001b[0m\u001b[0mlevel\u001b[0m\u001b[0;34m,\u001b[0m \u001b[0merrors\u001b[0m\u001b[0;34m=\u001b[0m\u001b[0merrors\u001b[0m\u001b[0;34m)\u001b[0m\u001b[0;34m\u001b[0m\u001b[0;34m\u001b[0m\u001b[0m\n\u001b[1;32m   3811\u001b[0m             \u001b[0;32melse\u001b[0m\u001b[0;34m:\u001b[0m\u001b[0;34m\u001b[0m\u001b[0;34m\u001b[0m\u001b[0m\n\u001b[0;32m-> 3812\u001b[0;31m                 \u001b[0mnew_axis\u001b[0m \u001b[0;34m=\u001b[0m \u001b[0maxis\u001b[0m\u001b[0;34m.\u001b[0m\u001b[0mdrop\u001b[0m\u001b[0;34m(\u001b[0m\u001b[0mlabels\u001b[0m\u001b[0;34m,\u001b[0m \u001b[0merrors\u001b[0m\u001b[0;34m=\u001b[0m\u001b[0merrors\u001b[0m\u001b[0;34m)\u001b[0m\u001b[0;34m\u001b[0m\u001b[0;34m\u001b[0m\u001b[0m\n\u001b[0m\u001b[1;32m   3813\u001b[0m             \u001b[0mresult\u001b[0m \u001b[0;34m=\u001b[0m \u001b[0mself\u001b[0m\u001b[0;34m.\u001b[0m\u001b[0mreindex\u001b[0m\u001b[0;34m(\u001b[0m\u001b[0;34m**\u001b[0m\u001b[0;34m{\u001b[0m\u001b[0maxis_name\u001b[0m\u001b[0;34m:\u001b[0m \u001b[0mnew_axis\u001b[0m\u001b[0;34m}\u001b[0m\u001b[0;34m)\u001b[0m\u001b[0;34m\u001b[0m\u001b[0;34m\u001b[0m\u001b[0m\n\u001b[1;32m   3814\u001b[0m \u001b[0;34m\u001b[0m\u001b[0m\n",
      "\u001b[0;32m~/anaconda3/lib/python3.7/site-packages/pandas/core/indexes/base.py\u001b[0m in \u001b[0;36mdrop\u001b[0;34m(self, labels, errors)\u001b[0m\n\u001b[1;32m   4963\u001b[0m             \u001b[0;32mif\u001b[0m \u001b[0merrors\u001b[0m \u001b[0;34m!=\u001b[0m \u001b[0;34m'ignore'\u001b[0m\u001b[0;34m:\u001b[0m\u001b[0;34m\u001b[0m\u001b[0;34m\u001b[0m\u001b[0m\n\u001b[1;32m   4964\u001b[0m                 raise KeyError(\n\u001b[0;32m-> 4965\u001b[0;31m                     '{} not found in axis'.format(labels[mask]))\n\u001b[0m\u001b[1;32m   4966\u001b[0m             \u001b[0mindexer\u001b[0m \u001b[0;34m=\u001b[0m \u001b[0mindexer\u001b[0m\u001b[0;34m[\u001b[0m\u001b[0;34m~\u001b[0m\u001b[0mmask\u001b[0m\u001b[0;34m]\u001b[0m\u001b[0;34m\u001b[0m\u001b[0;34m\u001b[0m\u001b[0m\n\u001b[1;32m   4967\u001b[0m         \u001b[0;32mreturn\u001b[0m \u001b[0mself\u001b[0m\u001b[0;34m.\u001b[0m\u001b[0mdelete\u001b[0m\u001b[0;34m(\u001b[0m\u001b[0mindexer\u001b[0m\u001b[0;34m)\u001b[0m\u001b[0;34m\u001b[0m\u001b[0;34m\u001b[0m\u001b[0m\n",
      "\u001b[0;31mKeyError\u001b[0m: \"['linebreak'] not found in axis\""
     ]
    }
   ],
   "source": [
    "word_corrs = word_corrs.drop(columns='temp')\n",
    "#word_corrs = word_corrs.drop(columns='linebreaks')"
   ]
  },
  {
   "cell_type": "code",
   "execution_count": 49,
   "metadata": {
    "scrolled": true
   },
   "outputs": [
    {
     "data": {
      "text/plain": [
       "Text(0.5, 0, 'Correlation Coeff')"
      ]
     },
     "execution_count": 49,
     "metadata": {},
     "output_type": "execute_result"
    },
    {
     "data": {
      "image/png": "[encoded data removed]",
      "text/plain": [
       "<Figure size 576x720 with 1 Axes>"
      ]
     },
     "metadata": {},
     "output_type": "display_data"
    }
   ],
   "source": [
    "\n",
    "word_corrs.index = [f\"{word_corrs.iloc[w]['Factor 1']}-{word_corrs.iloc[w]['Factor 2']}\" for w in range(len(word_corrs))]\n",
    "plt.figure(figsize=(8,10))\n",
    "plt.barh(word_corrs.index[:30][::-1], word_corrs.Correlation[:30][::-1])\n",
    "plt.title(\"Most Positive Word-Word Use Relationships By Ratio Throughout Posts\")\n",
    "plt.xlabel(\"Correlation Coeff\")"
   ]
  },
  {
   "cell_type": "code",
   "execution_count": 53,
   "metadata": {},
   "outputs": [
    {
     "name": "stdout",
     "output_type": "stream",
     "text": [
      "               Factor 1 Factor 2  Correlation\n",
      "friend-best      friend     best     0.287375\n",
      "friends-friend  friends   friend     0.276097\n",
      "really-much      really     much     0.233089\n",
      "like-really        like   really     0.227966\n",
      "like-feel          like     feel     0.220058\n"
     ]
    },
    {
     "data": {
      "text/plain": [
       "Text(0.5, 0, 'Correlation Coeff')"
      ]
     },
     "execution_count": 53,
     "metadata": {},
     "output_type": "execute_result"
    },
    {
     "data": {
      "image/png": "[encoded data removed]",
      "text/plain": [
       "<Figure size 576x720 with 1 Axes>"
      ]
     },
     "metadata": {},
     "output_type": "display_data"
    }
   ],
   "source": [
    "print(word_corrs.head())\n",
    "word_corrs.index = [f\"{word_corrs.iloc[w]['Factor 1']}-{word_corrs.iloc[w]['Factor 2']}\" for w in range(len(word_corrs))]\n",
    "plt.figure(figsize=(8,10))\n",
    "plt.barh(word_corrs.index[::-1][:30][::-1], word_corrs.Correlation[::-1][:30][::-1])\n",
    "plt.title(\"Most Negative Word-Word Use Relationships By Ratio Throughout Posts\")\n",
    "plt.xlabel(\"Correlation Coeff\")"
   ]
  },
  {
   "cell_type": "code",
   "execution_count": 51,
   "metadata": {},
   "outputs": [
    {
     "data": {
      "text/html": [
       "<div>\n",
       "<style scoped>\n",
       "    .dataframe tbody tr th:only-of-type {\n",
       "        vertical-align: middle;\n",
       "    }\n",
       "\n",
       "    .dataframe tbody tr th {\n",
       "        vertical-align: top;\n",
       "    }\n",
       "\n",
       "    .dataframe thead th {\n",
       "        text-align: right;\n",
       "    }\n",
       "</style>\n",
       "<table border=\"1\" class=\"dataframe\">\n",
       "  <thead>\n",
       "    <tr style=\"text-align: right;\">\n",
       "      <th></th>\n",
       "      <th>Factor 1</th>\n",
       "      <th>Factor 2</th>\n",
       "      <th>Correlation</th>\n",
       "      <th>temp</th>\n",
       "    </tr>\n",
       "  </thead>\n",
       "  <tbody>\n",
       "    <tr>\n",
       "      <th>1009</th>\n",
       "      <td>average_post_length</td>\n",
       "      <td>avg_len_per_post</td>\n",
       "      <td>1.000000</td>\n",
       "      <td>1</td>\n",
       "    </tr>\n",
       "    <tr>\n",
       "      <th>1214</th>\n",
       "      <td>total_words</td>\n",
       "      <td>total_len</td>\n",
       "      <td>0.977289</td>\n",
       "      <td>1</td>\n",
       "    </tr>\n",
       "    <tr>\n",
       "      <th>1279</th>\n",
       "      <td>avg_words_per_post</td>\n",
       "      <td>avg_len_per_post</td>\n",
       "      <td>0.972172</td>\n",
       "      <td>1</td>\n",
       "    </tr>\n",
       "    <tr>\n",
       "      <th>1004</th>\n",
       "      <td>average_post_length</td>\n",
       "      <td>avg_words_per_post</td>\n",
       "      <td>0.972172</td>\n",
       "      <td>1</td>\n",
       "    </tr>\n",
       "    <tr>\n",
       "      <th>1341</th>\n",
       "      <td>avg_words_per_sent</td>\n",
       "      <td>avg_sent_length</td>\n",
       "      <td>0.942416</td>\n",
       "      <td>1</td>\n",
       "    </tr>\n",
       "    <tr>\n",
       "      <th>1208</th>\n",
       "      <td>total_words</td>\n",
       "      <td>avg_words_per_post</td>\n",
       "      <td>0.899200</td>\n",
       "      <td>1</td>\n",
       "    </tr>\n",
       "    <tr>\n",
       "      <th>1595</th>\n",
       "      <td>avg_len_per_post</td>\n",
       "      <td>total_len</td>\n",
       "      <td>0.877414</td>\n",
       "      <td>1</td>\n",
       "    </tr>\n",
       "    <tr>\n",
       "      <th>1010</th>\n",
       "      <td>average_post_length</td>\n",
       "      <td>total_len</td>\n",
       "      <td>0.877414</td>\n",
       "      <td>1</td>\n",
       "    </tr>\n",
       "    <tr>\n",
       "      <th>1003</th>\n",
       "      <td>average_post_length</td>\n",
       "      <td>total_words</td>\n",
       "      <td>0.870050</td>\n",
       "      <td>1</td>\n",
       "    </tr>\n",
       "    <tr>\n",
       "      <th>1213</th>\n",
       "      <td>total_words</td>\n",
       "      <td>avg_len_per_post</td>\n",
       "      <td>0.870050</td>\n",
       "      <td>1</td>\n",
       "    </tr>\n",
       "    <tr>\n",
       "      <th>1280</th>\n",
       "      <td>avg_words_per_post</td>\n",
       "      <td>total_len</td>\n",
       "      <td>0.857786</td>\n",
       "      <td>1</td>\n",
       "    </tr>\n",
       "    <tr>\n",
       "      <th>1278</th>\n",
       "      <td>avg_words_per_post</td>\n",
       "      <td>avg_sents_per_post</td>\n",
       "      <td>0.632086</td>\n",
       "      <td>1</td>\n",
       "    </tr>\n",
       "    <tr>\n",
       "      <th>1533</th>\n",
       "      <td>avg_sents_per_post</td>\n",
       "      <td>avg_len_per_post</td>\n",
       "      <td>0.600333</td>\n",
       "      <td>1</td>\n",
       "    </tr>\n",
       "    <tr>\n",
       "      <th>1008</th>\n",
       "      <td>average_post_length</td>\n",
       "      <td>avg_sents_per_post</td>\n",
       "      <td>0.600333</td>\n",
       "      <td>1</td>\n",
       "    </tr>\n",
       "    <tr>\n",
       "      <th>1144</th>\n",
       "      <td>link_count</td>\n",
       "      <td>avg_word_length</td>\n",
       "      <td>0.600198</td>\n",
       "      <td>1</td>\n",
       "    </tr>\n",
       "    <tr>\n",
       "      <th>1212</th>\n",
       "      <td>total_words</td>\n",
       "      <td>avg_sents_per_post</td>\n",
       "      <td>0.562951</td>\n",
       "      <td>1</td>\n",
       "    </tr>\n",
       "    <tr>\n",
       "      <th>1534</th>\n",
       "      <td>avg_sents_per_post</td>\n",
       "      <td>total_len</td>\n",
       "      <td>0.524546</td>\n",
       "      <td>1</td>\n",
       "    </tr>\n",
       "    <tr>\n",
       "      <th>1275</th>\n",
       "      <td>avg_words_per_post</td>\n",
       "      <td>avg_words_per_sent</td>\n",
       "      <td>0.498937</td>\n",
       "      <td>1</td>\n",
       "    </tr>\n",
       "    <tr>\n",
       "      <th>1344</th>\n",
       "      <td>avg_words_per_sent</td>\n",
       "      <td>avg_len_per_post</td>\n",
       "      <td>0.494951</td>\n",
       "      <td>1</td>\n",
       "    </tr>\n",
       "    <tr>\n",
       "      <th>1005</th>\n",
       "      <td>average_post_length</td>\n",
       "      <td>avg_words_per_sent</td>\n",
       "      <td>0.494951</td>\n",
       "      <td>1</td>\n",
       "    </tr>\n",
       "    <tr>\n",
       "      <th>1079</th>\n",
       "      <td>post_count</td>\n",
       "      <td>total_len</td>\n",
       "      <td>0.478128</td>\n",
       "      <td>1</td>\n",
       "    </tr>\n",
       "    <tr>\n",
       "      <th>716</th>\n",
       "      <td>Qmarks</td>\n",
       "      <td>link_count</td>\n",
       "      <td>0.457286</td>\n",
       "      <td>1</td>\n",
       "    </tr>\n",
       "    <tr>\n",
       "      <th>1209</th>\n",
       "      <td>total_words</td>\n",
       "      <td>avg_words_per_sent</td>\n",
       "      <td>0.445101</td>\n",
       "      <td>1</td>\n",
       "    </tr>\n",
       "    <tr>\n",
       "      <th>1072</th>\n",
       "      <td>post_count</td>\n",
       "      <td>total_words</td>\n",
       "      <td>0.443241</td>\n",
       "      <td>1</td>\n",
       "    </tr>\n",
       "    <tr>\n",
       "      <th>1148</th>\n",
       "      <td>link_count</td>\n",
       "      <td>has_links</td>\n",
       "      <td>0.440531</td>\n",
       "      <td>1</td>\n",
       "    </tr>\n",
       "    <tr>\n",
       "      <th>1345</th>\n",
       "      <td>avg_words_per_sent</td>\n",
       "      <td>total_len</td>\n",
       "      <td>0.431987</td>\n",
       "      <td>1</td>\n",
       "    </tr>\n",
       "    <tr>\n",
       "      <th>1006</th>\n",
       "      <td>average_post_length</td>\n",
       "      <td>avg_sent_length</td>\n",
       "      <td>0.412507</td>\n",
       "      <td>1</td>\n",
       "    </tr>\n",
       "    <tr>\n",
       "      <th>1408</th>\n",
       "      <td>avg_sent_length</td>\n",
       "      <td>avg_len_per_post</td>\n",
       "      <td>0.412507</td>\n",
       "      <td>1</td>\n",
       "    </tr>\n",
       "    <tr>\n",
       "      <th>1409</th>\n",
       "      <td>avg_sent_length</td>\n",
       "      <td>total_len</td>\n",
       "      <td>0.354987</td>\n",
       "      <td>1</td>\n",
       "    </tr>\n",
       "    <tr>\n",
       "      <th>1276</th>\n",
       "      <td>avg_words_per_post</td>\n",
       "      <td>avg_sent_length</td>\n",
       "      <td>0.347631</td>\n",
       "      <td>1</td>\n",
       "    </tr>\n",
       "    <tr>\n",
       "      <th>...</th>\n",
       "      <td>...</td>\n",
       "      <td>...</td>\n",
       "      <td>...</td>\n",
       "      <td>...</td>\n",
       "    </tr>\n",
       "    <tr>\n",
       "      <th>828</th>\n",
       "      <td>linebreaks</td>\n",
       "      <td>though</td>\n",
       "      <td>NaN</td>\n",
       "      <td>0</td>\n",
       "    </tr>\n",
       "    <tr>\n",
       "      <th>829</th>\n",
       "      <td>linebreaks</td>\n",
       "      <td>life</td>\n",
       "      <td>NaN</td>\n",
       "      <td>0</td>\n",
       "    </tr>\n",
       "    <tr>\n",
       "      <th>830</th>\n",
       "      <td>linebreaks</td>\n",
       "      <td>could</td>\n",
       "      <td>NaN</td>\n",
       "      <td>0</td>\n",
       "    </tr>\n",
       "    <tr>\n",
       "      <th>831</th>\n",
       "      <td>linebreaks</td>\n",
       "      <td>never</td>\n",
       "      <td>NaN</td>\n",
       "      <td>0</td>\n",
       "    </tr>\n",
       "    <tr>\n",
       "      <th>832</th>\n",
       "      <td>linebreaks</td>\n",
       "      <td>thing</td>\n",
       "      <td>NaN</td>\n",
       "      <td>0</td>\n",
       "    </tr>\n",
       "    <tr>\n",
       "      <th>833</th>\n",
       "      <td>linebreaks</td>\n",
       "      <td>find</td>\n",
       "      <td>NaN</td>\n",
       "      <td>0</td>\n",
       "    </tr>\n",
       "    <tr>\n",
       "      <th>834</th>\n",
       "      <td>linebreaks</td>\n",
       "      <td>sure</td>\n",
       "      <td>NaN</td>\n",
       "      <td>0</td>\n",
       "    </tr>\n",
       "    <tr>\n",
       "      <th>835</th>\n",
       "      <td>linebreaks</td>\n",
       "      <td>going</td>\n",
       "      <td>NaN</td>\n",
       "      <td>0</td>\n",
       "    </tr>\n",
       "    <tr>\n",
       "      <th>836</th>\n",
       "      <td>linebreaks</td>\n",
       "      <td>pretty</td>\n",
       "      <td>NaN</td>\n",
       "      <td>0</td>\n",
       "    </tr>\n",
       "    <tr>\n",
       "      <th>837</th>\n",
       "      <td>linebreaks</td>\n",
       "      <td>first</td>\n",
       "      <td>NaN</td>\n",
       "      <td>0</td>\n",
       "    </tr>\n",
       "    <tr>\n",
       "      <th>838</th>\n",
       "      <td>linebreaks</td>\n",
       "      <td>actually</td>\n",
       "      <td>NaN</td>\n",
       "      <td>0</td>\n",
       "    </tr>\n",
       "    <tr>\n",
       "      <th>839</th>\n",
       "      <td>linebreaks</td>\n",
       "      <td>right</td>\n",
       "      <td>NaN</td>\n",
       "      <td>0</td>\n",
       "    </tr>\n",
       "    <tr>\n",
       "      <th>840</th>\n",
       "      <td>linebreaks</td>\n",
       "      <td>friends</td>\n",
       "      <td>NaN</td>\n",
       "      <td>0</td>\n",
       "    </tr>\n",
       "    <tr>\n",
       "      <th>841</th>\n",
       "      <td>linebreaks</td>\n",
       "      <td>person</td>\n",
       "      <td>NaN</td>\n",
       "      <td>0</td>\n",
       "    </tr>\n",
       "    <tr>\n",
       "      <th>842</th>\n",
       "      <td>linebreaks</td>\n",
       "      <td>need</td>\n",
       "      <td>NaN</td>\n",
       "      <td>0</td>\n",
       "    </tr>\n",
       "    <tr>\n",
       "      <th>843</th>\n",
       "      <td>linebreaks</td>\n",
       "      <td>yes</td>\n",
       "      <td>NaN</td>\n",
       "      <td>0</td>\n",
       "    </tr>\n",
       "    <tr>\n",
       "      <th>844</th>\n",
       "      <td>linebreaks</td>\n",
       "      <td>work</td>\n",
       "      <td>NaN</td>\n",
       "      <td>0</td>\n",
       "    </tr>\n",
       "    <tr>\n",
       "      <th>845</th>\n",
       "      <td>linebreaks</td>\n",
       "      <td>id</td>\n",
       "      <td>NaN</td>\n",
       "      <td>0</td>\n",
       "    </tr>\n",
       "    <tr>\n",
       "      <th>846</th>\n",
       "      <td>linebreaks</td>\n",
       "      <td>said</td>\n",
       "      <td>NaN</td>\n",
       "      <td>0</td>\n",
       "    </tr>\n",
       "    <tr>\n",
       "      <th>847</th>\n",
       "      <td>linebreaks</td>\n",
       "      <td>still</td>\n",
       "      <td>NaN</td>\n",
       "      <td>0</td>\n",
       "    </tr>\n",
       "    <tr>\n",
       "      <th>848</th>\n",
       "      <td>linebreaks</td>\n",
       "      <td>got</td>\n",
       "      <td>NaN</td>\n",
       "      <td>0</td>\n",
       "    </tr>\n",
       "    <tr>\n",
       "      <th>849</th>\n",
       "      <td>linebreaks</td>\n",
       "      <td>many</td>\n",
       "      <td>NaN</td>\n",
       "      <td>0</td>\n",
       "    </tr>\n",
       "    <tr>\n",
       "      <th>850</th>\n",
       "      <td>linebreaks</td>\n",
       "      <td>thought</td>\n",
       "      <td>NaN</td>\n",
       "      <td>0</td>\n",
       "    </tr>\n",
       "    <tr>\n",
       "      <th>851</th>\n",
       "      <td>linebreaks</td>\n",
       "      <td>around</td>\n",
       "      <td>NaN</td>\n",
       "      <td>0</td>\n",
       "    </tr>\n",
       "    <tr>\n",
       "      <th>852</th>\n",
       "      <td>linebreaks</td>\n",
       "      <td>probably</td>\n",
       "      <td>NaN</td>\n",
       "      <td>0</td>\n",
       "    </tr>\n",
       "    <tr>\n",
       "      <th>853</th>\n",
       "      <td>linebreaks</td>\n",
       "      <td>intj</td>\n",
       "      <td>NaN</td>\n",
       "      <td>1</td>\n",
       "    </tr>\n",
       "    <tr>\n",
       "      <th>854</th>\n",
       "      <td>linebreaks</td>\n",
       "      <td>friend</td>\n",
       "      <td>NaN</td>\n",
       "      <td>0</td>\n",
       "    </tr>\n",
       "    <tr>\n",
       "      <th>855</th>\n",
       "      <td>linebreaks</td>\n",
       "      <td>take</td>\n",
       "      <td>NaN</td>\n",
       "      <td>0</td>\n",
       "    </tr>\n",
       "    <tr>\n",
       "      <th>856</th>\n",
       "      <td>linebreaks</td>\n",
       "      <td>infp</td>\n",
       "      <td>NaN</td>\n",
       "      <td>1</td>\n",
       "    </tr>\n",
       "    <tr>\n",
       "      <th>857</th>\n",
       "      <td>linebreaks</td>\n",
       "      <td>best</td>\n",
       "      <td>NaN</td>\n",
       "      <td>0</td>\n",
       "    </tr>\n",
       "  </tbody>\n",
       "</table>\n",
       "<p>3486 rows × 4 columns</p>\n",
       "</div>"
      ],
      "text/plain": [
       "                 Factor 1            Factor 2  Correlation  temp\n",
       "1009  average_post_length    avg_len_per_post     1.000000     1\n",
       "1214          total_words           total_len     0.977289     1\n",
       "1279   avg_words_per_post    avg_len_per_post     0.972172     1\n",
       "1004  average_post_length  avg_words_per_post     0.972172     1\n",
       "1341   avg_words_per_sent     avg_sent_length     0.942416     1\n",
       "1208          total_words  avg_words_per_post     0.899200     1\n",
       "1595     avg_len_per_post           total_len     0.877414     1\n",
       "1010  average_post_length           total_len     0.877414     1\n",
       "1003  average_post_length         total_words     0.870050     1\n",
       "1213          total_words    avg_len_per_post     0.870050     1\n",
       "1280   avg_words_per_post           total_len     0.857786     1\n",
       "1278   avg_words_per_post  avg_sents_per_post     0.632086     1\n",
       "1533   avg_sents_per_post    avg_len_per_post     0.600333     1\n",
       "1008  average_post_length  avg_sents_per_post     0.600333     1\n",
       "1144           link_count     avg_word_length     0.600198     1\n",
       "1212          total_words  avg_sents_per_post     0.562951     1\n",
       "1534   avg_sents_per_post           total_len     0.524546     1\n",
       "1275   avg_words_per_post  avg_words_per_sent     0.498937     1\n",
       "1344   avg_words_per_sent    avg_len_per_post     0.494951     1\n",
       "1005  average_post_length  avg_words_per_sent     0.494951     1\n",
       "1079           post_count           total_len     0.478128     1\n",
       "716                Qmarks          link_count     0.457286     1\n",
       "1209          total_words  avg_words_per_sent     0.445101     1\n",
       "1072           post_count         total_words     0.443241     1\n",
       "1148           link_count           has_links     0.440531     1\n",
       "1345   avg_words_per_sent           total_len     0.431987     1\n",
       "1006  average_post_length     avg_sent_length     0.412507     1\n",
       "1408      avg_sent_length    avg_len_per_post     0.412507     1\n",
       "1409      avg_sent_length           total_len     0.354987     1\n",
       "1276   avg_words_per_post     avg_sent_length     0.347631     1\n",
       "...                   ...                 ...          ...   ...\n",
       "828            linebreaks              though          NaN     0\n",
       "829            linebreaks                life          NaN     0\n",
       "830            linebreaks               could          NaN     0\n",
       "831            linebreaks               never          NaN     0\n",
       "832            linebreaks               thing          NaN     0\n",
       "833            linebreaks                find          NaN     0\n",
       "834            linebreaks                sure          NaN     0\n",
       "835            linebreaks               going          NaN     0\n",
       "836            linebreaks              pretty          NaN     0\n",
       "837            linebreaks               first          NaN     0\n",
       "838            linebreaks            actually          NaN     0\n",
       "839            linebreaks               right          NaN     0\n",
       "840            linebreaks             friends          NaN     0\n",
       "841            linebreaks              person          NaN     0\n",
       "842            linebreaks                need          NaN     0\n",
       "843            linebreaks                 yes          NaN     0\n",
       "844            linebreaks                work          NaN     0\n",
       "845            linebreaks                  id          NaN     0\n",
       "846            linebreaks                said          NaN     0\n",
       "847            linebreaks               still          NaN     0\n",
       "848            linebreaks                 got          NaN     0\n",
       "849            linebreaks                many          NaN     0\n",
       "850            linebreaks             thought          NaN     0\n",
       "851            linebreaks              around          NaN     0\n",
       "852            linebreaks            probably          NaN     0\n",
       "853            linebreaks                intj          NaN     1\n",
       "854            linebreaks              friend          NaN     0\n",
       "855            linebreaks                take          NaN     0\n",
       "856            linebreaks                infp          NaN     1\n",
       "857            linebreaks                best          NaN     0\n",
       "\n",
       "[3486 rows x 4 columns]"
      ]
     },
     "execution_count": 51,
     "metadata": {},
     "output_type": "execute_result"
    }
   ],
   "source": [
    "# corr_df[corr_df['Factor 2'] == 'Fi']\n",
    "def no_temp(word_corrs):\n",
    "    t1 = word_corrs.index[word_corrs[\"Factor 1\"] == 'temp'].tolist()\n",
    "    t2 = word_corrs.index[word_corrs[\"Factor 2\"] == 'temp'].tolist()\n",
    "    word_corrs = word_corrs.drop(t1)\n",
    "    word_corrs = word_corrs.drop(t2)\n",
    "    return word_corrs\n",
    "no_temp(corr_df)"
   ]
  },
  {
   "cell_type": "code",
   "execution_count": 52,
   "metadata": {},
   "outputs": [],
   "source": [
    "corr_df['is_type'] = [1 if ((corr_df.iloc[i]['Factor 1'] in type_info) or (corr_df.iloc[i]['Factor 2'] in type_info)) else 0 for i in range(len(corr_df))]\n",
    "corr_df['is_struct'] = [1 if ((corr_df.iloc[i]['Factor 1'] in struct_vars) or (corr_df.iloc[i]['Factor 2'] in struct_vars)) else 0 for i in range(len(corr_df))]\n",
    "corr_df['is_word'] = [1 if ((corr_df.iloc[i]['Factor 1'] not in notwords) or (corr_df.iloc[i]['Factor 2'] not in notwords)) else 0 for i in range(len(corr_df))]\n"
   ]
  },
  {
   "cell_type": "code",
   "execution_count": null,
   "metadata": {
    "scrolled": true
   },
   "outputs": [],
   "source": [
    "# type_corrs = corr_df[corr_df['is_type'] == 1]\n",
    "# struct_corrs = corr_df[corr_df['is_struct'] == 1]\n",
    "\n",
    "\n",
    "\n",
    "\n",
    "\n",
    "\n"
   ]
  },
  {
   "cell_type": "code",
   "execution_count": null,
   "metadata": {
    "scrolled": true
   },
   "outputs": [],
   "source": [
    "# # word_corrs.index = [f\"{word_corrs.iloc[w]['Factor 1']}-{word_corrs.iloc[w]['Factor 2']}\" for w in range(len(word_corrs))]\n",
    "# struct_corrs = get_notwords(corr_df,struct_vars,1)                              \n",
    "# struct_corrs.index = [f\"{struct_corrs.iloc[w]['Factor 1']}-{struct_corrs.iloc[w]['Factor 2']}\" for w in range(len(struct_corrs))]\n",
    "# plt.figure(figsize=(8,12))\n",
    "# plt.barh(struct_corrs.index[:30][::-1], struct_corrs.Correlation[:30][::-1])\n",
    "# plt.title(\"Most Positive Word-Word Use Relationships By Ratio Throughout Posts\")\n",
    "# plt.xlabel(\"Correlation Coeff\")"
   ]
  },
  {
   "cell_type": "code",
   "execution_count": null,
   "metadata": {
    "scrolled": false
   },
   "outputs": [],
   "source": []
  },
  {
   "cell_type": "code",
   "execution_count": null,
   "metadata": {
    "scrolled": true
   },
   "outputs": [],
   "source": [
    "def get_type_words(df,num):\n",
    "    df['temp'] = [1 if ((df.iloc[i]['Factor 1'] in type_info) and (df.iloc[i]['Factor 2'] not in notwords) or (df.iloc[i]['Factor 2'] in type_info) and (df.iloc[i]['Factor 1'] not in notwords)) else 0 for i in range(len(df))]\n",
    "    return df[df['temp'] == num]\n",
    "f = get_type_words(corr_df,1)\n",
    "type_words = no_temp(f)\n",
    "type_words"
   ]
  },
  {
   "cell_type": "code",
   "execution_count": null,
   "metadata": {
    "scrolled": false
   },
   "outputs": [],
   "source": [
    "#type_corrs = get_notwords(corr_df,type_info,1)                              \n",
    "type_words.index = [f\"{type_words.iloc[w]['Factor 1']}-{type_words.iloc[w]['Factor 2']}\" for w in range(len(type_words))]\n",
    "plt.figure(figsize=(8,10))\n",
    "plt.barh(type_words.index[:30][::-1], type_words.Correlation[:30][::-1])\n",
    "plt.title(\"Most Positive Word-Type Relationships By Ratio Throughout Posts\")\n",
    "plt.xlabel(\"Correlation Coeff\")"
   ]
  },
  {
   "cell_type": "code",
   "execution_count": null,
   "metadata": {},
   "outputs": [],
   "source": [
    "#type_corrs = get_notwords(corr_df,type_info,1)                              \n",
    "#type_words.index = [f\"{type_words.iloc[w]['Factor 1']}-{type_words.iloc[w]['Factor 2']}\" for w in range(len(type_words))]\n",
    "plt.figure(figsize=(8,10))\n",
    "plt.barh(type_words.index[::-1][:30][::-1], type_words.Correlation[::-1][:30][::-1])\n",
    "plt.title(\"Most Negative Word-Type Relationships By Ratio Throughout Posts\")\n",
    "plt.xlabel(\"Correlation Coeff\")"
   ]
  },
  {
   "cell_type": "code",
   "execution_count": null,
   "metadata": {
    "scrolled": false
   },
   "outputs": [],
   "source": [
    "def get_type_structs(df,num):\n",
    "    df['temp'] = [1 if ((df.iloc[i]['Factor 1'] in type_info) and (df.iloc[i]['Factor 2'] in struct_vars) or (df.iloc[i]['Factor 2'] in type_info) and (df.iloc[i]['Factor 1'] in struct_vars)) else 0 for i in range(len(df))]\n",
    "    return df[df['temp'] == num]\n",
    "f = get_type_structs(corr_df,1)\n",
    "type_structs = no_temp(f)\n",
    "\n",
    "def plot_words(df):\n",
    "    df.index = [f\"{df.iloc[w]['Factor 1']}-{df.iloc[w]['Factor 2']}\" for w in range(len(df))]\n",
    "    plt.figure(figsize=(8,8))\n",
    "    plt.barh(df.index[:30][::-1], df.Correlation[:30][::-1])\n",
    "    plt.title(\"Most Positive Struct-Word Relationships By Ratio Throughout Posts\")\n",
    "    plt.xlabel(\"Correlation Coeff\")\n",
    "    plt.figure(figsize=(8,8))\n",
    "    plt.barh(df.index[::-1][:30][::-1], df.Correlation[::-1][:30][::-1])\n",
    "    plt.title(\"Most Negative Struct-Word Relationships By Ratio Throughout Posts\")\n",
    "    plt.xlabel(\"Correlation Coeff\")\n",
    "plot_words(type_structs)\n"
   ]
  },
  {
   "cell_type": "code",
   "execution_count": null,
   "metadata": {},
   "outputs": [],
   "source": [
    "def get_word_structs(df,num):\n",
    "    df['temp'] = [1 if ((df.iloc[i]['Factor 1'] in struct_vars) and (df.iloc[i]['Factor 2'] not in notwords) or (df.iloc[i]['Factor 2'] in struct_vars) and (df.iloc[i]['Factor 1'] not in notwords)) else 0 for i in range(len(df))]\n",
    "    return df[df['temp'] == num]\n",
    "f = get_word_structs(corr_df,1)\n",
    "word_structs= no_temp(f)\n",
    "plot_words(word_structs)\n",
    "#plt.title(\"Most Positive Struct-Word Relationships By Ratio Throughout Posts\")\n",
    "#word_structs"
   ]
  },
  {
   "cell_type": "code",
   "execution_count": null,
   "metadata": {},
   "outputs": [],
   "source": [
    "correlations = pd.concat([word_corrs,type_words,type_structs,word_structs])"
   ]
  },
  {
   "cell_type": "code",
   "execution_count": null,
   "metadata": {},
   "outputs": [],
   "source": [
    "correlations = correlations.sort_values('Correlation',ascending=False)"
   ]
  },
  {
   "cell_type": "code",
   "execution_count": null,
   "metadata": {},
   "outputs": [],
   "source": [
    "correlations = no_temp(correlations)"
   ]
  },
  {
   "cell_type": "code",
   "execution_count": null,
   "metadata": {},
   "outputs": [],
   "source": [
    "correlations.index = [f\"{correlations.iloc[w]['Factor 1']}-{correlations.iloc[w]['Factor 2']}\" for w in range(len(correlations))]\n",
    "plt.figure(figsize=(8,8))\n",
    "plt.barh(correlations.index[:30][::-1], correlations.Correlation[:30][::-1])\n",
    "plt.title(\"Highest Positive Relationships Throughout Posts\")\n",
    "plt.xlabel(\"Correlation Coeff\")"
   ]
  },
  {
   "cell_type": "code",
   "execution_count": null,
   "metadata": {},
   "outputs": [],
   "source": [
    "correlations.index = [f\"{correlations.iloc[w]['Factor 1']}-{correlations.iloc[w]['Factor 2']}\" for w in range(len(correlations))]\n",
    "plt.figure(figsize=(8,8))\n",
    "plt.barh(correlations.index[::-1][:30][::-1], correlations.Correlation[::-1][:30][::-1])\n",
    "plt.title(\"Highest Negative Relationships Throughout Posts\")\n",
    "plt.xlabel(\"Correlation Coeff\")"
   ]
  },
  {
   "cell_type": "code",
   "execution_count": null,
   "metadata": {},
   "outputs": [],
   "source": [
    "correlations[correlations['Factor 1'] == 'Fi'].head(3)"
   ]
  },
  {
   "cell_type": "code",
   "execution_count": null,
   "metadata": {},
   "outputs": [],
   "source": [
    "correlations[correlations['Factor 1'] == 'Fe'].head(3)"
   ]
  },
  {
   "cell_type": "code",
   "execution_count": null,
   "metadata": {},
   "outputs": [],
   "source": [
    "correlations[correlations['Factor 2'] == 'infp'].head(3)"
   ]
  },
  {
   "cell_type": "code",
   "execution_count": null,
   "metadata": {},
   "outputs": [],
   "source": [
    "correlations[correlations['Factor 2'] == 'love'].head(3)"
   ]
  },
  {
   "cell_type": "code",
   "execution_count": null,
   "metadata": {},
   "outputs": [],
   "source": [
    "correlations[correlations['Factor 1'] == 'love'].head(3)"
   ]
  },
  {
   "cell_type": "code",
   "execution_count": null,
   "metadata": {},
   "outputs": [],
   "source": [
    "correlations.head()"
   ]
  },
  {
   "cell_type": "code",
   "execution_count": null,
   "metadata": {},
   "outputs": [],
   "source": [
    "correlations"
   ]
  },
  {
   "cell_type": "code",
   "execution_count": null,
   "metadata": {},
   "outputs": [],
   "source": []
  }
 ],
 "metadata": {
  "kernelspec": {
   "display_name": "Python 3",
   "language": "python",
   "name": "python3"
  },
  "language_info": {
   "codemirror_mode": {
    "name": "ipython",
    "version": 3
   },
   "file_extension": ".py",
   "mimetype": "text/x-python",
   "name": "python",
   "nbconvert_exporter": "python",
   "pygments_lexer": "ipython3",
   "version": "3.7.3"
  }
 },
 "nbformat": 4,
 "nbformat_minor": 2
}
