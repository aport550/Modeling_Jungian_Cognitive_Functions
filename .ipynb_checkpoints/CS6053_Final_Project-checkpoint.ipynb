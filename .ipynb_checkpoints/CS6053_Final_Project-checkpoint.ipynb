{
 "cells": [
  {
   "cell_type": "markdown",
   "metadata": {},
   "source": [
    "# Classifying Jungian Cognitive Functions from Text Input as a Means to Predict Personality"
   ]
  },
  {
   "cell_type": "markdown",
   "metadata": {},
   "source": [
    "# What are Jungian Cognitive Functions?\n",
    "\n",
    "The famous 20th century psychologist Carl Jung formulated a theory of personality that included the identification\n",
    "of 8 cognitive functions that would help explain the differences between how different people processed information.  \n",
    "\n",
    "\n",
    "Jung theorized that each person possesses a primary method of perceiving the world (perception in this case meaning\n",
    "the manner in which they filter and encode  information extracted from their senses) and a primary method \n",
    "of judging those perceptions.  Jung believed people either perceive via what he referred to as sensing or intuition\n",
    "and in either internalized or externalized orientations(introverted vs extraverted).    He also identified\n",
    "judgment as either through what he called \"feeling\" or \"thinking\" in either introverted or extraverted manners. \n",
    "Therefore, per the jungian theory, each person possess a primary method of perception (introverted intuition,\n",
    "extraverted intution, introverted sensing or extraverted sensing) and a primary method of judgment (\n",
    "introverted feeling, extraverted feeling, introverted thinking, extraverted thinking).   They also cannot possess\n",
    "primary perceiving and judging functions that are of the same orientation meaning that for example one cannot\n",
    "possess both extraverted perception and extraverted judgment.  Instead, per the classification system,\n",
    "one must possess one extraverted primary cognitive function and one introverted primary cognitive function.\n",
    "\n",
    "Note that the more popular Myers Briggs Type Indicator was created somewhat based on these Jungian cognitive functions\n",
    "but instead assigned 4 basic dichotomies for introversion/extraversion, sensing/intuition, feeling/thinking and\n",
    "perceiving/judging.  \n",
    "\n",
    "The purpose of this project is to try and determine if processing text can predict the Jungian Functions\n",
    "the author of the text possesses.  Note that we will classify functions in this case one by one and try to\n",
    "find which methods work best in classifying each cognitive function separately.  We will not necessarily simply\n",
    "use multiclass classification as what model works best in predicting one cognitive function may not work best in \n",
    "predicting another.  \n",
    "\n",
    "The dataset used included MBTI type information and a list of user posts from the personalitycafe.com \n",
    "forum.  \n"
   ]
  },
  {
   "cell_type": "markdown",
   "metadata": {},
   "source": [
    "# Approach"
   ]
  },
  {
   "cell_type": "markdown",
   "metadata": {},
   "source": [
    "1. Import libraries and read in the the data\n",
    "2. Plot the distribution of MBTI types variables given in the dataset\n",
    "3. Plot the distribution of the cognitive functions(our potential target) extracted from the MBTI types\n",
    "4. Balance cognitive function classes in our data by downsampling\n",
    "5. Split the data into train-test sets\n",
    "6. Clean the post data- remove punctuation, lowercase all letters, etc\n",
    "    - Gather structural variables (post length, sentence length)\n",
    "    - Gather punctuation variables (question count, comma count, exclamation count)\n",
    "    - Gather media variables(video counts, image counts)\n",
    "7. Combine all of each users posts into one long string\n",
    "8. TFIDF Vectorizer- get all of the words in the users posts and how many times they used them\n",
    "9. Use ngrams to get bigrams and trigrams used by users\n",
    "10. Show the most popular words,bigrams used by users that possess each cognitive function\n",
    "11. Place the nonword variables (structural,punctuation,media variables) into a series of machine learning model s to see if they can accurately predict cogntive function usage, see which model performs best.   Use binary classifiers for the presence of each function.  Get AUC, logloss, mse metrics. \n",
    "12. Dimensionality Reduction- Truncated SVD on the word vectors\n",
    "13. Use word vectors as features and plug them into series of binary classifiers predicting each cognitive function to see which performs best.  \n",
    "14. Try combining vectorized features and nonword features.  Place them into a series of binary classifiers.\n",
    "15. Try formulating word groups that intuitively may relate to different personalities and see if they can act as good predictors of cognitive functions.\n",
    "16. Record the features and models that perform the best in predicting each cognitive function.     \n",
    "17. Perform hyperparameter tuning on our models to improve model performance\n",
    "18. Set our optimal models for each cognitive function and integrate sample data \n",
    "19. Test our final model on sample data\n"
   ]
  },
  {
   "cell_type": "markdown",
   "metadata": {},
   "source": [
    "# Import Libraries and Read in the CSV\n"
   ]
  },
  {
   "cell_type": "code",
   "execution_count": 1,
   "metadata": {},
   "outputs": [],
   "source": [
    "import pandas as pd\n",
    "import numpy as np\n",
    "import matplotlib.pyplot as plt\n",
    "import seaborn as sb\n",
    "import sklearn\n",
    "import warnings\n",
    "from collections import Counter\n",
    "warnings.filterwarnings('ignore')\n",
    "df = pd.read_csv('mbti_1.csv')"
   ]
  },
  {
   "cell_type": "markdown",
   "metadata": {},
   "source": [
    "# Plotting MBTI Type"
   ]
  },
  {
   "cell_type": "markdown",
   "metadata": {},
   "source": [
    "The original dataset used here included two columns- one listing a myers briggs personality type\n",
    "and the other listing a string of posts submitted on an online personality forum."
   ]
  },
  {
   "cell_type": "code",
   "execution_count": 2,
   "metadata": {},
   "outputs": [
    {
     "data": {
      "text/plain": [
       "Text(0.5, 1.0, 'MBTI Type Distribution')"
      ]
     },
     "execution_count": 2,
     "metadata": {},
     "output_type": "execute_result"
    },
    {
     "data": {
      "image/png": "[encoded data removed]",
      "text/plain": [
       "<Figure size 432x288 with 1 Axes>"
      ]
     },
     "metadata": {},
     "output_type": "display_data"
    }
   ],
   "source": [
    "count = Counter(df)\n",
    "X = pd.DataFrame.from_dict(count, orient='index')\n",
    "sb.set()\n",
    "types_count = df.iloc[:,0].value_counts()\n",
    "types_count.sort_values(ascending=True).plot('barh')\n",
    "plt.xlabel(\"Count\")\n",
    "plt.ylabel(\"MBTI Type\")\n",
    "plt.title(\"MBTI Type Distribution\")"
   ]
  },
  {
   "cell_type": "markdown",
   "metadata": {},
   "source": [
    "# Plotting the Initial Distribution of Cognitive Functions"
   ]
  },
  {
   "cell_type": "markdown",
   "metadata": {},
   "source": [
    "Jungian cognitive functions underlie the MBTI personality type indicator and include four functions for \n",
    "perceiving (Introverted Intuition, Extraverted Intution, Introverted Sensing, Extraverted Sensing) and four\n",
    "functions for judging (Introverted Thinking, Extraverted Thinking, Introverted Feeling, Extraverted Feeling).\n",
    "\n",
    "These 4 functions can be garnered based off the MBTI types.  The 2 primary cogntive functions (one for perceiving and one for judging) \n",
    "will be extracted as a means to later classify them.   "
   ]
  },
  {
   "cell_type": "code",
   "execution_count": 3,
   "metadata": {},
   "outputs": [
    {
     "data": {
      "text/plain": [
       "Text(0, 0.5, 'Count')"
      ]
     },
     "execution_count": 3,
     "metadata": {},
     "output_type": "execute_result"
    },
    {
     "data": {
      "image/png": "[encoded data removed]",
      "text/plain": [
       "<Figure size 432x288 with 1 Axes>"
      ]
     },
     "metadata": {},
     "output_type": "display_data"
    }
   ],
   "source": [
    "df[\"Ne\"] = [1 if x[-1] == 'P' and x[1] == 'N' else 0 for x in df.iloc[:,0]]\n",
    "df[\"Ni\"] = [1 if x[-1] == 'J' and x[1] == 'N' else 0 for x in df.iloc[:,0]]\n",
    "df[\"Se\"] = [1 if x[-1] == 'P' and x[1] == 'S' else 0 for x in df.iloc[:,0]]\n",
    "df[\"Si\"] = [1 if x[-1] == 'J' and x[1] == 'S' else 0 for x in df.iloc[:,0]]\n",
    "df[\"Fi\"] = [1 if x[-1] == 'P' and x[2] == 'F' else 0 for x in df.iloc[:,0]]\n",
    "df[\"Fe\"] = [1 if x[-1] == 'J' and x[2] == 'F' else 0 for x in df.iloc[:,0]]\n",
    "df[\"Ti\"] = [1 if x[-1] == 'P' and x[2] == 'T' else 0 for x in df.iloc[:,0]]\n",
    "df[\"Te\"] = [1 if x[-1] == 'J' and x[2] == 'T' else 0 for x in df.iloc[:,0]]\n",
    "\n",
    "columns_to_use = np.array(df.columns[2:])\n",
    "counts = df.iloc[:,2:].apply(np.sum,axis=0)\n",
    "plt.bar(columns_to_use,counts)\n",
    "plt.xlabel(\"Primary Perceiving-Judging Functions\")\n",
    "plt.ylabel(\"Count\")"
   ]
  },
  {
   "cell_type": "markdown",
   "metadata": {},
   "source": [
    "# Downsample the Data as a Means Balance the Cognitive Functions "
   ]
  },
  {
   "cell_type": "markdown",
   "metadata": {},
   "source": [
    "To help generalize our personality predictor, we want to make sure that each cognitive function is \n",
    "equally represented.\n",
    "\n",
    "In our dataset, the Ne and Ni cognitive functions are especially overrepresented which means that if we use\n",
    "the entirety of the data, the model will likely be biased.  \n",
    "\n",
    "Downsampling the data will balance the cogntive functions in the dataset and ensure they are all represented equally. \n"
   ]
  },
  {
   "cell_type": "code",
   "execution_count": 4,
   "metadata": {},
   "outputs": [
    {
     "data": {
      "image/png": "[encoded data removed]",
      "text/plain": [
       "<Figure size 432x288 with 1 Axes>"
      ]
     },
     "metadata": {},
     "output_type": "display_data"
    }
   ],
   "source": [
    "from sklearn.utils import resample\n",
    "\n",
    "# Cognitive Functions are determined by the last 3 letters of MBTI Type, so isolate the last three letters\n",
    "\n",
    "df[\"NFP\"] = [1 if x == 'INFP' or x =='ENFP' else 0 for x in df.iloc[:,0]]\n",
    "df[\"NFJ\"] = [1 if x == 'INFJ' or x == 'ENFJ' else 0 for x in df.iloc[:,0]]\n",
    "df[\"NTP\"] = [1 if x == 'ENTP' or x =='INTP' else 0 for x in df.iloc[:,0]]\n",
    "df[\"NTJ\"] = [1 if x == 'ENTJ' or x == 'INTJ' else 0 for x in df.iloc[:,0]]\n",
    "df[\"STJ\"] = [1 if x == 'ESTJ' or x == 'ISTJ' else 0 for x in df.iloc[:,0]]\n",
    "df[\"STP\"] = [1 if x == 'ESTP' or x == 'ISTP' else 0 for x in df.iloc[:,0]]\n",
    "df[\"SFP\"] = [1 if x == 'ESFP' or x == 'ISFP' else 0 for x in df.iloc[:,0]]\n",
    "df[\"SFJ\"] = [1 if x == 'ESFJ' or x == 'ISFJ' else 0 for x in df.iloc[:,0]]\n",
    "df[\"E\"] = [1 if x[0] == 'E' else 0 for x in df.iloc[:,0]]\n",
    "\n",
    "\n",
    "# Resample the data Function\n",
    "def resample_df(df,samples):\n",
    "    downsampled = resample(df[df[\"NFP\"] == 1], replace=False,n_samples=samples,random_state=10) # reproducible results\n",
    "    downsampled2 = resample(df[df[\"NFJ\"] == 1], replace=False,n_samples=samples,random_state=10) # reproducible results\n",
    "    downsampled3 = resample(df[df[\"NTP\"] == 1], replace=False,n_samples=samples,random_state=10) # reproducible results\n",
    "    downsampled4 = resample(df[df[\"NTJ\"] == 1], replace=False,n_samples=samples,random_state=10) # reproducible results\n",
    "    downsampled5 = resample(df[df[\"SFP\"] == 1], replace=False,n_samples=samples,random_state=10) # reproducible results\n",
    "    downsampled6 = resample(df[df[\"SFJ\"] == 1], replace=False,n_samples=samples,random_state=10) # reproducible results\n",
    "    downsampled7 = resample(df[df[\"STP\"] == 1], replace=False,n_samples=samples,random_state=10) # reproducible results\n",
    "    downsampled8 = resample(df[df[\"STJ\"] == 1], replace=False,n_samples=samples,random_state=10) # reproducible results\n",
    "    downsampled_df = pd.concat([downsampled,downsampled2,downsampled3,downsampled4,downsampled5,downsampled6,downsampled7,downsampled8])\n",
    "    return downsampled_df\n",
    "resample_df(df,208)\n",
    "\n",
    "#Resample the data\n",
    "\n",
    "downsampled_df = resample_df(df,208)\n",
    "downsampled_df.iloc[:,0].value_counts()\n",
    "downsampled_df = downsampled_df.drop_duplicates(subset='posts', keep='first', inplace=False)\n",
    "\n",
    "#Graph the new distribution\n",
    "\n",
    "columns_to_use = np.array(downsampled_df.columns[2:10])\n",
    "counts = downsampled_df.iloc[:,2:10].apply(np.sum,axis=0)\n",
    "plt.bar(columns_to_use,counts)\n",
    "plt.xlabel(\"Primary Perceiving-Judging Functions\")\n",
    "plt.ylabel(\"Count\")\n",
    "dfd = downsampled_df\n",
    "dfd = dfd.reset_index(drop=True)\n"
   ]
  },
  {
   "cell_type": "markdown",
   "metadata": {},
   "source": [
    "# Split the Data into Training, Test Sets"
   ]
  },
  {
   "cell_type": "markdown",
   "metadata": {},
   "source": [
    "We want to be able to make sure that our test set is separate from our training set.  For this reason\n",
    "we will split the two tests but make sure they each maintain their equal distribution of the cogntive functions (The target variable)."
   ]
  },
  {
   "cell_type": "code",
   "execution_count": 5,
   "metadata": {},
   "outputs": [
    {
     "name": "stdout",
     "output_type": "stream",
     "text": [
      "Size of Training set: 1408\n",
      "Size of Test set: 256\n",
      "\n",
      "Graph the test set distribution to ensure cognitive function balance is maintained\n"
     ]
    },
    {
     "data": {
      "text/plain": [
       "Text(0, 0.5, 'Count')"
      ]
     },
     "execution_count": 5,
     "metadata": {},
     "output_type": "execute_result"
    },
    {
     "data": {
      "image/png": "[encoded data removed]",
      "text/plain": [
       "<Figure size 432x288 with 1 Axes>"
      ]
     },
     "metadata": {},
     "output_type": "display_data"
    }
   ],
   "source": [
    "np.random.seed(20)\n",
    "split = np.random.rand(dfd.shape[0])\n",
    "train_df = resample_df(dfd,176)\n",
    "test_df = pd.concat([dfd,train_df]).drop_duplicates(keep=False)\n",
    "\n",
    "print(f\"Size of Training set: {len(train_df)}\")\n",
    "print(f\"Size of Test set: {len(test_df)}\")\n",
    "\n",
    "train_df = train_df.reset_index(drop=True)\n",
    "test_df = test_df.reset_index(drop=True)\n",
    "\n",
    "print(\"\\nGraph the test set distribution to ensure cognitive function balance is maintained\")\n",
    "columns_to_use = np.array(test_df.columns[2:10])\n",
    "counts = test_df.iloc[:,2:10].apply(np.sum,axis=0)\n",
    "plt.bar(columns_to_use,counts)\n",
    "plt.ylabel(\"Count\")"
   ]
  },
  {
   "cell_type": "code",
   "execution_count": 6,
   "metadata": {},
   "outputs": [],
   "source": [
    "train_df = train_df.sample(frac=1).reset_index(drop=True)\n",
    "test_df = test_df.sample(frac=1).reset_index(drop=True)\n"
   ]
  },
  {
   "cell_type": "markdown",
   "metadata": {},
   "source": [
    "# Cleaning the DF and Generating Structural Features"
   ]
  },
  {
   "cell_type": "markdown",
   "metadata": {},
   "source": [
    "Originally each users posts are included in the data as one total string with each post separated by pipe \n",
    "characters.  We want to clean the dataframe and make sure that the posts are individually extracted for \n",
    "each user.\n",
    "\n",
    "While doing this we want to extract structural variables (post length, words per sentence, etc), since \n",
    "these may prove to be helpful indicators of specific cogntive functions."
   ]
  },
  {
   "cell_type": "code",
   "execution_count": 7,
   "metadata": {},
   "outputs": [
    {
     "name": "stderr",
     "output_type": "stream",
     "text": [
      "[nltk_data] Downloading package punkt to\n",
      "[nltk_data]     /Users/allanporter/nltk_data...\n",
      "[nltk_data]   Package punkt is already up-to-date!\n"
     ]
    }
   ],
   "source": [
    "import re\n",
    "from collections import Counter \n",
    "from string import punctuation\n",
    "import nltk\n",
    "nltk.download('punkt')\n",
    "import nltk.tokenize\n",
    "from nltk.tokenize import word_tokenize\n",
    "from nltk.tokenize import sent_tokenize\n",
    "\n",
    "#Clean the users posts \n",
    "def clean_posts(df,index,sample_format):\n",
    "    # Split the users posts into separate posts\n",
    "    # Enters this branch if we test a sample post (later on)\n",
    "    \n",
    "    #check if df is the df that we test on our sample text which has a different format than forum texts \n",
    "    if(sample_format == 1):\n",
    "        posts_list = [df['joined'][index]]\n",
    "    else:\n",
    "        posts_list = df['posts'][index].split('|||')\n",
    "    \n",
    "    \n",
    "    # Create the variables to be used later\n",
    "    words_per_post = []\n",
    "    length_of_post = []\n",
    "    sentences_per_post = []\n",
    "    words_per_sent = []\n",
    "    posts = []\n",
    "    #Iterate through each post\n",
    "    for count,post in enumerate(posts_list):\n",
    "        # Get structural vars\n",
    "        if(len(post) > 0):\n",
    "            posts.append(post)\n",
    "            length_of_post.append(len(post))\n",
    "            words_per_post.append(len(word_tokenize(post)))\n",
    "            sentences_per_post.append(len(sent_tokenize(post)))\n",
    "            words_per_sent_temp = []\n",
    "            for s in sent_tokenize(post):\n",
    "                words = word_tokenize(s)\n",
    "                words_per_sent_temp.append(len(words))\n",
    "            words_per_sent.append(np.mean(words_per_sent_temp))\n",
    "        else:\n",
    "            count -= 1\n",
    "    return [posts, np.mean(length_of_post), np.mean(words_per_post), np.mean(sentences_per_post), np.mean(words_per_sent)]\n",
    "\n",
    "\n",
    "\n",
    "train_post_list = []\n",
    "train_avg_post_length = []\n",
    "train_words_per_post = []\n",
    "train_sents_per_post = []\n",
    "train_words_per_sent = []\n",
    "\n",
    "\n",
    "for row in train_df.iterrows():\n",
    "    cleaned_posts = clean_posts(train_df,row[0],0)\n",
    "    train_post_list.append(cleaned_posts[0])\n",
    "    train_avg_post_length.append(cleaned_posts[1])\n",
    "    train_words_per_post.append(cleaned_posts[2])\n",
    "    train_sents_per_post.append(cleaned_posts[3])\n",
    "    train_words_per_sent.append(cleaned_posts[4])\n",
    "\n",
    "train_df['post_list'] = train_post_list\n",
    "train_df['avg_post_length'] = train_avg_post_length\n",
    "train_df['words_per_post'] = train_words_per_post\n",
    "train_df['sents_per_post'] = train_sents_per_post\n",
    "train_df['words_per_sent'] = train_words_per_sent\n",
    "\n",
    "\n",
    "test_post_list = []\n",
    "test_avg_post_length = []\n",
    "test_words_per_post = []\n",
    "test_sents_per_post = []\n",
    "test_words_per_sent = []\n",
    "\n",
    "for row in test_df.iterrows():\n",
    "    cleaned_posts = clean_posts(test_df,row[0],0)\n",
    "    test_post_list.append(cleaned_posts[0])\n",
    "    test_avg_post_length.append(cleaned_posts[1])\n",
    "    test_words_per_post.append(cleaned_posts[2])\n",
    "    test_sents_per_post.append(cleaned_posts[3])\n",
    "    test_words_per_sent.append(cleaned_posts[4])\n",
    "\n",
    "\n",
    "test_df['post_list'] = test_post_list\n",
    "test_df['avg_post_length'] = test_avg_post_length\n",
    "test_df['words_per_post'] = test_words_per_post\n",
    "test_df['sents_per_post'] = test_sents_per_post\n",
    "test_df['words_per_sent'] = test_words_per_sent\n"
   ]
  },
  {
   "cell_type": "markdown",
   "metadata": {},
   "source": [
    "# Join all of a single users posts into a single string to make extracting certain variables more readable"
   ]
  },
  {
   "cell_type": "code",
   "execution_count": 8,
   "metadata": {},
   "outputs": [],
   "source": [
    "def join_posts(df,attr):\n",
    "    joined = []\n",
    "    for row in df.iterrows():\n",
    "        joined_row = ''\n",
    "        for post in row[1][attr]:\n",
    "            joined_row = joined_row + post\n",
    "        joined.append(joined_row)\n",
    "    return joined\n",
    "train_df['joined'] = join_posts(train_df,'post_list')\n",
    "test_df['joined'] = join_posts(test_df,'post_list')"
   ]
  },
  {
   "cell_type": "markdown",
   "metadata": {},
   "source": [
    "# Clean words that relate only to personality to better generalize data"
   ]
  },
  {
   "cell_type": "markdown",
   "metadata": {},
   "source": [
    "These words that relate to only personality will bias our data if included.  For Example- People who write \"Fi\" are more\n",
    "likely to possess the FI cogntive function.  \n",
    "\n",
    "Note that if we were predicting cogntive function for only people who post on a personality forum these may \n",
    "end up being valid predictors of personality.  But the goal here is to generalize our prediction\n",
    "as much as possible to other text as well.  \n",
    "\n",
    "I also included www, youtube and iphone in this list of words to remove as I saw that they all came up\n",
    "very often throughout users posts but were highly correlated with links posted (www, youtube) and\n",
    "\"sent from my iphone\" (iphone) notifications.  "
   ]
  },
  {
   "cell_type": "code",
   "execution_count": 9,
   "metadata": {},
   "outputs": [],
   "source": [
    "to_remove = ['mbti','www','infps','infjs','isfps','isfjs','enfps','enfjs','entjs','intjs','estps','estjs','istps','istjs',\n",
    "             'iphone','youtub','infp','infj','intp','intj','entp','enfp','entj','enfj','isfp','isfj','esfj','esfp','estj','estp','istp','istj','fi','fe','ti','te','si','se','ni','ne']\n",
    "\n",
    "def clean_join(df):\n",
    "    for row in df.iterrows():\n",
    "        joined = row[1]['joined']\n",
    "        for word in to_remove:\n",
    "            #while(word in joined):\n",
    "            joined.replace(word,'')\n",
    "clean_join(train_df)\n",
    "clean_join(test_df)"
   ]
  },
  {
   "cell_type": "markdown",
   "metadata": {},
   "source": [
    "# Generating Punctuation, Link and Media Features"
   ]
  },
  {
   "cell_type": "markdown",
   "metadata": {},
   "source": [
    "Use of punctuation, posting links and posting different types of media (images, videos) may prove to be\n",
    "predictors of cogntive function so will be added to our dataframe as potential features. "
   ]
  },
  {
   "cell_type": "code",
   "execution_count": 10,
   "metadata": {},
   "outputs": [],
   "source": [
    "def get_more_vars(df):\n",
    "    \n",
    "    question_count = []\n",
    "    exclamation_count = []\n",
    "    comma_count = []\n",
    "    link_count = []\n",
    "    words_per_sent = []\n",
    "    image_count = []\n",
    "    video_count = []\n",
    "    nonmedia_url_count = []\n",
    "\n",
    "    for row in df.iterrows():\n",
    "        posts = row[1]['joined']\n",
    "        length = len(posts)\n",
    "        comma_count.append(posts.count(',') / length)\n",
    "        question_count.append(posts.count('?') / length)\n",
    "        exclamation_count.append(posts.count('!') / length)\n",
    "        sentences = sent_tokenize(posts)\n",
    "        temp_sent = []\n",
    "            \n",
    "        links = re.findall('(https?://[^\\s]+)', posts)\n",
    "        link_count.append(len(links) / length)\n",
    "        images = 0\n",
    "        videos = 0\n",
    "        non_media_url = 0\n",
    "        for l in links:\n",
    "            if 'jpg' in l or 'png' in l:\n",
    "                images += 1\n",
    "            elif 'youtube' in l:\n",
    "                videos += 1\n",
    "            else:\n",
    "                non_media_url += 1\n",
    "        image_count.append(images / length)\n",
    "        video_count.append(videos / length)\n",
    "        nonmedia_url_count.append(non_media_url / length)\n",
    "    return [question_count, exclamation_count, comma_count, link_count, image_count, video_count, nonmedia_url_count]\n",
    "\n",
    "more_vars = get_more_vars(train_df)\n",
    "train_df['question_count'] = more_vars[0]\n",
    "train_df['exclamation_count'] = more_vars[1]\n",
    "train_df['comma_count'] = more_vars[2]\n",
    "train_df['link_count'] = more_vars[3]\n",
    "train_df['image_count'] = more_vars[4]\n",
    "train_df['video_count'] = more_vars[5]\n",
    "train_df['nonmedia_url_count'] = more_vars[6]\n",
    "\n",
    "more_vars_d = get_more_vars(test_df)\n",
    "test_df['question_count'] = more_vars_d[0]\n",
    "test_df['exclamation_count'] = more_vars_d[1]\n",
    "test_df['comma_count'] = more_vars_d[2]\n",
    "test_df['link_count'] = more_vars_d[3]\n",
    "test_df['image_count'] = more_vars_d[4]\n",
    "test_df['video_count'] = more_vars_d[5]\n",
    "test_df['nonmedia_url_count'] = more_vars_d[6]"
   ]
  },
  {
   "cell_type": "markdown",
   "metadata": {},
   "source": [
    "# Dropping Features that are no longer needed"
   ]
  },
  {
   "cell_type": "code",
   "execution_count": 11,
   "metadata": {},
   "outputs": [],
   "source": [
    "def drop_irrelevant(df):\n",
    "    df = df.dropna()\n",
    "    df = df.drop(columns=[\"posts\",\"type\"])\n",
    "    df = df.drop(columns=['SFP','SFJ','STJ','STP','NFP','NFJ','NTP','NTJ'])\n",
    "    return df\n",
    "train_df = drop_irrelevant(train_df)\n",
    "test_df = drop_irrelevant(test_df)"
   ]
  },
  {
   "cell_type": "markdown",
   "metadata": {},
   "source": [
    "# Check for Missing Values \n"
   ]
  },
  {
   "cell_type": "code",
   "execution_count": 12,
   "metadata": {},
   "outputs": [
    {
     "data": {
      "text/plain": [
       "False"
      ]
     },
     "execution_count": 12,
     "metadata": {},
     "output_type": "execute_result"
    }
   ],
   "source": [
    "train_df.isnull().values.any()"
   ]
  },
  {
   "cell_type": "markdown",
   "metadata": {},
   "source": [
    "None found"
   ]
  },
  {
   "cell_type": "markdown",
   "metadata": {},
   "source": [
    "# Check Distributions of Media and Punctuation Variables and Find Outliers"
   ]
  },
  {
   "cell_type": "markdown",
   "metadata": {},
   "source": [
    "Note that when I first checked these distributions there were some major outliers which had to do\n",
    "with how I joined the post data earlier.  Ive since corrected such mistakes and few significant outliers are now\n",
    "found.  The ones that are found were checked and found to be valid data values. "
   ]
  },
  {
   "cell_type": "code",
   "execution_count": 13,
   "metadata": {},
   "outputs": [
    {
     "data": {
      "text/html": [
       "<div>\n",
       "<style scoped>\n",
       "    .dataframe tbody tr th:only-of-type {\n",
       "        vertical-align: middle;\n",
       "    }\n",
       "\n",
       "    .dataframe tbody tr th {\n",
       "        vertical-align: top;\n",
       "    }\n",
       "\n",
       "    .dataframe thead th {\n",
       "        text-align: right;\n",
       "    }\n",
       "</style>\n",
       "<table border=\"1\" class=\"dataframe\">\n",
       "  <thead>\n",
       "    <tr style=\"text-align: right;\">\n",
       "      <th></th>\n",
       "      <th>video_count</th>\n",
       "      <th>image_count</th>\n",
       "      <th>nonmedia_url_count</th>\n",
       "      <th>question_count</th>\n",
       "      <th>exclamation_count</th>\n",
       "      <th>comma_count</th>\n",
       "    </tr>\n",
       "  </thead>\n",
       "  <tbody>\n",
       "    <tr>\n",
       "      <th>0</th>\n",
       "      <td>0.000000</td>\n",
       "      <td>0.000129</td>\n",
       "      <td>0.0</td>\n",
       "      <td>0.000772</td>\n",
       "      <td>0.003987</td>\n",
       "      <td>0.014148</td>\n",
       "    </tr>\n",
       "    <tr>\n",
       "      <th>1</th>\n",
       "      <td>0.000000</td>\n",
       "      <td>0.000000</td>\n",
       "      <td>0.0</td>\n",
       "      <td>0.000698</td>\n",
       "      <td>0.000349</td>\n",
       "      <td>0.007213</td>\n",
       "    </tr>\n",
       "    <tr>\n",
       "      <th>2</th>\n",
       "      <td>0.000502</td>\n",
       "      <td>0.000000</td>\n",
       "      <td>0.0</td>\n",
       "      <td>0.001338</td>\n",
       "      <td>0.000836</td>\n",
       "      <td>0.009535</td>\n",
       "    </tr>\n",
       "    <tr>\n",
       "      <th>3</th>\n",
       "      <td>0.000204</td>\n",
       "      <td>0.000000</td>\n",
       "      <td>0.0</td>\n",
       "      <td>0.002043</td>\n",
       "      <td>0.000000</td>\n",
       "      <td>0.007560</td>\n",
       "    </tr>\n",
       "    <tr>\n",
       "      <th>4</th>\n",
       "      <td>0.000000</td>\n",
       "      <td>0.000000</td>\n",
       "      <td>0.0</td>\n",
       "      <td>0.002774</td>\n",
       "      <td>0.000000</td>\n",
       "      <td>0.001525</td>\n",
       "    </tr>\n",
       "  </tbody>\n",
       "</table>\n",
       "</div>"
      ],
      "text/plain": [
       "   video_count  image_count  nonmedia_url_count  question_count  \\\n",
       "0     0.000000     0.000129                 0.0        0.000772   \n",
       "1     0.000000     0.000000                 0.0        0.000698   \n",
       "2     0.000502     0.000000                 0.0        0.001338   \n",
       "3     0.000204     0.000000                 0.0        0.002043   \n",
       "4     0.000000     0.000000                 0.0        0.002774   \n",
       "\n",
       "   exclamation_count  comma_count  \n",
       "0           0.003987     0.014148  \n",
       "1           0.000349     0.007213  \n",
       "2           0.000836     0.009535  \n",
       "3           0.000000     0.007560  \n",
       "4           0.000000     0.001525  "
      ]
     },
     "execution_count": 13,
     "metadata": {},
     "output_type": "execute_result"
    }
   ],
   "source": [
    "media_and_punc = 'video_count','image_count','nonmedia_url_count','question_count', 'exclamation_count', 'comma_count'\n",
    "to_plot = []\n",
    "[to_plot.append(train_df[col]) for col in media_and_punc]\n",
    "media_punc_df = pd.DataFrame(to_plot).transpose()\n",
    "media_punc_df.head()"
   ]
  },
  {
   "cell_type": "markdown",
   "metadata": {},
   "source": [
    "# Use Scatter Plots to Visualize the Distributions"
   ]
  },
  {
   "cell_type": "code",
   "execution_count": 14,
   "metadata": {},
   "outputs": [
    {
     "data": {
      "image/png": "[encoded data removed]",
      "text/plain": [
       "<Figure size 432x288 with 1 Axes>"
      ]
     },
     "metadata": {},
     "output_type": "display_data"
    },
    {
     "data": {
      "image/png": "[encoded data removed]",
      "text/plain": [
       "<Figure size 432x288 with 1 Axes>"
      ]
     },
     "metadata": {},
     "output_type": "display_data"
    },
    {
     "data": {
      "image/png": "[encoded data removed]",
      "text/plain": [
       "<Figure size 432x288 with 1 Axes>"
      ]
     },
     "metadata": {},
     "output_type": "display_data"
    },
    {
     "data": {
      "image/png": "[encoded data removed]",
      "text/plain": [
       "<Figure size 432x288 with 1 Axes>"
      ]
     },
     "metadata": {},
     "output_type": "display_data"
    },
    {
     "data": {
      "image/png": "[encoded data removed]",
      "text/plain": [
       "<Figure size 432x288 with 1 Axes>"
      ]
     },
     "metadata": {},
     "output_type": "display_data"
    },
    {
     "data": {
      "image/png": "[encoded data removed]",
      "text/plain": [
       "<Figure size 432x288 with 1 Axes>"
      ]
     },
     "metadata": {},
     "output_type": "display_data"
    }
   ],
   "source": [
    "colors = ['orange','red','green','yellow', 'blue','black']\n",
    "i=0\n",
    "for col in media_and_punc:\n",
    "    plt.figure(figsize=(6,4))\n",
    "    plt.title(col)\n",
    "    plt.ylim(0,.025)\n",
    "    sb.scatterplot(range(len(train_df)),train_df[col],color=colors[i])\n",
    "    i+=1"
   ]
  },
  {
   "cell_type": "markdown",
   "metadata": {},
   "source": [
    "# Analyze the distribution of the structural variables"
   ]
  },
  {
   "cell_type": "code",
   "execution_count": 15,
   "metadata": {
    "scrolled": true
   },
   "outputs": [
    {
     "data": {
      "text/html": [
       "<div>\n",
       "<style scoped>\n",
       "    .dataframe tbody tr th:only-of-type {\n",
       "        vertical-align: middle;\n",
       "    }\n",
       "\n",
       "    .dataframe tbody tr th {\n",
       "        vertical-align: top;\n",
       "    }\n",
       "\n",
       "    .dataframe thead th {\n",
       "        text-align: right;\n",
       "    }\n",
       "</style>\n",
       "<table border=\"1\" class=\"dataframe\">\n",
       "  <thead>\n",
       "    <tr style=\"text-align: right;\">\n",
       "      <th></th>\n",
       "      <th>avg_post_length</th>\n",
       "      <th>words_per_post</th>\n",
       "      <th>sents_per_post</th>\n",
       "      <th>words_per_sent</th>\n",
       "    </tr>\n",
       "  </thead>\n",
       "  <tbody>\n",
       "    <tr>\n",
       "      <th>0</th>\n",
       "      <td>155.500000</td>\n",
       "      <td>34.600000</td>\n",
       "      <td>2.5000</td>\n",
       "      <td>13.997000</td>\n",
       "    </tr>\n",
       "    <tr>\n",
       "      <th>1</th>\n",
       "      <td>179.083333</td>\n",
       "      <td>38.895833</td>\n",
       "      <td>2.9375</td>\n",
       "      <td>15.081597</td>\n",
       "    </tr>\n",
       "    <tr>\n",
       "      <th>2</th>\n",
       "      <td>119.560000</td>\n",
       "      <td>26.200000</td>\n",
       "      <td>2.0600</td>\n",
       "      <td>13.158333</td>\n",
       "    </tr>\n",
       "    <tr>\n",
       "      <th>3</th>\n",
       "      <td>143.941176</td>\n",
       "      <td>30.970588</td>\n",
       "      <td>2.0000</td>\n",
       "      <td>18.382353</td>\n",
       "    </tr>\n",
       "    <tr>\n",
       "      <th>4</th>\n",
       "      <td>144.220000</td>\n",
       "      <td>34.400000</td>\n",
       "      <td>3.2000</td>\n",
       "      <td>11.974286</td>\n",
       "    </tr>\n",
       "  </tbody>\n",
       "</table>\n",
       "</div>"
      ],
      "text/plain": [
       "   avg_post_length  words_per_post  sents_per_post  words_per_sent\n",
       "0       155.500000       34.600000          2.5000       13.997000\n",
       "1       179.083333       38.895833          2.9375       15.081597\n",
       "2       119.560000       26.200000          2.0600       13.158333\n",
       "3       143.941176       30.970588          2.0000       18.382353\n",
       "4       144.220000       34.400000          3.2000       11.974286"
      ]
     },
     "execution_count": 15,
     "metadata": {},
     "output_type": "execute_result"
    }
   ],
   "source": [
    "structural = 'avg_post_length','words_per_post','sents_per_post','words_per_sent'\n",
    "to_plot = []\n",
    "[to_plot.append(train_df[col]) for col in structural]\n",
    "structural_df = pd.DataFrame(to_plot).transpose()\n",
    "structural_df.head()"
   ]
  },
  {
   "cell_type": "code",
   "execution_count": 16,
   "metadata": {
    "scrolled": true
   },
   "outputs": [
    {
     "data": {
      "image/png": "[encoded data removed]",
      "text/plain": [
       "<Figure size 432x288 with 1 Axes>"
      ]
     },
     "metadata": {},
     "output_type": "display_data"
    },
    {
     "data": {
      "image/png": "[encoded data removed]",
      "text/plain": [
       "<Figure size 432x288 with 1 Axes>"
      ]
     },
     "metadata": {},
     "output_type": "display_data"
    },
    {
     "data": {
      "image/png": "[encoded data removed]",
      "text/plain": [
       "<Figure size 432x288 with 1 Axes>"
      ]
     },
     "metadata": {},
     "output_type": "display_data"
    },
    {
     "data": {
      "image/png": "[encoded data removed]",
      "text/plain": [
       "<Figure size 432x288 with 1 Axes>"
      ]
     },
     "metadata": {},
     "output_type": "display_data"
    }
   ],
   "source": [
    "colors = ['orange','red','green', 'blue']\n",
    "i=0\n",
    "for col in structural:\n",
    "    plt.figure(figsize=(6,4))\n",
    "    plt.title(col)\n",
    "    plt.xlabel = \"user\"\n",
    "    sb.scatterplot(range(len(train_df)),train_df[col],color=colors[i])\n",
    "    i+=1"
   ]
  },
  {
   "cell_type": "markdown",
   "metadata": {},
   "source": [
    "# Correlating Non Word Variables with Cognitive Function"
   ]
  },
  {
   "cell_type": "code",
   "execution_count": 17,
   "metadata": {},
   "outputs": [],
   "source": [
    "# drop non numeric features\n",
    "nonwords = train_df.drop(['post_list','joined'],axis=1)"
   ]
  },
  {
   "cell_type": "code",
   "execution_count": 18,
   "metadata": {},
   "outputs": [],
   "source": [
    "#get nonword features\n",
    "non_functions = [col for col in nonwords.columns if len(col) > 2]\n",
    "nonwords = nonwords.loc[:,non_functions]"
   ]
  },
  {
   "cell_type": "code",
   "execution_count": 19,
   "metadata": {},
   "outputs": [
    {
     "name": "stdout",
     "output_type": "stream",
     "text": [
      "\n",
      "Correlations between Ne and Nonword Variables\n",
      "\n",
      "avg_post_length       0.036388\n",
      "words_per_post        0.019061\n",
      "sents_per_post       -0.021317\n",
      "words_per_sent        0.053554\n",
      "question_count       -0.024123\n",
      "exclamation_count     0.011685\n",
      "comma_count           0.062474\n",
      "link_count           -0.025243\n",
      "image_count           0.001580\n",
      "video_count          -0.020650\n",
      "nonmedia_url_count   -0.031970\n",
      "dtype: float64\n",
      "\n",
      "Correlations between Ni and Nonword Variables\n",
      "\n",
      "avg_post_length       0.034877\n",
      "words_per_post        0.016578\n",
      "sents_per_post       -0.001360\n",
      "words_per_sent        0.032956\n",
      "question_count       -0.014113\n",
      "exclamation_count    -0.028697\n",
      "comma_count          -0.036428\n",
      "link_count           -0.013435\n",
      "image_count           0.011288\n",
      "video_count          -0.033500\n",
      "nonmedia_url_count    0.024851\n",
      "dtype: float64\n",
      "\n",
      "Correlations between Se and Nonword Variables\n",
      "\n",
      "avg_post_length      -0.093675\n",
      "words_per_post       -0.077151\n",
      "sents_per_post       -0.004203\n",
      "words_per_sent       -0.096827\n",
      "question_count        0.067171\n",
      "exclamation_count     0.000103\n",
      "comma_count          -0.012539\n",
      "link_count            0.061871\n",
      "image_count           0.011481\n",
      "video_count           0.057485\n",
      "nonmedia_url_count    0.044864\n",
      "dtype: float64\n",
      "\n",
      "Correlations between Si and Nonword Variables\n",
      "\n",
      "avg_post_length       0.022410\n",
      "words_per_post        0.041511\n",
      "sents_per_post        0.026880\n",
      "words_per_sent        0.010318\n",
      "question_count       -0.028935\n",
      "exclamation_count     0.016909\n",
      "comma_count          -0.013507\n",
      "link_count           -0.023193\n",
      "image_count          -0.024350\n",
      "video_count          -0.003335\n",
      "nonmedia_url_count   -0.037745\n",
      "dtype: float64\n",
      "\n",
      "Correlations between Fi and Nonword Variables\n",
      "\n",
      "avg_post_length      -0.021680\n",
      "words_per_post       -0.007422\n",
      "sents_per_post        0.006982\n",
      "words_per_sent       -0.018014\n",
      "question_count        0.000411\n",
      "exclamation_count     0.164775\n",
      "comma_count           0.031254\n",
      "link_count            0.032207\n",
      "image_count           0.009488\n",
      "video_count           0.040311\n",
      "nonmedia_url_count   -0.005269\n",
      "dtype: float64\n",
      "\n",
      "Correlations between Fe and Nonword Variables\n",
      "\n",
      "avg_post_length       0.066956\n",
      "words_per_post        0.079650\n",
      "sents_per_post        0.077336\n",
      "words_per_sent        0.013591\n",
      "question_count       -0.032921\n",
      "exclamation_count     0.071209\n",
      "comma_count           0.000752\n",
      "link_count           -0.014454\n",
      "image_count          -0.021469\n",
      "video_count          -0.010696\n",
      "nonmedia_url_count    0.003999\n",
      "dtype: float64\n",
      "\n",
      "Correlations between Ti and Nonword Variables\n",
      "\n",
      "avg_post_length      -0.035607\n",
      "words_per_post       -0.050667\n",
      "sents_per_post       -0.032503\n",
      "words_per_sent       -0.025260\n",
      "question_count        0.042637\n",
      "exclamation_count    -0.152987\n",
      "comma_count           0.018681\n",
      "link_count            0.004420\n",
      "image_count           0.003573\n",
      "video_count          -0.003475\n",
      "nonmedia_url_count    0.018163\n",
      "dtype: float64\n",
      "\n",
      "Correlations between Te and Nonword Variables\n",
      "\n",
      "avg_post_length      -0.009669\n",
      "words_per_post       -0.021561\n",
      "sents_per_post       -0.051816\n",
      "words_per_sent        0.029683\n",
      "question_count       -0.010127\n",
      "exclamation_count    -0.082997\n",
      "comma_count          -0.050687\n",
      "link_count           -0.022173\n",
      "image_count           0.008408\n",
      "video_count          -0.026140\n",
      "nonmedia_url_count   -0.016893\n",
      "dtype: float64\n"
     ]
    }
   ],
   "source": [
    "#calculate correlations\n",
    "cog_functions = [col for col in train_df.columns if len(col) == 2]\n",
    "functions = train_df.loc[:,cog_functions]\n",
    "corr_list = []\n",
    "for func in cog_functions:\n",
    "    print(f\"\\nCorrelations between {func} and Nonword Variables\\n\")\n",
    "    print(nonwords.corrwith(train_df[func]))\n",
    "    listed = nonwords.corrwith(train_df[func])\n",
    "    count = 0\n",
    "    for row in listed:\n",
    "        attribute = listed.index[count]\n",
    "        correlation = row\n",
    "        corr_list.append([func,attribute,correlation])\n",
    "        count+=1\n"
   ]
  },
  {
   "cell_type": "code",
   "execution_count": 20,
   "metadata": {},
   "outputs": [
    {
     "name": "stdout",
     "output_type": "stream",
     "text": [
      "Top Correlations between Cognitive Functions and Nonword Attributes\n"
     ]
    },
    {
     "data": {
      "text/html": [
       "<div>\n",
       "<style scoped>\n",
       "    .dataframe tbody tr th:only-of-type {\n",
       "        vertical-align: middle;\n",
       "    }\n",
       "\n",
       "    .dataframe tbody tr th {\n",
       "        vertical-align: top;\n",
       "    }\n",
       "\n",
       "    .dataframe thead th {\n",
       "        text-align: right;\n",
       "    }\n",
       "</style>\n",
       "<table border=\"1\" class=\"dataframe\">\n",
       "  <thead>\n",
       "    <tr style=\"text-align: right;\">\n",
       "      <th></th>\n",
       "      <th>Function</th>\n",
       "      <th>Attribute</th>\n",
       "      <th>Correlation</th>\n",
       "    </tr>\n",
       "  </thead>\n",
       "  <tbody>\n",
       "    <tr>\n",
       "      <th>49</th>\n",
       "      <td>Fi</td>\n",
       "      <td>exclamation_count</td>\n",
       "      <td>0.164775</td>\n",
       "    </tr>\n",
       "    <tr>\n",
       "      <th>56</th>\n",
       "      <td>Fe</td>\n",
       "      <td>words_per_post</td>\n",
       "      <td>0.079650</td>\n",
       "    </tr>\n",
       "    <tr>\n",
       "      <th>57</th>\n",
       "      <td>Fe</td>\n",
       "      <td>sents_per_post</td>\n",
       "      <td>0.077336</td>\n",
       "    </tr>\n",
       "    <tr>\n",
       "      <th>60</th>\n",
       "      <td>Fe</td>\n",
       "      <td>exclamation_count</td>\n",
       "      <td>0.071209</td>\n",
       "    </tr>\n",
       "    <tr>\n",
       "      <th>26</th>\n",
       "      <td>Se</td>\n",
       "      <td>question_count</td>\n",
       "      <td>0.067171</td>\n",
       "    </tr>\n",
       "    <tr>\n",
       "      <th>55</th>\n",
       "      <td>Fe</td>\n",
       "      <td>avg_post_length</td>\n",
       "      <td>0.066956</td>\n",
       "    </tr>\n",
       "    <tr>\n",
       "      <th>6</th>\n",
       "      <td>Ne</td>\n",
       "      <td>comma_count</td>\n",
       "      <td>0.062474</td>\n",
       "    </tr>\n",
       "    <tr>\n",
       "      <th>29</th>\n",
       "      <td>Se</td>\n",
       "      <td>link_count</td>\n",
       "      <td>0.061871</td>\n",
       "    </tr>\n",
       "    <tr>\n",
       "      <th>31</th>\n",
       "      <td>Se</td>\n",
       "      <td>video_count</td>\n",
       "      <td>0.057485</td>\n",
       "    </tr>\n",
       "    <tr>\n",
       "      <th>3</th>\n",
       "      <td>Ne</td>\n",
       "      <td>words_per_sent</td>\n",
       "      <td>0.053554</td>\n",
       "    </tr>\n",
       "  </tbody>\n",
       "</table>\n",
       "</div>"
      ],
      "text/plain": [
       "   Function          Attribute  Correlation\n",
       "49       Fi  exclamation_count     0.164775\n",
       "56       Fe     words_per_post     0.079650\n",
       "57       Fe     sents_per_post     0.077336\n",
       "60       Fe  exclamation_count     0.071209\n",
       "26       Se     question_count     0.067171\n",
       "55       Fe    avg_post_length     0.066956\n",
       "6        Ne        comma_count     0.062474\n",
       "29       Se         link_count     0.061871\n",
       "31       Se        video_count     0.057485\n",
       "3        Ne     words_per_sent     0.053554"
      ]
     },
     "execution_count": 20,
     "metadata": {},
     "output_type": "execute_result"
    }
   ],
   "source": [
    "func_nonword_corrs = pd.DataFrame(corr_list,columns=[\"Function\",\"Attribute\",\"Correlation\"])\n",
    "func_nonword_corrs = func_nonword_corrs.sort_values(by=\"Correlation\", ascending=False)\n",
    "print(\"Top Correlations between Cognitive Functions and Nonword Attributes\")\n",
    "func_nonword_corrs.head(10)"
   ]
  },
  {
   "cell_type": "markdown",
   "metadata": {},
   "source": [
    "It seems like structural,media and punctuation variables for the most part arent correlated highly with\n",
    "jungian cognitive function.  The somewhat exception is \"exclamation count\" which seems mildly correlated\n",
    "with the Fi cogntive function.  Perhaps judgers who internalize their judgments of the world through\n",
    "their feelings are more likely to use exclamation points.  Interesting, but not exactly what were looking for.\n",
    "Lets look at if words the posters used can act as a better indicator of cognitive function.  "
   ]
  },
  {
   "cell_type": "markdown",
   "metadata": {},
   "source": [
    "# Generate a list of all the words used per row"
   ]
  },
  {
   "cell_type": "markdown",
   "metadata": {},
   "source": [
    "Now its time to start thinking about the word features.  While we will be using a vectorizer to\n",
    "form word features, manually generating a list of words used per user will be important in checking\n",
    "specific instances of words to better understand our data first hand.  "
   ]
  },
  {
   "cell_type": "code",
   "execution_count": 21,
   "metadata": {},
   "outputs": [],
   "source": [
    "import string\n",
    "\n",
    "def wordlist(df):\n",
    "    wordlist = []\n",
    "    for row in df.iterrows():\n",
    "        posts = row[1]['joined']\n",
    "        posts = posts.lower()\n",
    "        table = str.maketrans(dict.fromkeys(string.punctuation)) \n",
    "        posts = posts.translate(table)                          \n",
    "        wordlist.append(posts.split(' '))\n",
    "        to_remove.append('')\n",
    "        for word in to_remove: \n",
    "            while(word in wordlist):\n",
    "                wordlist.remove(word)\n",
    "    return wordlist\n",
    "train_df['word_list'] = wordlist(train_df)\n",
    "test_df['word_list'] = wordlist(test_df)"
   ]
  },
  {
   "cell_type": "markdown",
   "metadata": {},
   "source": [
    "# Generate a Function to check the Users Instances of a word or words "
   ]
  },
  {
   "cell_type": "markdown",
   "metadata": {},
   "source": [
    "Being able to check how often a user uses a certain word may prove to be valuable during data exploration when we\n",
    "individually test certain words to see if they relate to specific cognitive functions."
   ]
  },
  {
   "cell_type": "code",
   "execution_count": 22,
   "metadata": {},
   "outputs": [],
   "source": [
    "def check_instance(df,target):\n",
    "    list_of_instances = []\n",
    "    for row in df.iterrows():\n",
    "        instance = 0\n",
    "        for word in row[1]['word_list']:\n",
    "            if word in target:\n",
    "                instance += 1\n",
    "        instance_count = instance / len(row[1]['word_list'])\n",
    "        list_of_instances.append(instance_count)\n",
    "    return list_of_instances"
   ]
  },
  {
   "cell_type": "markdown",
   "metadata": {},
   "source": [
    "# Data Exploration with Words"
   ]
  },
  {
   "cell_type": "markdown",
   "metadata": {},
   "source": [
    "Here we will start to explore the instances of words in the dataset, we first need to remove empty strings\n",
    "and prepare our word lists for each user for further analysis."
   ]
  },
  {
   "cell_type": "code",
   "execution_count": 23,
   "metadata": {},
   "outputs": [],
   "source": [
    "def remove_empty(df):\n",
    "    for row in df.iterrows():\n",
    "        wordlist = row[1]['word_list']\n",
    "        while '' in wordlist:\n",
    "            wordlist.remove('')\n",
    "        row[1]['word_list'] = wordlist\n",
    "remove_empty(train_df)\n",
    "\n",
    "\n",
    "def get_all_words(df,t):\n",
    "    if t != 'all':\n",
    "        df = train_df[df[t] == 1]\n",
    "    all_words = []\n",
    "    for row in df.iterrows():\n",
    "        all_words = all_words + (row[1]['word_list'])\n",
    "    return all_words"
   ]
  },
  {
   "cell_type": "markdown",
   "metadata": {},
   "source": [
    "# Generate a list of the top words associated with each cogntive function"
   ]
  },
  {
   "cell_type": "markdown",
   "metadata": {},
   "source": [
    "Here we will show the top words associated with each cognitive function.  Note that most top words will be\n",
    "the same for all users throughout all cognitive functions.  Though since stop words could\n",
    "potentially be indicators of cognitive function, we will not remove them."
   ]
  },
  {
   "cell_type": "code",
   "execution_count": 24,
   "metadata": {},
   "outputs": [],
   "source": [
    "\n",
    "\n",
    "def get_top_words(t,ng):\n",
    "    type_written = t[:-2]\n",
    "    length_t = len(t)\n",
    "    if(ng == 1):\n",
    "        word_count = Counter(t).most_common()\n",
    "    else:\n",
    "        word_count = Counter(ngrams(t, ng)).most_common()\n",
    "    instances = []\n",
    "    for word in list(word_count):\n",
    "        instance = word[1] / length_t\n",
    "        instances.append([word[0],instance])\n",
    "    return instances\n",
    "all_words = get_all_words(train_df,'all')\n",
    "all_fi = get_all_words(train_df,'Fi')\n",
    "all_fe = get_all_words(train_df,'Fe')\n",
    "all_ti = get_all_words(train_df,'Ti')\n",
    "all_te = get_all_words(train_df,'Te')\n",
    "all_si = get_all_words(train_df,'Si')\n",
    "all_se = get_all_words(train_df,'Se')\n",
    "all_ni = get_all_words(train_df,'Ni')\n",
    "all_ne = get_all_words(train_df,'Ne')\n",
    "types_to_plot = [all_words,all_fi,all_fe,all_te,all_ti,all_si,all_se,all_ni,all_ne]\n",
    "list_of_types = []\n",
    "for t in types_to_plot:\n",
    "    all_words = get_top_words(t,1) \n",
    "    list_of_types.append(all_words)"
   ]
  },
  {
   "cell_type": "code",
   "execution_count": 25,
   "metadata": {
    "scrolled": false
   },
   "outputs": [
    {
     "name": "stdout",
     "output_type": "stream",
     "text": [
      "Most popular words associated with each cogntive function\n"
     ]
    },
    {
     "data": {
      "image/png": "[encoded data removed]",
      "text/plain": [
       "<Figure size 432x288 with 1 Axes>"
      ]
     },
     "metadata": {},
     "output_type": "display_data"
    },
    {
     "data": {
      "image/png": "[encoded data removed]",
      "text/plain": [
       "<Figure size 432x288 with 1 Axes>"
      ]
     },
     "metadata": {},
     "output_type": "display_data"
    },
    {
     "data": {
      "image/png": "[encoded data removed]",
      "text/plain": [
       "<Figure size 432x288 with 1 Axes>"
      ]
     },
     "metadata": {},
     "output_type": "display_data"
    },
    {
     "data": {
      "image/png": "[encoded data removed]",
      "text/plain": [
       "<Figure size 432x288 with 1 Axes>"
      ]
     },
     "metadata": {},
     "output_type": "display_data"
    },
    {
     "data": {
      "image/png": "[encoded data removed]",
      "text/plain": [
       "<Figure size 432x288 with 1 Axes>"
      ]
     },
     "metadata": {},
     "output_type": "display_data"
    },
    {
     "data": {
      "image/png": "[encoded data removed]",
      "text/plain": [
       "<Figure size 432x288 with 1 Axes>"
      ]
     },
     "metadata": {},
     "output_type": "display_data"
    },
    {
     "data": {
      "image/png": "[encoded data removed]",
      "text/plain": [
       "<Figure size 432x288 with 1 Axes>"
      ]
     },
     "metadata": {},
     "output_type": "display_data"
    },
    {
     "data": {
      "image/png": "[encoded data removed]",
      "text/plain": [
       "<Figure size 432x288 with 1 Axes>"
      ]
     },
     "metadata": {},
     "output_type": "display_data"
    },
    {
     "data": {
      "image/png": "[encoded data removed]",
      "text/plain": [
       "<Figure size 432x288 with 1 Axes>"
      ]
     },
     "metadata": {},
     "output_type": "display_data"
    }
   ],
   "source": [
    "types_to_plot = [all_fi,all_fe,all_te,all_ti,all_si,all_se,all_ni,all_ne]\n",
    "def plot_topwords():\n",
    "    counter = 0\n",
    "    colors = ['red','green','blue','gray','purple','pink','black','orange','indigo']\n",
    "    titles = ['Throughout All Functions','Fi','Fe','Te','Ti','Si','Se','Ni','Ne']\n",
    "    print(\"Most popular words associated with each cogntive function\")\n",
    "    for t in list_of_types:\n",
    "        words = [i[0] for i in t[:20]]\n",
    "        counts =[i[1] for i in t[:20]]\n",
    "        fig = plt.figure()\n",
    "        wc_df = pd.DataFrame(counts,words,columns=[\"counts\"])\n",
    "        to_plot = wc_df.sort_values(by=\"counts\",ascending=True)\n",
    "        plt.barh(to_plot.index,to_plot.counts,color=colors[counter])\n",
    "        plt.title(titles[counter])\n",
    "        counter+=1\n",
    "plot_topwords()"
   ]
  },
  {
   "cell_type": "markdown",
   "metadata": {},
   "source": [
    "Lets start to analyze the most popular bigrams used by users as well"
   ]
  },
  {
   "cell_type": "code",
   "execution_count": 26,
   "metadata": {},
   "outputs": [],
   "source": [
    "from itertools import tee, islice\n",
    "def ngrams(words, n):\n",
    "    while 1:\n",
    "        x,y = tee(words)\n",
    "        slices = tuple(islice(x, n))\n",
    "        if len(slices) == n:\n",
    "            yield slices\n",
    "            next(y)\n",
    "            words = y\n",
    "        else:\n",
    "            break\n",
    "\n",
    "\n",
    "\n",
    "def get_ngrams(n):\n",
    "    ngrams_list = []\n",
    "    for t in types_to_plot:\n",
    "        word_count = Counter(ngrams(t, n)).most_common()\n",
    "        key1 = [str(w[0][0]) for w in word_count]\n",
    "        vals = [w[1] / len(word_count) for w in word_count]\n",
    "        key2 = [str(w[0][1]) for w in word_count]\n",
    "        if n >= 3:\n",
    "            key3 = [str(w[0][2]) for w in word_count]\n",
    "        if n == 4:\n",
    "            key4 = [str(w[0][3]) for w in word_count]\n",
    "        if n==2:\n",
    "            ind = [x+' ' +y for x,y in zip(key1,key2)]\n",
    "        elif n==3:\n",
    "            ind = [x + ' ' + y + ' ' + z for x,y,z in zip(key1,key2,key3)]\n",
    "        elif n == 4:\n",
    "            ind = [x + ' ' + y + ' ' + z + ' ' + w for x,y,z,w in zip(key1,key2,key3,key4)]\n",
    "        ng_df = pd.DataFrame(vals,ind,columns=['counts'])\n",
    "        to_plot = ng_df.sort_values(by='counts',ascending=False)\n",
    "        ngrams_list.append(to_plot)\n",
    "    return ngrams_list\n",
    "list_ngrams = get_ngrams(2)"
   ]
  },
  {
   "cell_type": "markdown",
   "metadata": {},
   "source": [
    "# Observe the Top 10 Bigrams associated with each Cognitive Function"
   ]
  },
  {
   "cell_type": "code",
   "execution_count": 27,
   "metadata": {},
   "outputs": [
    {
     "name": "stdout",
     "output_type": "stream",
     "text": [
      "Top 10 Bigrams associated with each cogntive function\n",
      "\n",
      "All Words: Top 10 Bigrams\n",
      "\n",
      "           counts\n",
      "i dont   0.005583\n",
      "to be    0.005360\n",
      "and i    0.005297\n",
      "i have   0.005286\n",
      "i think  0.005064\n",
      "i was    0.005042\n",
      "but i    0.005000\n",
      "in the   0.004836\n",
      "of the   0.004661\n",
      "i am     0.004544\n",
      "\n",
      "\n",
      "Fi: Top 10 Bigrams\n",
      "\n",
      "           counts\n",
      "to be    0.006181\n",
      "i dont   0.005430\n",
      "i have   0.005331\n",
      "but i    0.005170\n",
      "of the   0.005102\n",
      "i think  0.004993\n",
      "i am     0.004810\n",
      "and i    0.004810\n",
      "i was    0.004654\n",
      "in the   0.004508\n",
      "\n",
      "\n",
      "Fe: Top 10 Bigrams\n",
      "\n",
      "          counts\n",
      "to be   0.005680\n",
      "i have  0.005324\n",
      "of the  0.005251\n",
      "i dont  0.005021\n",
      "in the  0.004869\n",
      "i am    0.004450\n",
      "i was   0.004262\n",
      "but i   0.004047\n",
      "and i   0.003864\n",
      "that i  0.003639\n",
      "\n",
      "\n",
      "Te: Top 10 Bigrams\n",
      "\n",
      "           counts\n",
      "to be    0.005019\n",
      "i dont   0.004988\n",
      "of the   0.004725\n",
      "in the   0.004540\n",
      "i have   0.004360\n",
      "i was    0.004195\n",
      "but i    0.004035\n",
      "i am     0.004030\n",
      "i think  0.003829\n",
      "and i    0.003659\n",
      "\n",
      "\n",
      "Ti: Top 10 Bigrams\n",
      "\n",
      "           counts\n",
      "to be    0.006087\n",
      "i dont   0.005859\n",
      "i have   0.005414\n",
      "but i    0.005176\n",
      "of the   0.005054\n",
      "i am     0.005001\n",
      "and i    0.004736\n",
      "in the   0.004614\n",
      "i think  0.004429\n",
      "i was    0.004254\n",
      "\n",
      "\n",
      "Si: Top 10 Bigrams\n",
      "\n",
      "           counts\n",
      "i dont   0.005746\n",
      "to be    0.005039\n",
      "i have   0.004728\n",
      "but i    0.004664\n",
      "in the   0.004643\n",
      "i was    0.004546\n",
      "of the   0.004535\n",
      "i think  0.004268\n",
      "and i    0.004262\n",
      "i am     0.003764\n",
      "\n",
      "\n",
      "Se: Top 10 Bigrams\n",
      "\n",
      "           counts\n",
      "to be    0.005785\n",
      "of the   0.005300\n",
      "i have   0.005248\n",
      "in the   0.004764\n",
      "i was    0.004661\n",
      "i dont   0.004614\n",
      "i am     0.004274\n",
      "i think  0.004171\n",
      "but i    0.004063\n",
      "and i    0.003954\n",
      "\n",
      "\n",
      "Ni: Top 10 Bigrams\n",
      "\n",
      "           counts\n",
      "to be    0.005325\n",
      "i have   0.004897\n",
      "of the   0.004841\n",
      "i dont   0.004836\n",
      "i am     0.004774\n",
      "in the   0.004723\n",
      "i was    0.004673\n",
      "and i    0.004667\n",
      "i think  0.004596\n",
      "but i    0.004357\n",
      "\n",
      "\n"
     ]
    }
   ],
   "source": [
    "c = 0\n",
    "titles = ['All Words','Fi','Fe','Te','Ti','Si','Se','Ni','Ne']\n",
    "\n",
    "print(\"Top 10 Bigrams associated with each cogntive function\\n\")\n",
    "for bg in list_ngrams:\n",
    "    bigrams = list_ngrams[c]\n",
    "    print(f'{titles[c]}: Top 10 Bigrams\\n')\n",
    "    print(bigrams.head(10))\n",
    "    print('\\n')\n",
    "    c+=1"
   ]
  },
  {
   "cell_type": "markdown",
   "metadata": {},
   "source": [
    "Now lets begin to think about how we will prepare word features for modeling.  We will have to vectorize\n",
    "them first."
   ]
  },
  {
   "cell_type": "markdown",
   "metadata": {},
   "source": [
    "# Use Vectorizers to generate word features"
   ]
  },
  {
   "cell_type": "markdown",
   "metadata": {},
   "source": [
    "We will try using both countvectorizers and tfidfvectorizers and see which better model the word features for\n",
    "machine learning"
   ]
  },
  {
   "cell_type": "code",
   "execution_count": 28,
   "metadata": {},
   "outputs": [],
   "source": [
    "from sklearn.feature_extraction.text import TfidfVectorizer\n",
    "from sklearn.feature_extraction.text import CountVectorizer\n",
    "cv = CountVectorizer(analyzer=\"word\", \n",
    "                             max_features=1500, \n",
    "                             tokenizer=None,    \n",
    "                             preprocessor=None, \n",
    "                             ngram_range=(1,4),\n",
    "                             stop_words=to_remove,  \n",
    "                             binary=True\n",
    "                             )\n",
    "cv.fit(train_df.joined)\n",
    "X_train_cv  = cv.transform(train_df.joined)\n",
    "X_test_cv = cv.transform(test_df.joined)"
   ]
  },
  {
   "cell_type": "code",
   "execution_count": 29,
   "metadata": {},
   "outputs": [],
   "source": [
    "tf = TfidfVectorizer(analyzer=\"word\", \n",
    "                             max_features=1500, \n",
    "                             tokenizer=None,    \n",
    "                             preprocessor=None, \n",
    "                             ngram_range=(1,4),\n",
    "                             stop_words=to_remove,  \n",
    "                             binary=True\n",
    "                             )\n",
    "tf.fit(train_df.joined)\n",
    "X_train_tf  = tf.transform(train_df.joined)\n",
    "X_test_tf = tf.transform(test_df.joined)"
   ]
  },
  {
   "cell_type": "markdown",
   "metadata": {},
   "source": [
    "Create both matrix and dataframe formats for the vectors"
   ]
  },
  {
   "cell_type": "code",
   "execution_count": 30,
   "metadata": {},
   "outputs": [],
   "source": [
    "X_train_tf_matrix = X_train_tf\n",
    "X_test_tf_matrix = X_test_tf\n",
    "X_train_cv_matrix = X_train_cv\n",
    "X_test_cv_matrix = X_test_cv"
   ]
  },
  {
   "cell_type": "code",
   "execution_count": 31,
   "metadata": {},
   "outputs": [],
   "source": [
    "X_train_cv = pd.DataFrame(X_train_cv_matrix.toarray())\n",
    "X_test_cv = pd.DataFrame(X_test_cv_matrix.toarray())\n",
    "X_train_tf = pd.DataFrame(X_train_tf_matrix.toarray())\n",
    "X_test_tf = pd.DataFrame(X_test_tf_matrix.toarray())"
   ]
  },
  {
   "cell_type": "markdown",
   "metadata": {},
   "source": [
    "Lets output some feature names to make sure its working"
   ]
  },
  {
   "cell_type": "code",
   "execution_count": 32,
   "metadata": {},
   "outputs": [
    {
     "data": {
      "text/plain": [
       "['about the',\n",
       " 'about this',\n",
       " 'about what',\n",
       " 'above',\n",
       " 'absolutely',\n",
       " 'accept',\n",
       " 'accurate',\n",
       " 'across',\n",
       " 'act',\n",
       " 'action']"
      ]
     },
     "execution_count": 32,
     "metadata": {},
     "output_type": "execute_result"
    }
   ],
   "source": [
    "tf.get_feature_names()[10:20]"
   ]
  },
  {
   "cell_type": "markdown",
   "metadata": {},
   "source": [
    "# Generate A Method to Reduce Dimensionality"
   ]
  },
  {
   "cell_type": "markdown",
   "metadata": {},
   "source": [
    "Many Models work better with independent features and the vectorized features surely\n",
    "include levels of redundance.  TSVD will be used for dimensionality reduction."
   ]
  },
  {
   "cell_type": "code",
   "execution_count": 33,
   "metadata": {},
   "outputs": [],
   "source": [
    "from sklearn.decomposition import TruncatedSVD\n",
    "\n",
    "def reduce_dimensionality(cv,training_df,testing_df):\n",
    "    if(cv == \"cv\"):\n",
    "        tsvd_cv = TruncatedSVD(n_components=100, \n",
    "                           n_iter=10, \n",
    "                           random_state=42)\n",
    "        tsvd_cv.fit(training_df)\n",
    "        train = tsvd_cv.transform(training_df)\n",
    "        test = tsvd_cv.transform(testing_df)\n",
    "        return [train,test]\n",
    "        \n",
    "    elif(cv == \"tfidf\"):\n",
    "        tsvd_tf = TruncatedSVD(n_components=100, \n",
    "                           n_iter=10, \n",
    "                           random_state=42)\n",
    "        tsvd_tf.fit(training_df)\n",
    "        train = tsvd_tf.transform(training_df)\n",
    "        test = tsvd_tf.transform(testing_df)\n",
    "        return [train,test]\n"
   ]
  },
  {
   "cell_type": "markdown",
   "metadata": {},
   "source": [
    "# Generate A Method to Build a Classifier, Predict a target and Render Evaluations"
   ]
  },
  {
   "cell_type": "markdown",
   "metadata": {},
   "source": [
    "Now lets start actually modeling.  Creating a \"Classify\" function that could be fine tuned to try and classify\n",
    "cognitive functions per a set of nonword features will be our first step.  Note how there is an option for \"singular\"\n",
    "use of the classifier.  If the \"singular\" param is set, then only one cognitive function will be judged at a \n",
    "time and tried for each type of classifier in our list. If it is not set, all cognitive functions will be \n",
    "modelled for by a hyperparameter tuned random forest classifier.\n"
   ]
  },
  {
   "cell_type": "code",
   "execution_count": 34,
   "metadata": {},
   "outputs": [],
   "source": [
    "from sklearn.linear_model import LogisticRegression, SGDClassifier, SGDRegressor\n",
    "from sklearn.metrics import roc_curve, roc_auc_score, accuracy_score, precision_score\n",
    "from sklearn.naive_bayes import GaussianNB\n",
    "from sklearn.ensemble import RandomForestClassifier, AdaBoostClassifier, AdaBoostRegressor\n",
    "from sklearn.model_selection import cross_validate,StratifiedKFold\n",
    "from sklearn.preprocessing import StandardScaler\n",
    "from sklearn.dummy import DummyClassifier\n",
    "from sklearn.metrics import recall_score, f1_score, auc, confusion_matrix,precision_recall_curve, mean_squared_error\n",
    "from sklearn.tree import DecisionTreeClassifier\n",
    "\n",
    "# identify list of cognitive function types\n",
    "type_list = ['Fi','Fe','Ti','Te','Ni','Ne','Si','Se']\n"
   ]
  },
  {
   "cell_type": "code",
   "execution_count": 35,
   "metadata": {},
   "outputs": [],
   "source": [
    "def classify(X_train,X_test,scaled,tsvd,singular,func,gs):\n",
    "    original_X_train = X_train\n",
    "    original_X_test = X_test\n",
    "    feat_names = X_train.columns\n",
    "    \n",
    "    models = [\n",
    "        DummyClassifier(random_state=42),\n",
    "        RandomForestClassifier(random_state=42),\n",
    "        AdaBoostClassifier(random_state=42),\n",
    "        GaussianNB(),\n",
    "        SGDClassifier(random_state=42,loss='log'),\n",
    "        LogisticRegression()\n",
    "    ]\n",
    "    \n",
    "    clf_names = ['Dummy','RF-Classifier','Ada Boost-Classifier',\n",
    "                 'Gaussian Naive Bayes','SGD-Classifier','Logistic Regression']\n",
    "    \n",
    "    if(scaled == 1):\n",
    "        sc = StandardScaler()\n",
    "        sc.fit(X_train)\n",
    "        X_train = sc.transform(X_train)\n",
    "        X_test = sc.transform(X_test)\n",
    "    if(tsvd == 1): \n",
    "        X_train,X_test = reduce_dimensionality('cv',X_train,X_test)\n",
    "        \n",
    "    aucs = []\n",
    "    if(gs == 1):\n",
    "        if(singular==0):\n",
    "            for t in type_list:\n",
    "                y_train = train_df[t]\n",
    "                y_test = test_df[t]\n",
    "                for estimator in [5,10,30,100]:\n",
    "                    for depth in [3,5,10,20,50]:\n",
    "                        model = RandomForestClassifier(n_estimators=estimator, max_depth = depth,random_state=10)\n",
    "                        model.fit(X_train, y_train)\n",
    "                        y_pred = model.predict(X_test)\n",
    "                        predictions = [value for value in y_pred]\n",
    "                        mse= mean_squared_error(y_test,y_pred) \n",
    "        \n",
    "\n",
    "                        # evaluate predictions\n",
    "                        accuracy = accuracy_score(y_test, predictions)\n",
    "                        prec = precision_score(y_test, y_pred, average='macro')\n",
    "                        f1 = f1_score(y_test, y_pred, average='macro')\n",
    "                        mse= mean_squared_error(y_test,y_pred) \n",
    "\n",
    "\n",
    "                        aucs.append([t,estimator,depth,roc_auc_score(y_test,y_pred),accuracy,prec,f1,mse])\n",
    "\n",
    "        elif(singular == 1):\n",
    "            y_train = train_df[func]\n",
    "            y_test = test_df[func]\n",
    "            for estimator in [5,15,30]:\n",
    "                for depth in [5,10,15]:\n",
    "                    model = RandomForestClassifier(n_estimators=estimator, max_depth = depth,random_state=10)\n",
    "                    model.fit(X_train, y_train)\n",
    "                    # make predictions for test data\n",
    "                    y_pred = model.predict(X_test)\n",
    "                    predictions = [value for value in y_pred]\n",
    "                    mse= mean_squared_error(y_test,y_pred) \n",
    "\n",
    "                    accuracy = accuracy_score(y_test, predictions)\n",
    "                    prec = precision_score(y_test, y_pred, average='macro')\n",
    "                    f1 = f1_score(y_test, y_pred, average='macro')\n",
    "                    aucs.append([func,estimator,depth,roc_auc_score(y_test,y_pred),accuracy,prec,f1,mse])\n",
    "        aucs = pd.DataFrame(aucs,columns=[\"Function\",\"Est\",\"Depth\",\"AUC\",\"Accuracy\",\"Precision\",\"F1\",\"MSE\"])\n",
    "    else:\n",
    "        count = 0\n",
    "        y_train = train_df[func]\n",
    "        y_test = test_df[func]\n",
    "        for clf in models:\n",
    "            classifier = clf_names[count]\n",
    "            model = clf\n",
    "            model.fit(X_train, y_train)\n",
    "            try:\n",
    "                y_pred = model.predict_proba(X_test)[:,1]\n",
    "            except:\n",
    "                y_pred = model.predict(X_test)\n",
    "            predictions = [value for value in y_pred]\n",
    "            mse= mean_squared_error(y_test,y_pred) \n",
    "            count+=1\n",
    "            aucs.append([func,clf,roc_auc_score(y_test,y_pred),mse,classifier])\n",
    "        aucs = pd.DataFrame(aucs,columns=[\"Function\",\"Model\",\"AUC\",\"MSE\",\"Classifier\"])\n",
    "\n",
    "    aucs = aucs.sort_values(by='AUC',ascending=False)\n",
    "    return aucs\n"
   ]
  },
  {
   "cell_type": "markdown",
   "metadata": {},
   "source": [
    "# Can Non Word Features Do a Good Job In Predicting Cognitive Functions?"
   ]
  },
  {
   "cell_type": "markdown",
   "metadata": {},
   "source": [
    "Now lets try and test our classify function to see if non word features alone can be good predictors\n",
    "of cognitive functions.  First we will try the hyperparameter tuned random forest approach\n",
    "for all cogntive functions and then try the singular approach where we try multiple models\n",
    "for each cognitive function."
   ]
  },
  {
   "cell_type": "code",
   "execution_count": 36,
   "metadata": {
    "scrolled": false
   },
   "outputs": [
    {
     "name": "stdout",
     "output_type": "stream",
     "text": [
      "Evaluating How Well Nonword features Predict Cognitive Functions via Random Forest Hyperparameter Tuning\n"
     ]
    },
    {
     "data": {
      "text/html": [
       "<div>\n",
       "<style scoped>\n",
       "    .dataframe tbody tr th:only-of-type {\n",
       "        vertical-align: middle;\n",
       "    }\n",
       "\n",
       "    .dataframe tbody tr th {\n",
       "        vertical-align: top;\n",
       "    }\n",
       "\n",
       "    .dataframe thead th {\n",
       "        text-align: right;\n",
       "    }\n",
       "</style>\n",
       "<table border=\"1\" class=\"dataframe\">\n",
       "  <thead>\n",
       "    <tr style=\"text-align: right;\">\n",
       "      <th></th>\n",
       "      <th>Function</th>\n",
       "      <th>Est</th>\n",
       "      <th>Depth</th>\n",
       "      <th>AUC</th>\n",
       "      <th>Accuracy</th>\n",
       "      <th>Precision</th>\n",
       "      <th>F1</th>\n",
       "      <th>MSE</th>\n",
       "    </tr>\n",
       "  </thead>\n",
       "  <tbody>\n",
       "    <tr>\n",
       "      <th>1</th>\n",
       "      <td>Fe</td>\n",
       "      <td>100</td>\n",
       "      <td>20</td>\n",
       "      <td>0.546875</td>\n",
       "      <td>0.765625</td>\n",
       "      <td>0.734146</td>\n",
       "      <td>0.526101</td>\n",
       "      <td>0.234375</td>\n",
       "    </tr>\n",
       "    <tr>\n",
       "      <th>2</th>\n",
       "      <td>Ti</td>\n",
       "      <td>10</td>\n",
       "      <td>20</td>\n",
       "      <td>0.541667</td>\n",
       "      <td>0.734375</td>\n",
       "      <td>0.591954</td>\n",
       "      <td>0.533448</td>\n",
       "      <td>0.265625</td>\n",
       "    </tr>\n",
       "    <tr>\n",
       "      <th>6</th>\n",
       "      <td>Si</td>\n",
       "      <td>100</td>\n",
       "      <td>20</td>\n",
       "      <td>0.541667</td>\n",
       "      <td>0.757812</td>\n",
       "      <td>0.674863</td>\n",
       "      <td>0.521004</td>\n",
       "      <td>0.242188</td>\n",
       "    </tr>\n",
       "    <tr>\n",
       "      <th>7</th>\n",
       "      <td>Se</td>\n",
       "      <td>5</td>\n",
       "      <td>20</td>\n",
       "      <td>0.533854</td>\n",
       "      <td>0.730469</td>\n",
       "      <td>0.577626</td>\n",
       "      <td>0.522272</td>\n",
       "      <td>0.269531</td>\n",
       "    </tr>\n",
       "    <tr>\n",
       "      <th>0</th>\n",
       "      <td>Fi</td>\n",
       "      <td>5</td>\n",
       "      <td>10</td>\n",
       "      <td>0.528646</td>\n",
       "      <td>0.722656</td>\n",
       "      <td>0.560952</td>\n",
       "      <td>0.517199</td>\n",
       "      <td>0.277344</td>\n",
       "    </tr>\n",
       "    <tr>\n",
       "      <th>4</th>\n",
       "      <td>Ni</td>\n",
       "      <td>5</td>\n",
       "      <td>20</td>\n",
       "      <td>0.526042</td>\n",
       "      <td>0.710938</td>\n",
       "      <td>0.547198</td>\n",
       "      <td>0.517866</td>\n",
       "      <td>0.289062</td>\n",
       "    </tr>\n",
       "    <tr>\n",
       "      <th>5</th>\n",
       "      <td>Ne</td>\n",
       "      <td>5</td>\n",
       "      <td>10</td>\n",
       "      <td>0.523438</td>\n",
       "      <td>0.730469</td>\n",
       "      <td>0.563957</td>\n",
       "      <td>0.503918</td>\n",
       "      <td>0.269531</td>\n",
       "    </tr>\n",
       "    <tr>\n",
       "      <th>3</th>\n",
       "      <td>Te</td>\n",
       "      <td>30</td>\n",
       "      <td>20</td>\n",
       "      <td>0.510417</td>\n",
       "      <td>0.734375</td>\n",
       "      <td>0.543716</td>\n",
       "      <td>0.474650</td>\n",
       "      <td>0.265625</td>\n",
       "    </tr>\n",
       "  </tbody>\n",
       "</table>\n",
       "</div>"
      ],
      "text/plain": [
       "  Function  Est Depth       AUC  Accuracy  Precision        F1       MSE\n",
       "1       Fe  100    20  0.546875  0.765625   0.734146  0.526101  0.234375\n",
       "2       Ti   10    20  0.541667  0.734375   0.591954  0.533448  0.265625\n",
       "6       Si  100    20  0.541667  0.757812   0.674863  0.521004  0.242188\n",
       "7       Se    5    20  0.533854  0.730469   0.577626  0.522272  0.269531\n",
       "0       Fi    5    10  0.528646  0.722656   0.560952  0.517199  0.277344\n",
       "4       Ni    5    20  0.526042  0.710938   0.547198  0.517866  0.289062\n",
       "5       Ne    5    10  0.523438  0.730469   0.563957  0.503918  0.269531\n",
       "3       Te   30    20  0.510417  0.734375   0.543716  0.474650  0.265625"
      ]
     },
     "execution_count": 36,
     "metadata": {},
     "output_type": "execute_result"
    }
   ],
   "source": [
    "nw_feats = ['sents_per_post','words_per_sent','exclamation_count','comma_count','question_count',\n",
    "'video_count','image_count','nonmedia_url_count']\n",
    "\n",
    "non_word_feats_train =train_df.loc[:,nw_feats]\n",
    "non_word_feats_test=test_df.loc[:,nw_feats]\n",
    "\n",
    "#group results by best AUC for each cognitive function\n",
    "def group_by_function(df):\n",
    "    count = 0\n",
    "    length = len(df)\n",
    "    best_df = pd.DataFrame(columns=df.columns)\n",
    "    for f in type_list:\n",
    "        grouped = df.loc[df['Function'] == f]\n",
    "        grouped = grouped.sort_values(by='AUC',ascending=False)\n",
    "        grouped = grouped.iloc[0]\n",
    "        grouped = dict(grouped)\n",
    "        best_df = best_df.append(grouped,ignore_index=True)\n",
    "    best_df = best_df.sort_values(by='AUC',ascending=False)\n",
    "    return best_df\n",
    "        \n",
    "        \n",
    "# Try a Random Forest Classifier with Hyperparameter Tuning\n",
    "nonwords_classified_rf = classify(non_word_feats_train,non_word_feats_test,1,0,0,'',1)\n",
    "nonwords_classified_rf = group_by_function(nonwords_classified_rf)\n",
    "print(\"Evaluating How Well Nonword features Predict Cognitive Functions via Random Forest Hyperparameter Tuning\")\n",
    "nonwords_classified_rf"
   ]
  },
  {
   "cell_type": "markdown",
   "metadata": {},
   "source": [
    "Lets try and use AUCs as our primary metric for evaluation since for by random chance each each user\n",
    "has only a 25% chance of displaying a primary cognitive function of a certain type.  Therefore, if we \n",
    "just used accuracy, the model will simply look more accurate than it is since it will learn to guess\n",
    "against the presence of the cogntive function in many cases and be right.  Instead the TPR and FPR will\n",
    "give a better indication of how well our model is classifying the data. "
   ]
  },
  {
   "cell_type": "code",
   "execution_count": 37,
   "metadata": {},
   "outputs": [
    {
     "name": "stdout",
     "output_type": "stream",
     "text": [
      "Evaluating How Well Nonword features Predict Cognitive Functions Via Multiple Classifiers\n"
     ]
    },
    {
     "data": {
      "text/html": [
       "<div>\n",
       "<style scoped>\n",
       "    .dataframe tbody tr th:only-of-type {\n",
       "        vertical-align: middle;\n",
       "    }\n",
       "\n",
       "    .dataframe tbody tr th {\n",
       "        vertical-align: top;\n",
       "    }\n",
       "\n",
       "    .dataframe thead th {\n",
       "        text-align: right;\n",
       "    }\n",
       "</style>\n",
       "<table border=\"1\" class=\"dataframe\">\n",
       "  <thead>\n",
       "    <tr style=\"text-align: right;\">\n",
       "      <th></th>\n",
       "      <th>Function</th>\n",
       "      <th>Model</th>\n",
       "      <th>AUC</th>\n",
       "      <th>MSE</th>\n",
       "      <th>Classifier</th>\n",
       "    </tr>\n",
       "  </thead>\n",
       "  <tbody>\n",
       "    <tr>\n",
       "      <th>4</th>\n",
       "      <td>Ni</td>\n",
       "      <td>GaussianNB(priors=None, var_smoothing=1e-09)</td>\n",
       "      <td>0.606364</td>\n",
       "      <td>0.185918</td>\n",
       "      <td>Gaussian Naive Bayes</td>\n",
       "    </tr>\n",
       "    <tr>\n",
       "      <th>2</th>\n",
       "      <td>Ti</td>\n",
       "      <td>(DecisionTreeClassifier(class_weight=None, cri...</td>\n",
       "      <td>0.582357</td>\n",
       "      <td>0.208437</td>\n",
       "      <td>RF-Classifier</td>\n",
       "    </tr>\n",
       "    <tr>\n",
       "      <th>7</th>\n",
       "      <td>Se</td>\n",
       "      <td>GaussianNB(priors=None, var_smoothing=1e-09)</td>\n",
       "      <td>0.581380</td>\n",
       "      <td>0.208421</td>\n",
       "      <td>Gaussian Naive Bayes</td>\n",
       "    </tr>\n",
       "    <tr>\n",
       "      <th>6</th>\n",
       "      <td>Si</td>\n",
       "      <td>(DecisionTreeClassifier(class_weight=None, cri...</td>\n",
       "      <td>0.571289</td>\n",
       "      <td>0.245544</td>\n",
       "      <td>Ada Boost-Classifier</td>\n",
       "    </tr>\n",
       "    <tr>\n",
       "      <th>1</th>\n",
       "      <td>Fe</td>\n",
       "      <td>(DecisionTreeClassifier(class_weight=None, cri...</td>\n",
       "      <td>0.555135</td>\n",
       "      <td>0.203398</td>\n",
       "      <td>RF-Classifier</td>\n",
       "    </tr>\n",
       "    <tr>\n",
       "      <th>0</th>\n",
       "      <td>Fi</td>\n",
       "      <td>GaussianNB(priors=None, var_smoothing=1e-09)</td>\n",
       "      <td>0.542969</td>\n",
       "      <td>0.211945</td>\n",
       "      <td>Gaussian Naive Bayes</td>\n",
       "    </tr>\n",
       "    <tr>\n",
       "      <th>5</th>\n",
       "      <td>Ne</td>\n",
       "      <td>LogisticRegression(C=1.0, class_weight=None, d...</td>\n",
       "      <td>0.531413</td>\n",
       "      <td>0.187462</td>\n",
       "      <td>Logistic Regression</td>\n",
       "    </tr>\n",
       "    <tr>\n",
       "      <th>3</th>\n",
       "      <td>Te</td>\n",
       "      <td>GaussianNB(priors=None, var_smoothing=1e-09)</td>\n",
       "      <td>0.528564</td>\n",
       "      <td>0.201020</td>\n",
       "      <td>Gaussian Naive Bayes</td>\n",
       "    </tr>\n",
       "  </tbody>\n",
       "</table>\n",
       "</div>"
      ],
      "text/plain": [
       "  Function                                              Model       AUC  \\\n",
       "4       Ni       GaussianNB(priors=None, var_smoothing=1e-09)  0.606364   \n",
       "2       Ti  (DecisionTreeClassifier(class_weight=None, cri...  0.582357   \n",
       "7       Se       GaussianNB(priors=None, var_smoothing=1e-09)  0.581380   \n",
       "6       Si  (DecisionTreeClassifier(class_weight=None, cri...  0.571289   \n",
       "1       Fe  (DecisionTreeClassifier(class_weight=None, cri...  0.555135   \n",
       "0       Fi       GaussianNB(priors=None, var_smoothing=1e-09)  0.542969   \n",
       "5       Ne  LogisticRegression(C=1.0, class_weight=None, d...  0.531413   \n",
       "3       Te       GaussianNB(priors=None, var_smoothing=1e-09)  0.528564   \n",
       "\n",
       "        MSE            Classifier  \n",
       "4  0.185918  Gaussian Naive Bayes  \n",
       "2  0.208437         RF-Classifier  \n",
       "7  0.208421  Gaussian Naive Bayes  \n",
       "6  0.245544  Ada Boost-Classifier  \n",
       "1  0.203398         RF-Classifier  \n",
       "0  0.211945  Gaussian Naive Bayes  \n",
       "5  0.187462   Logistic Regression  \n",
       "3  0.201020  Gaussian Naive Bayes  "
      ]
     },
     "execution_count": 37,
     "metadata": {},
     "output_type": "execute_result"
    }
   ],
   "source": [
    "# Lets try implementing a classify function that tries a number of different models and sees which performs best\n",
    "\n",
    "def classify_function(train,test):\n",
    "    results_df = pd.DataFrame()\n",
    "    for func in type_list:\n",
    "        result = classify(train,test,0,0,1,func,0)\n",
    "        results_df = pd.concat([results_df,result],axis=0)\n",
    "        results_df.columns = result.columns\n",
    "    results_df = results_df.sort_values(by='AUC',ascending=False)\n",
    "    return results_df\n",
    "\n",
    "nonwords_classified = classify_function(non_word_feats_train,non_word_feats_test)\n",
    "print(\"Evaluating How Well Nonword features Predict Cognitive Functions Via Multiple Classifiers\")\n",
    "nonwords_classified = group_by_function(nonwords_classified)\n",
    "nonwords_classified"
   ]
  },
  {
   "cell_type": "markdown",
   "metadata": {},
   "source": [
    "While this approach of iterating through different classifiers to see which model performs best does better, the AUCS are still pretty low.  Lets try using the word features from our vectorizers and see how they do."
   ]
  },
  {
   "cell_type": "markdown",
   "metadata": {},
   "source": [
    "# Generate a Function to Classify Cognitive Functions through vectorizers"
   ]
  },
  {
   "cell_type": "markdown",
   "metadata": {},
   "source": [
    "Using vectorizers to classify cognitive functions will be different and requires a different \n",
    "type of classify function that we will entitle \"evaluate\".  We will take the word vectors, reduce\n",
    "their dimensionalities and then try each classifier on them to see which performs best AUC wise."
   ]
  },
  {
   "cell_type": "code",
   "execution_count": 38,
   "metadata": {},
   "outputs": [],
   "source": [
    "from sklearn.ensemble import AdaBoostRegressor\n",
    "from sklearn.ensemble import RandomForestRegressor\n",
    "from sklearn.linear_model import SGDRegressor"
   ]
  },
  {
   "cell_type": "code",
   "execution_count": 39,
   "metadata": {},
   "outputs": [],
   "source": [
    "list_of_classifiers = [\n",
    "    DummyClassifier(random_state=42),\n",
    "    RandomForestClassifier(random_state=42),\n",
    "    AdaBoostClassifier(random_state=42),\n",
    "    GaussianNB(),\n",
    "    SGDClassifier(random_state=42,loss='log'),\n",
    "    LogisticRegression()\n",
    "    \n",
    "]\n",
    "\n",
    "from sklearn.metrics import log_loss\n",
    "\n",
    "def evaluate():\n",
    "    X_train_cv = X_train_cv_matrix\n",
    "    X_test_cv = X_test_cv_matrix\n",
    "    X_train_tf = X_train_cv_matrix\n",
    "    X_test_tf = X_test_cv_matrix\n",
    "    \n",
    "    evaluation_list = []\n",
    "    clf_names = ['Dummy','RF-Classifier','Ada Boost-Classifier',\n",
    "                 'Gaussian Naive Bayes','SGD-Classifier','Logistic Regression']\n",
    "    tf = 0\n",
    "    for vect in ['tfidf','cv']:\n",
    "        count=-1\n",
    "        for clf in list_of_classifiers:\n",
    "            count+=1\n",
    "            for t in type_list:\n",
    "                if(vect =='cv'):\n",
    "                    X_train = X_train_cv\n",
    "                    X_test = X_test_cv\n",
    "                elif(vect == 'tfidf'):\n",
    "                    X_train = X_train_tf\n",
    "                    X_test = X_test_tf\n",
    "                X_train,X_test = reduce_dimensionality(vect,X_train,X_test)\n",
    "                y_train = train_df[t]\n",
    "                y_test = test_df[t]\n",
    "                model = clf\n",
    "                model.fit(X_train, y_train)\n",
    "                try:\n",
    "                    y_pred = model.predict_proba(X_test)[:,1]\n",
    "                except:\n",
    "                    y_pred = model.predict(X_test)\n",
    "\n",
    "                predictions = [value for value in y_pred]\n",
    "                # evaluate predictions\n",
    "                mse= mean_squared_error(y_test,y_pred) \n",
    "                fpr, tpr, thresholds = roc_curve(y_test, y_pred)\n",
    "\n",
    "\n",
    "                \n",
    "                \n",
    "                evaluation_list.append([t,clf_names[count],vect,log_loss(y_test,y_pred,eps=1e-15),\n",
    "                                        roc_auc_score(y_test, y_pred),mse,clf\n",
    "                                        ])\n",
    "    results_df = pd.DataFrame(evaluation_list,columns = ['Function','Classifier','Vectorizer','Logloss',\n",
    "                                                        'AUC','MSE','Model'])\n",
    "    results_df = results_df.sort_values(by='AUC',ascending=False)\n",
    "    results_df.reset_index(drop=True)\n",
    "    return results_df"
   ]
  },
  {
   "cell_type": "markdown",
   "metadata": {},
   "source": [
    "Lets now see which classifiers perform the best in predicting cognitive functions via vectorized features"
   ]
  },
  {
   "cell_type": "markdown",
   "metadata": {},
   "source": [
    "(This may take a minute or two to run)"
   ]
  },
  {
   "cell_type": "code",
   "execution_count": 40,
   "metadata": {
    "scrolled": true
   },
   "outputs": [
    {
     "name": "stdout",
     "output_type": "stream",
     "text": [
      "Evaluating How Well Word features Predict Cognitive Functions Via Multiple Classifiers\n"
     ]
    },
    {
     "data": {
      "text/html": [
       "<div>\n",
       "<style scoped>\n",
       "    .dataframe tbody tr th:only-of-type {\n",
       "        vertical-align: middle;\n",
       "    }\n",
       "\n",
       "    .dataframe tbody tr th {\n",
       "        vertical-align: top;\n",
       "    }\n",
       "\n",
       "    .dataframe thead th {\n",
       "        text-align: right;\n",
       "    }\n",
       "</style>\n",
       "<table border=\"1\" class=\"dataframe\">\n",
       "  <thead>\n",
       "    <tr style=\"text-align: right;\">\n",
       "      <th></th>\n",
       "      <th>Function</th>\n",
       "      <th>Classifier</th>\n",
       "      <th>Vectorizer</th>\n",
       "      <th>Logloss</th>\n",
       "      <th>AUC</th>\n",
       "      <th>MSE</th>\n",
       "      <th>Model</th>\n",
       "    </tr>\n",
       "  </thead>\n",
       "  <tbody>\n",
       "    <tr>\n",
       "      <th>3</th>\n",
       "      <td>Te</td>\n",
       "      <td>SGD-Classifier</td>\n",
       "      <td>tfidf</td>\n",
       "      <td>1.649564</td>\n",
       "      <td>0.716960</td>\n",
       "      <td>0.277686</td>\n",
       "      <td>SGDClassifier(alpha=0.0001, average=False, cla...</td>\n",
       "    </tr>\n",
       "    <tr>\n",
       "      <th>0</th>\n",
       "      <td>Fi</td>\n",
       "      <td>Logistic Regression</td>\n",
       "      <td>cv</td>\n",
       "      <td>0.514910</td>\n",
       "      <td>0.702230</td>\n",
       "      <td>0.169336</td>\n",
       "      <td>LogisticRegression(C=1.0, class_weight=None, d...</td>\n",
       "    </tr>\n",
       "    <tr>\n",
       "      <th>7</th>\n",
       "      <td>Se</td>\n",
       "      <td>Logistic Regression</td>\n",
       "      <td>tfidf</td>\n",
       "      <td>0.528768</td>\n",
       "      <td>0.682454</td>\n",
       "      <td>0.176746</td>\n",
       "      <td>LogisticRegression(C=1.0, class_weight=None, d...</td>\n",
       "    </tr>\n",
       "    <tr>\n",
       "      <th>2</th>\n",
       "      <td>Ti</td>\n",
       "      <td>SGD-Classifier</td>\n",
       "      <td>tfidf</td>\n",
       "      <td>1.116341</td>\n",
       "      <td>0.672607</td>\n",
       "      <td>0.221785</td>\n",
       "      <td>SGDClassifier(alpha=0.0001, average=False, cla...</td>\n",
       "    </tr>\n",
       "    <tr>\n",
       "      <th>1</th>\n",
       "      <td>Fe</td>\n",
       "      <td>RF-Classifier</td>\n",
       "      <td>cv</td>\n",
       "      <td>1.527491</td>\n",
       "      <td>0.672363</td>\n",
       "      <td>0.183711</td>\n",
       "      <td>(DecisionTreeClassifier(class_weight=None, cri...</td>\n",
       "    </tr>\n",
       "    <tr>\n",
       "      <th>6</th>\n",
       "      <td>Si</td>\n",
       "      <td>RF-Classifier</td>\n",
       "      <td>tfidf</td>\n",
       "      <td>1.180750</td>\n",
       "      <td>0.645996</td>\n",
       "      <td>0.190547</td>\n",
       "      <td>(DecisionTreeClassifier(class_weight=None, cri...</td>\n",
       "    </tr>\n",
       "    <tr>\n",
       "      <th>4</th>\n",
       "      <td>Ni</td>\n",
       "      <td>SGD-Classifier</td>\n",
       "      <td>tfidf</td>\n",
       "      <td>2.155907</td>\n",
       "      <td>0.597819</td>\n",
       "      <td>0.239449</td>\n",
       "      <td>SGDClassifier(alpha=0.0001, average=False, cla...</td>\n",
       "    </tr>\n",
       "    <tr>\n",
       "      <th>5</th>\n",
       "      <td>Ne</td>\n",
       "      <td>Logistic Regression</td>\n",
       "      <td>cv</td>\n",
       "      <td>0.581340</td>\n",
       "      <td>0.563802</td>\n",
       "      <td>0.191294</td>\n",
       "      <td>LogisticRegression(C=1.0, class_weight=None, d...</td>\n",
       "    </tr>\n",
       "  </tbody>\n",
       "</table>\n",
       "</div>"
      ],
      "text/plain": [
       "  Function           Classifier Vectorizer   Logloss       AUC       MSE  \\\n",
       "3       Te       SGD-Classifier      tfidf  1.649564  0.716960  0.277686   \n",
       "0       Fi  Logistic Regression         cv  0.514910  0.702230  0.169336   \n",
       "7       Se  Logistic Regression      tfidf  0.528768  0.682454  0.176746   \n",
       "2       Ti       SGD-Classifier      tfidf  1.116341  0.672607  0.221785   \n",
       "1       Fe        RF-Classifier         cv  1.527491  0.672363  0.183711   \n",
       "6       Si        RF-Classifier      tfidf  1.180750  0.645996  0.190547   \n",
       "4       Ni       SGD-Classifier      tfidf  2.155907  0.597819  0.239449   \n",
       "5       Ne  Logistic Regression         cv  0.581340  0.563802  0.191294   \n",
       "\n",
       "                                               Model  \n",
       "3  SGDClassifier(alpha=0.0001, average=False, cla...  \n",
       "0  LogisticRegression(C=1.0, class_weight=None, d...  \n",
       "7  LogisticRegression(C=1.0, class_weight=None, d...  \n",
       "2  SGDClassifier(alpha=0.0001, average=False, cla...  \n",
       "1  (DecisionTreeClassifier(class_weight=None, cri...  \n",
       "6  (DecisionTreeClassifier(class_weight=None, cri...  \n",
       "4  SGDClassifier(alpha=0.0001, average=False, cla...  \n",
       "5  LogisticRegression(C=1.0, class_weight=None, d...  "
      ]
     },
     "execution_count": 40,
     "metadata": {},
     "output_type": "execute_result"
    }
   ],
   "source": [
    "vectorized_classified = evaluate()\n",
    "print(\"Evaluating How Well Word features Predict Cognitive Functions Via Multiple Classifiers\")\n",
    "vectorized_classified = group_by_function(vectorized_classified)\n",
    "vectorized_classified"
   ]
  },
  {
   "cell_type": "markdown",
   "metadata": {},
   "source": [
    "As seen above, vectorized word features do a much better job of classifying cognitive functions (High 60s-Low 70s Aucs).\n",
    "That being said, lets see if we can do even better if we combine both vectorized word features and \n",
    "non word features in one model."
   ]
  },
  {
   "cell_type": "markdown",
   "metadata": {},
   "source": [
    "# Try Combining NonWordFeatures and VectorizedFeatures  "
   ]
  },
  {
   "cell_type": "code",
   "execution_count": 41,
   "metadata": {},
   "outputs": [],
   "source": [
    "reduced_cv_train_matrix,reduced_cv_test_matrix = reduce_dimensionality('cv',X_train_cv_matrix,X_test_cv_matrix)\n"
   ]
  },
  {
   "cell_type": "code",
   "execution_count": 42,
   "metadata": {},
   "outputs": [],
   "source": [
    "reduced_cv_train_matrix = pd.DataFrame(reduced_cv_train_matrix)\n",
    "reduced_cv_test_matrix = pd.DataFrame(reduced_cv_test_matrix)"
   ]
  },
  {
   "cell_type": "code",
   "execution_count": 43,
   "metadata": {},
   "outputs": [],
   "source": [
    "sc = StandardScaler()\n",
    "scaled_nonwords_train = sc.fit_transform(non_word_feats_train)\n",
    "scaled_nonwords_test = sc.fit_transform(non_word_feats_test)"
   ]
  },
  {
   "cell_type": "code",
   "execution_count": 44,
   "metadata": {},
   "outputs": [],
   "source": [
    "scaled_nonwords_train = pd.DataFrame(scaled_nonwords_train)\n",
    "scaled_nonwords_test = pd.DataFrame(scaled_nonwords_test)"
   ]
  },
  {
   "cell_type": "code",
   "execution_count": 45,
   "metadata": {},
   "outputs": [],
   "source": [
    "combined_train_cv = pd.concat([reduced_cv_train_matrix,scaled_nonwords_train],axis=1)\n",
    "combined_test_cv = pd.concat([reduced_cv_test_matrix,scaled_nonwords_test],axis=1)\n"
   ]
  },
  {
   "cell_type": "code",
   "execution_count": 46,
   "metadata": {},
   "outputs": [
    {
     "name": "stdout",
     "output_type": "stream",
     "text": [
      "Evaluating How Well Nonword features and Word Features Combined Predict Cognitive Functions Via Multiple Classifiers\n"
     ]
    },
    {
     "data": {
      "text/html": [
       "<div>\n",
       "<style scoped>\n",
       "    .dataframe tbody tr th:only-of-type {\n",
       "        vertical-align: middle;\n",
       "    }\n",
       "\n",
       "    .dataframe tbody tr th {\n",
       "        vertical-align: top;\n",
       "    }\n",
       "\n",
       "    .dataframe thead th {\n",
       "        text-align: right;\n",
       "    }\n",
       "</style>\n",
       "<table border=\"1\" class=\"dataframe\">\n",
       "  <thead>\n",
       "    <tr style=\"text-align: right;\">\n",
       "      <th></th>\n",
       "      <th>Function</th>\n",
       "      <th>Model</th>\n",
       "      <th>AUC</th>\n",
       "      <th>MSE</th>\n",
       "      <th>Classifier</th>\n",
       "    </tr>\n",
       "  </thead>\n",
       "  <tbody>\n",
       "    <tr>\n",
       "      <th>0</th>\n",
       "      <td>Fi</td>\n",
       "      <td>LogisticRegression(C=1.0, class_weight=None, d...</td>\n",
       "      <td>0.713623</td>\n",
       "      <td>0.170625</td>\n",
       "      <td>Logistic Regression</td>\n",
       "    </tr>\n",
       "    <tr>\n",
       "      <th>7</th>\n",
       "      <td>Se</td>\n",
       "      <td>LogisticRegression(C=1.0, class_weight=None, d...</td>\n",
       "      <td>0.680664</td>\n",
       "      <td>0.176616</td>\n",
       "      <td>Logistic Regression</td>\n",
       "    </tr>\n",
       "    <tr>\n",
       "      <th>3</th>\n",
       "      <td>Te</td>\n",
       "      <td>LogisticRegression(C=1.0, class_weight=None, d...</td>\n",
       "      <td>0.680257</td>\n",
       "      <td>0.175533</td>\n",
       "      <td>Logistic Regression</td>\n",
       "    </tr>\n",
       "    <tr>\n",
       "      <th>2</th>\n",
       "      <td>Ti</td>\n",
       "      <td>LogisticRegression(C=1.0, class_weight=None, d...</td>\n",
       "      <td>0.668457</td>\n",
       "      <td>0.178748</td>\n",
       "      <td>Logistic Regression</td>\n",
       "    </tr>\n",
       "    <tr>\n",
       "      <th>1</th>\n",
       "      <td>Fe</td>\n",
       "      <td>LogisticRegression(C=1.0, class_weight=None, d...</td>\n",
       "      <td>0.645589</td>\n",
       "      <td>0.175364</td>\n",
       "      <td>Logistic Regression</td>\n",
       "    </tr>\n",
       "    <tr>\n",
       "      <th>6</th>\n",
       "      <td>Si</td>\n",
       "      <td>LogisticRegression(C=1.0, class_weight=None, d...</td>\n",
       "      <td>0.633057</td>\n",
       "      <td>0.183907</td>\n",
       "      <td>Logistic Regression</td>\n",
       "    </tr>\n",
       "    <tr>\n",
       "      <th>4</th>\n",
       "      <td>Ni</td>\n",
       "      <td>GaussianNB(priors=None, var_smoothing=1e-09)</td>\n",
       "      <td>0.623454</td>\n",
       "      <td>0.189217</td>\n",
       "      <td>Gaussian Naive Bayes</td>\n",
       "    </tr>\n",
       "    <tr>\n",
       "      <th>5</th>\n",
       "      <td>Ne</td>\n",
       "      <td>(DecisionTreeClassifier(class_weight=None, cri...</td>\n",
       "      <td>0.598145</td>\n",
       "      <td>0.204492</td>\n",
       "      <td>RF-Classifier</td>\n",
       "    </tr>\n",
       "  </tbody>\n",
       "</table>\n",
       "</div>"
      ],
      "text/plain": [
       "  Function                                              Model       AUC  \\\n",
       "0       Fi  LogisticRegression(C=1.0, class_weight=None, d...  0.713623   \n",
       "7       Se  LogisticRegression(C=1.0, class_weight=None, d...  0.680664   \n",
       "3       Te  LogisticRegression(C=1.0, class_weight=None, d...  0.680257   \n",
       "2       Ti  LogisticRegression(C=1.0, class_weight=None, d...  0.668457   \n",
       "1       Fe  LogisticRegression(C=1.0, class_weight=None, d...  0.645589   \n",
       "6       Si  LogisticRegression(C=1.0, class_weight=None, d...  0.633057   \n",
       "4       Ni       GaussianNB(priors=None, var_smoothing=1e-09)  0.623454   \n",
       "5       Ne  (DecisionTreeClassifier(class_weight=None, cri...  0.598145   \n",
       "\n",
       "        MSE            Classifier  \n",
       "0  0.170625   Logistic Regression  \n",
       "7  0.176616   Logistic Regression  \n",
       "3  0.175533   Logistic Regression  \n",
       "2  0.178748   Logistic Regression  \n",
       "1  0.175364   Logistic Regression  \n",
       "6  0.183907   Logistic Regression  \n",
       "4  0.189217  Gaussian Naive Bayes  \n",
       "5  0.204492         RF-Classifier  "
      ]
     },
     "execution_count": 46,
     "metadata": {},
     "output_type": "execute_result"
    }
   ],
   "source": [
    "combined = classify_function(combined_train_cv,combined_test_cv)\n",
    "print(\"Evaluating How Well Nonword features and Word Features Combined Predict Cognitive Functions Via Multiple Classifiers\")\n",
    "combined = group_by_function(combined)\n",
    "combined"
   ]
  },
  {
   "cell_type": "markdown",
   "metadata": {},
   "source": [
    "It seems that combining vectorized features with nonword features doesn't signficantly change our\n",
    "results."
   ]
  },
  {
   "cell_type": "markdown",
   "metadata": {},
   "source": [
    "# Formulating Word Groups"
   ]
  },
  {
   "cell_type": "markdown",
   "metadata": {},
   "source": [
    "Now lets try and form word groups that we intuitively associate with these cognitive functions and see if users\n",
    "instances of words that belong to predefined certain groups can help predict cogntive functions.  Note that\n",
    "these word groups are based off types of words that we thought could intuitively be associated with individual cognitive functions.  "
   ]
  },
  {
   "cell_type": "markdown",
   "metadata": {},
   "source": [
    "Define the groups"
   ]
  },
  {
   "cell_type": "code",
   "execution_count": 47,
   "metadata": {},
   "outputs": [],
   "source": [
    "\n",
    "\n",
    "''' Pehaps people who speak more in the first person possess different cognitive functions compared to those who\n",
    "speak more in the second or third person. '''\n",
    "\n",
    "second_person_words = ['you','youll','youve','youre','your','yours','youd','yourself']\n",
    "first_person_singular = ['i','im','id','ill','ive','my','mine','myself']\n",
    "third_person_singular = ['him','her','he','she','hes','hed','shed','shes','shell','shes','hell']\n",
    "third_person_plural = ['theyll','theyve','theyd','theyre','them','their','they']\n",
    "first_person_plural = ['us','we','well','weve','wed','were','our','ourselves']\n",
    "\n",
    "'''Use of slang may be a good indicator of certain cognitive functions'''\n",
    "\n",
    "whats_up = ['sup','whatsup','watsup']\n",
    "laugh = ['lol','lmao','haha','aha','ha','rofl']\n",
    "\n",
    "'''Family references'''\n",
    "family = ['sister','brother','mom','mother','dad','father','uncle','aunt','grandfather','grandmother',\n",
    "          'grandma','grandpa','grampa'\n",
    "         \n",
    "         ]\n",
    "\n",
    "hi = ['hi','hello']\n",
    "like = ['like']\n",
    "\n",
    "perhaps = ['perhaps','indeed']\n",
    "\n",
    "omg = ['omg']\n",
    "'''Slang nicknames '''\n",
    "\n",
    "nicknames = ['dude','bro','yo']\n",
    "\n",
    "''' Shortened words'''\n",
    "\n",
    "shortened = ['gnite','nite','ya','brb','ttyl','fr','k','kk','def','gm','gn']\n",
    "\n",
    "socialmedia = ['facebook','twitter','instagram','pinterest','tumblr','youtube']\n",
    "\n",
    "childhood = ['child','kid','childhood','nostalgia','nostalgic']\n",
    "\n",
    "thinking = ['thought','think','thinks','thinking']\n",
    "\n",
    "feeling = ['felt','feel', 'feeling','feels']\n",
    "\n",
    "love = ['love','loved','lover','loving','loves']       \n",
    "\n",
    "optimism = ['beautiful','great','awesome','best','wonderful']\n",
    "\n",
    "pessimism = ['worst','sucks','hate','hated','suck','terrible']\n",
    "\n",
    "elongate = ['very','really']\n",
    "\n",
    "longing = ['wish','wished','wishing','hope','hoping','hoped','hopes','wishes']\n",
    "\n",
    "loneliness = ['lonely','loneliness','alone','loner','loneliest']\n",
    "\n",
    "wonder = ['wonder','wondering','wondered','wonders']\n",
    "\n",
    "imagination = ['imagined','imagine','imagining','imagination']\n",
    "\n",
    "friends = ['friend','friends']"
   ]
  },
  {
   "cell_type": "code",
   "execution_count": 48,
   "metadata": {},
   "outputs": [],
   "source": [
    "word_groups = [first_person_singular,first_person_plural,second_person_words,\n",
    "               third_person_singular,third_person_plural,whats_up,hi,laugh,family,like,perhaps,\n",
    "               nicknames,shortened,socialmedia,childhood,thinking,feeling,love,optimism,\n",
    "               pessimism,elongate,longing,loneliness,wonder,imagination,friends       \n",
    "              ]\n",
    "column_names = ['first_person_singular','first_person_plural','second_person_words',\n",
    "               'third_person_singular','third_person_plural','whats_up','hi','laugh','family','like','perhaps',\n",
    "               'nicknames','shortened','socialmedia','childhood','thinking','feeling','love','optimism',\n",
    "               'pessimism','elongate','longing','loneliness','wonder','imagination','friends'\n",
    "              ]\n",
    "\n",
    "def get_group(df,group):\n",
    "    group_feat = []\n",
    "    for row in df.iterrows():\n",
    "        instances = 0\n",
    "        for word in row[1]['word_list']:\n",
    "            if(word in group):\n",
    "                instances+=1\n",
    "        group_feat.append(instances / len(row[1]['word_list']))\n",
    "    return group_feat\n",
    "                \n",
    "                \n",
    "        \n",
    "def add_word_group_feats(df):\n",
    "    feature_list = []\n",
    "    for group in word_groups:\n",
    "        column = get_group(df,group)\n",
    "        feature_list.append(column)\n",
    "    feature_df = pd.DataFrame(feature_list)\n",
    "    feature_df = feature_df.transpose()\n",
    "    feature_df.columns = column_names\n",
    "    result_df = feature_df\n",
    "    return result_df\n",
    "        \n",
    "        \n",
    "word_groups_train_df = add_word_group_feats(train_df)\n",
    "word_groups_test_df = add_word_group_feats(test_df)"
   ]
  },
  {
   "cell_type": "markdown",
   "metadata": {},
   "source": [
    "Now that we have our word groups lets try and view the top correlations between each of the word groups and each cognitive function"
   ]
  },
  {
   "cell_type": "code",
   "execution_count": 49,
   "metadata": {},
   "outputs": [
    {
     "name": "stdout",
     "output_type": "stream",
     "text": [
      "Top Correlations between Cognitive Functions and Word Groups\n"
     ]
    },
    {
     "data": {
      "text/html": [
       "<div>\n",
       "<style scoped>\n",
       "    .dataframe tbody tr th:only-of-type {\n",
       "        vertical-align: middle;\n",
       "    }\n",
       "\n",
       "    .dataframe tbody tr th {\n",
       "        vertical-align: top;\n",
       "    }\n",
       "\n",
       "    .dataframe thead th {\n",
       "        text-align: right;\n",
       "    }\n",
       "</style>\n",
       "<table border=\"1\" class=\"dataframe\">\n",
       "  <thead>\n",
       "    <tr style=\"text-align: right;\">\n",
       "      <th></th>\n",
       "      <th>Function</th>\n",
       "      <th>Attribute</th>\n",
       "      <th>Correlation</th>\n",
       "    </tr>\n",
       "  </thead>\n",
       "  <tbody>\n",
       "    <tr>\n",
       "      <th>16</th>\n",
       "      <td>Fi</td>\n",
       "      <td>feeling</td>\n",
       "      <td>0.198818</td>\n",
       "    </tr>\n",
       "    <tr>\n",
       "      <th>17</th>\n",
       "      <td>Fi</td>\n",
       "      <td>love</td>\n",
       "      <td>0.189030</td>\n",
       "    </tr>\n",
       "    <tr>\n",
       "      <th>0</th>\n",
       "      <td>Fi</td>\n",
       "      <td>first_person_singular</td>\n",
       "      <td>0.150736</td>\n",
       "    </tr>\n",
       "    <tr>\n",
       "      <th>20</th>\n",
       "      <td>Fi</td>\n",
       "      <td>elongate</td>\n",
       "      <td>0.148017</td>\n",
       "    </tr>\n",
       "    <tr>\n",
       "      <th>9</th>\n",
       "      <td>Fi</td>\n",
       "      <td>like</td>\n",
       "      <td>0.122689</td>\n",
       "    </tr>\n",
       "    <tr>\n",
       "      <th>42</th>\n",
       "      <td>Fe</td>\n",
       "      <td>feeling</td>\n",
       "      <td>0.116272</td>\n",
       "    </tr>\n",
       "    <tr>\n",
       "      <th>46</th>\n",
       "      <td>Fe</td>\n",
       "      <td>elongate</td>\n",
       "      <td>0.101959</td>\n",
       "    </tr>\n",
       "    <tr>\n",
       "      <th>26</th>\n",
       "      <td>Fe</td>\n",
       "      <td>first_person_singular</td>\n",
       "      <td>0.097332</td>\n",
       "    </tr>\n",
       "    <tr>\n",
       "      <th>32</th>\n",
       "      <td>Fe</td>\n",
       "      <td>hi</td>\n",
       "      <td>0.089185</td>\n",
       "    </tr>\n",
       "    <tr>\n",
       "      <th>43</th>\n",
       "      <td>Fe</td>\n",
       "      <td>love</td>\n",
       "      <td>0.088493</td>\n",
       "    </tr>\n",
       "  </tbody>\n",
       "</table>\n",
       "</div>"
      ],
      "text/plain": [
       "   Function              Attribute  Correlation\n",
       "16       Fi                feeling     0.198818\n",
       "17       Fi                   love     0.189030\n",
       "0        Fi  first_person_singular     0.150736\n",
       "20       Fi               elongate     0.148017\n",
       "9        Fi                   like     0.122689\n",
       "42       Fe                feeling     0.116272\n",
       "46       Fe               elongate     0.101959\n",
       "26       Fe  first_person_singular     0.097332\n",
       "32       Fe                     hi     0.089185\n",
       "43       Fe                   love     0.088493"
      ]
     },
     "execution_count": 49,
     "metadata": {},
     "output_type": "execute_result"
    }
   ],
   "source": [
    "funcs = train_df.loc[:,type_list]\n",
    "\n",
    "corr_list_groups = []\n",
    "for func in type_list:\n",
    "    listed = word_groups_train_df.corrwith(train_df[func])\n",
    "    count = 0\n",
    "    for row in listed:\n",
    "        attribute = listed.index[count]\n",
    "        correlation = row\n",
    "        corr_list_groups.append([func,attribute,correlation])\n",
    "        count+=1\n",
    "print(\"Top Correlations between Cognitive Functions and Word Groups\")\n",
    "wordgroups_corrs = pd.DataFrame(corr_list_groups,columns=['Function','Attribute','Correlation'])\n",
    "wordgroups_corrs = wordgroups_corrs.sort_values(by='Correlation',ascending=False)\n",
    "wordgroups_corrs.head(10)\n"
   ]
  },
  {
   "cell_type": "markdown",
   "metadata": {},
   "source": [
    "Wow! not exactly surprising but it seems that people who possess introverted feeling\n",
    "tend to slighly use words that relate to \"feeling\" or \"love\" more.  While the correlation\n",
    "isnt too significant this is still definitely interesting!"
   ]
  },
  {
   "cell_type": "markdown",
   "metadata": {},
   "source": [
    "Now lets plug our word group features into the classify function and see how well they do in\n",
    "predicting cognitive functions"
   ]
  },
  {
   "cell_type": "code",
   "execution_count": 50,
   "metadata": {
    "scrolled": true
   },
   "outputs": [
    {
     "data": {
      "text/html": [
       "<div>\n",
       "<style scoped>\n",
       "    .dataframe tbody tr th:only-of-type {\n",
       "        vertical-align: middle;\n",
       "    }\n",
       "\n",
       "    .dataframe tbody tr th {\n",
       "        vertical-align: top;\n",
       "    }\n",
       "\n",
       "    .dataframe thead th {\n",
       "        text-align: right;\n",
       "    }\n",
       "</style>\n",
       "<table border=\"1\" class=\"dataframe\">\n",
       "  <thead>\n",
       "    <tr style=\"text-align: right;\">\n",
       "      <th></th>\n",
       "      <th>Function</th>\n",
       "      <th>Model</th>\n",
       "      <th>AUC</th>\n",
       "      <th>MSE</th>\n",
       "      <th>Classifier</th>\n",
       "    </tr>\n",
       "  </thead>\n",
       "  <tbody>\n",
       "    <tr>\n",
       "      <th>0</th>\n",
       "      <td>Fi</td>\n",
       "      <td>GaussianNB(priors=None, var_smoothing=1e-09)</td>\n",
       "      <td>0.653239</td>\n",
       "      <td>0.239120</td>\n",
       "      <td>Gaussian Naive Bayes</td>\n",
       "    </tr>\n",
       "    <tr>\n",
       "      <th>1</th>\n",
       "      <td>Fe</td>\n",
       "      <td>SGDClassifier(alpha=0.0001, average=False, cla...</td>\n",
       "      <td>0.641276</td>\n",
       "      <td>0.185288</td>\n",
       "      <td>SGD-Classifier</td>\n",
       "    </tr>\n",
       "    <tr>\n",
       "      <th>3</th>\n",
       "      <td>Te</td>\n",
       "      <td>GaussianNB(priors=None, var_smoothing=1e-09)</td>\n",
       "      <td>0.629883</td>\n",
       "      <td>0.582939</td>\n",
       "      <td>Gaussian Naive Bayes</td>\n",
       "    </tr>\n",
       "    <tr>\n",
       "      <th>2</th>\n",
       "      <td>Ti</td>\n",
       "      <td>(DecisionTreeClassifier(class_weight=None, cri...</td>\n",
       "      <td>0.626343</td>\n",
       "      <td>0.239947</td>\n",
       "      <td>Ada Boost-Classifier</td>\n",
       "    </tr>\n",
       "    <tr>\n",
       "      <th>5</th>\n",
       "      <td>Ne</td>\n",
       "      <td>GaussianNB(priors=None, var_smoothing=1e-09)</td>\n",
       "      <td>0.608805</td>\n",
       "      <td>0.194637</td>\n",
       "      <td>Gaussian Naive Bayes</td>\n",
       "    </tr>\n",
       "    <tr>\n",
       "      <th>7</th>\n",
       "      <td>Se</td>\n",
       "      <td>GaussianNB(priors=None, var_smoothing=1e-09)</td>\n",
       "      <td>0.598877</td>\n",
       "      <td>0.252145</td>\n",
       "      <td>Gaussian Naive Bayes</td>\n",
       "    </tr>\n",
       "    <tr>\n",
       "      <th>6</th>\n",
       "      <td>Si</td>\n",
       "      <td>SGDClassifier(alpha=0.0001, average=False, cla...</td>\n",
       "      <td>0.566895</td>\n",
       "      <td>0.189572</td>\n",
       "      <td>SGD-Classifier</td>\n",
       "    </tr>\n",
       "    <tr>\n",
       "      <th>4</th>\n",
       "      <td>Ni</td>\n",
       "      <td>(DecisionTreeClassifier(class_weight=None, cri...</td>\n",
       "      <td>0.565308</td>\n",
       "      <td>0.199062</td>\n",
       "      <td>RF-Classifier</td>\n",
       "    </tr>\n",
       "  </tbody>\n",
       "</table>\n",
       "</div>"
      ],
      "text/plain": [
       "  Function                                              Model       AUC  \\\n",
       "0       Fi       GaussianNB(priors=None, var_smoothing=1e-09)  0.653239   \n",
       "1       Fe  SGDClassifier(alpha=0.0001, average=False, cla...  0.641276   \n",
       "3       Te       GaussianNB(priors=None, var_smoothing=1e-09)  0.629883   \n",
       "2       Ti  (DecisionTreeClassifier(class_weight=None, cri...  0.626343   \n",
       "5       Ne       GaussianNB(priors=None, var_smoothing=1e-09)  0.608805   \n",
       "7       Se       GaussianNB(priors=None, var_smoothing=1e-09)  0.598877   \n",
       "6       Si  SGDClassifier(alpha=0.0001, average=False, cla...  0.566895   \n",
       "4       Ni  (DecisionTreeClassifier(class_weight=None, cri...  0.565308   \n",
       "\n",
       "        MSE            Classifier  \n",
       "0  0.239120  Gaussian Naive Bayes  \n",
       "1  0.185288        SGD-Classifier  \n",
       "3  0.582939  Gaussian Naive Bayes  \n",
       "2  0.239947  Ada Boost-Classifier  \n",
       "5  0.194637  Gaussian Naive Bayes  \n",
       "7  0.252145  Gaussian Naive Bayes  \n",
       "6  0.189572        SGD-Classifier  \n",
       "4  0.199062         RF-Classifier  "
      ]
     },
     "execution_count": 50,
     "metadata": {},
     "output_type": "execute_result"
    }
   ],
   "source": [
    "word_groups_classified = classify_function(word_groups_train_df,word_groups_test_df)\n",
    "word_groups_classified = group_by_function(word_groups_classified)\n",
    "word_groups_classified"
   ]
  },
  {
   "cell_type": "markdown",
   "metadata": {},
   "source": [
    "While word groups don't do as well as vectorized words for features they still exhibit some pretty good results.\n",
    "Lets try and combine word groups and our other features to see if we can improve our results"
   ]
  },
  {
   "cell_type": "markdown",
   "metadata": {},
   "source": [
    "# Try Combining Word Groups with other Features"
   ]
  },
  {
   "cell_type": "markdown",
   "metadata": {},
   "source": [
    "Now lets try combining word group features and non word features and see how that can classify"
   ]
  },
  {
   "cell_type": "code",
   "execution_count": 51,
   "metadata": {},
   "outputs": [
    {
     "name": "stdout",
     "output_type": "stream",
     "text": [
      "Combining Non Word Features and Word Groups to Classify Cognitive Functions\n"
     ]
    },
    {
     "data": {
      "text/html": [
       "<div>\n",
       "<style scoped>\n",
       "    .dataframe tbody tr th:only-of-type {\n",
       "        vertical-align: middle;\n",
       "    }\n",
       "\n",
       "    .dataframe tbody tr th {\n",
       "        vertical-align: top;\n",
       "    }\n",
       "\n",
       "    .dataframe thead th {\n",
       "        text-align: right;\n",
       "    }\n",
       "</style>\n",
       "<table border=\"1\" class=\"dataframe\">\n",
       "  <thead>\n",
       "    <tr style=\"text-align: right;\">\n",
       "      <th></th>\n",
       "      <th>Function</th>\n",
       "      <th>Model</th>\n",
       "      <th>AUC</th>\n",
       "      <th>MSE</th>\n",
       "      <th>Classifier</th>\n",
       "    </tr>\n",
       "  </thead>\n",
       "  <tbody>\n",
       "    <tr>\n",
       "      <th>2</th>\n",
       "      <td>Ti</td>\n",
       "      <td>(DecisionTreeClassifier(class_weight=None, cri...</td>\n",
       "      <td>0.645915</td>\n",
       "      <td>0.243444</td>\n",
       "      <td>Ada Boost-Classifier</td>\n",
       "    </tr>\n",
       "    <tr>\n",
       "      <th>0</th>\n",
       "      <td>Fi</td>\n",
       "      <td>GaussianNB(priors=None, var_smoothing=1e-09)</td>\n",
       "      <td>0.643962</td>\n",
       "      <td>0.237958</td>\n",
       "      <td>Gaussian Naive Bayes</td>\n",
       "    </tr>\n",
       "    <tr>\n",
       "      <th>3</th>\n",
       "      <td>Te</td>\n",
       "      <td>GaussianNB(priors=None, var_smoothing=1e-09)</td>\n",
       "      <td>0.625244</td>\n",
       "      <td>0.253856</td>\n",
       "      <td>Gaussian Naive Bayes</td>\n",
       "    </tr>\n",
       "    <tr>\n",
       "      <th>5</th>\n",
       "      <td>Ne</td>\n",
       "      <td>GaussianNB(priors=None, var_smoothing=1e-09)</td>\n",
       "      <td>0.604492</td>\n",
       "      <td>0.290476</td>\n",
       "      <td>Gaussian Naive Bayes</td>\n",
       "    </tr>\n",
       "    <tr>\n",
       "      <th>7</th>\n",
       "      <td>Se</td>\n",
       "      <td>GaussianNB(priors=None, var_smoothing=1e-09)</td>\n",
       "      <td>0.599935</td>\n",
       "      <td>0.243038</td>\n",
       "      <td>Gaussian Naive Bayes</td>\n",
       "    </tr>\n",
       "    <tr>\n",
       "      <th>1</th>\n",
       "      <td>Fe</td>\n",
       "      <td>(DecisionTreeClassifier(class_weight=None, cri...</td>\n",
       "      <td>0.598063</td>\n",
       "      <td>0.245606</td>\n",
       "      <td>Ada Boost-Classifier</td>\n",
       "    </tr>\n",
       "    <tr>\n",
       "      <th>6</th>\n",
       "      <td>Si</td>\n",
       "      <td>(DecisionTreeClassifier(class_weight=None, cri...</td>\n",
       "      <td>0.596029</td>\n",
       "      <td>0.243422</td>\n",
       "      <td>Ada Boost-Classifier</td>\n",
       "    </tr>\n",
       "    <tr>\n",
       "      <th>4</th>\n",
       "      <td>Ni</td>\n",
       "      <td>LogisticRegression(C=1.0, class_weight=None, d...</td>\n",
       "      <td>0.580729</td>\n",
       "      <td>0.186441</td>\n",
       "      <td>Logistic Regression</td>\n",
       "    </tr>\n",
       "  </tbody>\n",
       "</table>\n",
       "</div>"
      ],
      "text/plain": [
       "  Function                                              Model       AUC  \\\n",
       "2       Ti  (DecisionTreeClassifier(class_weight=None, cri...  0.645915   \n",
       "0       Fi       GaussianNB(priors=None, var_smoothing=1e-09)  0.643962   \n",
       "3       Te       GaussianNB(priors=None, var_smoothing=1e-09)  0.625244   \n",
       "5       Ne       GaussianNB(priors=None, var_smoothing=1e-09)  0.604492   \n",
       "7       Se       GaussianNB(priors=None, var_smoothing=1e-09)  0.599935   \n",
       "1       Fe  (DecisionTreeClassifier(class_weight=None, cri...  0.598063   \n",
       "6       Si  (DecisionTreeClassifier(class_weight=None, cri...  0.596029   \n",
       "4       Ni  LogisticRegression(C=1.0, class_weight=None, d...  0.580729   \n",
       "\n",
       "        MSE            Classifier  \n",
       "2  0.243444  Ada Boost-Classifier  \n",
       "0  0.237958  Gaussian Naive Bayes  \n",
       "3  0.253856  Gaussian Naive Bayes  \n",
       "5  0.290476  Gaussian Naive Bayes  \n",
       "7  0.243038  Gaussian Naive Bayes  \n",
       "1  0.245606  Ada Boost-Classifier  \n",
       "6  0.243422  Ada Boost-Classifier  \n",
       "4  0.186441   Logistic Regression  "
      ]
     },
     "execution_count": 51,
     "metadata": {},
     "output_type": "execute_result"
    }
   ],
   "source": [
    "wg_nw_train = pd.concat([word_groups_train_df,non_word_feats_train],axis=1)\n",
    "wg_nw_test = pd.concat([word_groups_test_df,non_word_feats_test],axis=1)\n",
    "print(\"Combining Non Word Features and Word Groups to Classify Cognitive Functions\")\n",
    "wg_nw_classified = classify_function(wg_nw_train,wg_nw_test)\n",
    "wg_nw_classified = group_by_function(wg_nw_classified)\n",
    "wg_nw_classified\n"
   ]
  },
  {
   "cell_type": "markdown",
   "metadata": {},
   "source": [
    "It seems like these features dont classify better on any of the cognitive functions\n",
    "\n",
    "Lets try combining word groups, non word groups and vectorized features all put together and see how they classify"
   ]
  },
  {
   "cell_type": "code",
   "execution_count": 52,
   "metadata": {
    "scrolled": true
   },
   "outputs": [
    {
     "name": "stdout",
     "output_type": "stream",
     "text": [
      "Combining Word Vector Features, Non Word Features and Word Groups to Classify Cognitive Functions\n"
     ]
    },
    {
     "data": {
      "text/html": [
       "<div>\n",
       "<style scoped>\n",
       "    .dataframe tbody tr th:only-of-type {\n",
       "        vertical-align: middle;\n",
       "    }\n",
       "\n",
       "    .dataframe tbody tr th {\n",
       "        vertical-align: top;\n",
       "    }\n",
       "\n",
       "    .dataframe thead th {\n",
       "        text-align: right;\n",
       "    }\n",
       "</style>\n",
       "<table border=\"1\" class=\"dataframe\">\n",
       "  <thead>\n",
       "    <tr style=\"text-align: right;\">\n",
       "      <th></th>\n",
       "      <th>Function</th>\n",
       "      <th>Model</th>\n",
       "      <th>AUC</th>\n",
       "      <th>MSE</th>\n",
       "      <th>Classifier</th>\n",
       "    </tr>\n",
       "  </thead>\n",
       "  <tbody>\n",
       "    <tr>\n",
       "      <th>0</th>\n",
       "      <td>Fi</td>\n",
       "      <td>LogisticRegression(C=1.0, class_weight=None, d...</td>\n",
       "      <td>0.713460</td>\n",
       "      <td>0.170651</td>\n",
       "      <td>Logistic Regression</td>\n",
       "    </tr>\n",
       "    <tr>\n",
       "      <th>3</th>\n",
       "      <td>Te</td>\n",
       "      <td>SGDClassifier(alpha=0.0001, average=False, cla...</td>\n",
       "      <td>0.687012</td>\n",
       "      <td>0.361508</td>\n",
       "      <td>SGD-Classifier</td>\n",
       "    </tr>\n",
       "    <tr>\n",
       "      <th>7</th>\n",
       "      <td>Se</td>\n",
       "      <td>LogisticRegression(C=1.0, class_weight=None, d...</td>\n",
       "      <td>0.681071</td>\n",
       "      <td>0.176603</td>\n",
       "      <td>Logistic Regression</td>\n",
       "    </tr>\n",
       "    <tr>\n",
       "      <th>2</th>\n",
       "      <td>Ti</td>\n",
       "      <td>SGDClassifier(alpha=0.0001, average=False, cla...</td>\n",
       "      <td>0.668701</td>\n",
       "      <td>0.458849</td>\n",
       "      <td>SGD-Classifier</td>\n",
       "    </tr>\n",
       "    <tr>\n",
       "      <th>1</th>\n",
       "      <td>Fe</td>\n",
       "      <td>LogisticRegression(C=1.0, class_weight=None, d...</td>\n",
       "      <td>0.645671</td>\n",
       "      <td>0.175364</td>\n",
       "      <td>Logistic Regression</td>\n",
       "    </tr>\n",
       "    <tr>\n",
       "      <th>6</th>\n",
       "      <td>Si</td>\n",
       "      <td>LogisticRegression(C=1.0, class_weight=None, d...</td>\n",
       "      <td>0.633138</td>\n",
       "      <td>0.183916</td>\n",
       "      <td>Logistic Regression</td>\n",
       "    </tr>\n",
       "    <tr>\n",
       "      <th>4</th>\n",
       "      <td>Ni</td>\n",
       "      <td>LogisticRegression(C=1.0, class_weight=None, d...</td>\n",
       "      <td>0.610921</td>\n",
       "      <td>0.183594</td>\n",
       "      <td>Logistic Regression</td>\n",
       "    </tr>\n",
       "    <tr>\n",
       "      <th>5</th>\n",
       "      <td>Ne</td>\n",
       "      <td>GaussianNB(priors=None, var_smoothing=1e-09)</td>\n",
       "      <td>0.603434</td>\n",
       "      <td>0.261652</td>\n",
       "      <td>Gaussian Naive Bayes</td>\n",
       "    </tr>\n",
       "  </tbody>\n",
       "</table>\n",
       "</div>"
      ],
      "text/plain": [
       "  Function                                              Model       AUC  \\\n",
       "0       Fi  LogisticRegression(C=1.0, class_weight=None, d...  0.713460   \n",
       "3       Te  SGDClassifier(alpha=0.0001, average=False, cla...  0.687012   \n",
       "7       Se  LogisticRegression(C=1.0, class_weight=None, d...  0.681071   \n",
       "2       Ti  SGDClassifier(alpha=0.0001, average=False, cla...  0.668701   \n",
       "1       Fe  LogisticRegression(C=1.0, class_weight=None, d...  0.645671   \n",
       "6       Si  LogisticRegression(C=1.0, class_weight=None, d...  0.633138   \n",
       "4       Ni  LogisticRegression(C=1.0, class_weight=None, d...  0.610921   \n",
       "5       Ne       GaussianNB(priors=None, var_smoothing=1e-09)  0.603434   \n",
       "\n",
       "        MSE            Classifier  \n",
       "0  0.170651   Logistic Regression  \n",
       "3  0.361508        SGD-Classifier  \n",
       "7  0.176603   Logistic Regression  \n",
       "2  0.458849        SGD-Classifier  \n",
       "1  0.175364   Logistic Regression  \n",
       "6  0.183916   Logistic Regression  \n",
       "4  0.183594   Logistic Regression  \n",
       "5  0.261652  Gaussian Naive Bayes  "
      ]
     },
     "execution_count": 52,
     "metadata": {},
     "output_type": "execute_result"
    }
   ],
   "source": [
    "wg_combined_train = pd.concat([word_groups_train_df,combined_train_cv],axis=1)\n",
    "wg_combined_test = pd.concat([word_groups_test_df,combined_test_cv],axis=1)\n",
    "print(\"Combining Word Vector Features, Non Word Features and Word Groups to Classify Cognitive Functions\")\n",
    "wg_combined_classified = classify_function(wg_combined_train,wg_combined_test)\n",
    "wg_combined_classified = group_by_function(wg_combined_classified)\n",
    "wg_combined_classified"
   ]
  },
  {
   "cell_type": "markdown",
   "metadata": {},
   "source": [
    "These seem to classify functions well, but perhaps not as good as our originally stand alone vectorized features\n",
    "\n",
    "Now lets try combining word group features with just word vectorized features"
   ]
  },
  {
   "cell_type": "code",
   "execution_count": 53,
   "metadata": {},
   "outputs": [
    {
     "name": "stdout",
     "output_type": "stream",
     "text": [
      "Combining Word Vector Features and Word Groups to Classify Cognitive Functions\n"
     ]
    },
    {
     "data": {
      "text/html": [
       "<div>\n",
       "<style scoped>\n",
       "    .dataframe tbody tr th:only-of-type {\n",
       "        vertical-align: middle;\n",
       "    }\n",
       "\n",
       "    .dataframe tbody tr th {\n",
       "        vertical-align: top;\n",
       "    }\n",
       "\n",
       "    .dataframe thead th {\n",
       "        text-align: right;\n",
       "    }\n",
       "</style>\n",
       "<table border=\"1\" class=\"dataframe\">\n",
       "  <thead>\n",
       "    <tr style=\"text-align: right;\">\n",
       "      <th></th>\n",
       "      <th>Function</th>\n",
       "      <th>Model</th>\n",
       "      <th>AUC</th>\n",
       "      <th>MSE</th>\n",
       "      <th>Classifier</th>\n",
       "    </tr>\n",
       "  </thead>\n",
       "  <tbody>\n",
       "    <tr>\n",
       "      <th>3</th>\n",
       "      <td>Te</td>\n",
       "      <td>SGDClassifier(alpha=0.0001, average=False, cla...</td>\n",
       "      <td>0.705241</td>\n",
       "      <td>0.422220</td>\n",
       "      <td>SGD-Classifier</td>\n",
       "    </tr>\n",
       "    <tr>\n",
       "      <th>0</th>\n",
       "      <td>Fi</td>\n",
       "      <td>LogisticRegression(C=1.0, class_weight=None, d...</td>\n",
       "      <td>0.702067</td>\n",
       "      <td>0.169367</td>\n",
       "      <td>Logistic Regression</td>\n",
       "    </tr>\n",
       "    <tr>\n",
       "      <th>7</th>\n",
       "      <td>Se</td>\n",
       "      <td>LogisticRegression(C=1.0, class_weight=None, d...</td>\n",
       "      <td>0.682699</td>\n",
       "      <td>0.176725</td>\n",
       "      <td>Logistic Regression</td>\n",
       "    </tr>\n",
       "    <tr>\n",
       "      <th>1</th>\n",
       "      <td>Fe</td>\n",
       "      <td>SGDClassifier(alpha=0.0001, average=False, cla...</td>\n",
       "      <td>0.666260</td>\n",
       "      <td>0.286864</td>\n",
       "      <td>SGD-Classifier</td>\n",
       "    </tr>\n",
       "    <tr>\n",
       "      <th>2</th>\n",
       "      <td>Ti</td>\n",
       "      <td>LogisticRegression(C=1.0, class_weight=None, d...</td>\n",
       "      <td>0.664144</td>\n",
       "      <td>0.177434</td>\n",
       "      <td>Logistic Regression</td>\n",
       "    </tr>\n",
       "    <tr>\n",
       "      <th>6</th>\n",
       "      <td>Si</td>\n",
       "      <td>LogisticRegression(C=1.0, class_weight=None, d...</td>\n",
       "      <td>0.642985</td>\n",
       "      <td>0.181660</td>\n",
       "      <td>Logistic Regression</td>\n",
       "    </tr>\n",
       "    <tr>\n",
       "      <th>5</th>\n",
       "      <td>Ne</td>\n",
       "      <td>GaussianNB(priors=None, var_smoothing=1e-09)</td>\n",
       "      <td>0.619222</td>\n",
       "      <td>0.218620</td>\n",
       "      <td>Gaussian Naive Bayes</td>\n",
       "    </tr>\n",
       "    <tr>\n",
       "      <th>4</th>\n",
       "      <td>Ni</td>\n",
       "      <td>LogisticRegression(C=1.0, class_weight=None, d...</td>\n",
       "      <td>0.586344</td>\n",
       "      <td>0.186418</td>\n",
       "      <td>Logistic Regression</td>\n",
       "    </tr>\n",
       "  </tbody>\n",
       "</table>\n",
       "</div>"
      ],
      "text/plain": [
       "  Function                                              Model       AUC  \\\n",
       "3       Te  SGDClassifier(alpha=0.0001, average=False, cla...  0.705241   \n",
       "0       Fi  LogisticRegression(C=1.0, class_weight=None, d...  0.702067   \n",
       "7       Se  LogisticRegression(C=1.0, class_weight=None, d...  0.682699   \n",
       "1       Fe  SGDClassifier(alpha=0.0001, average=False, cla...  0.666260   \n",
       "2       Ti  LogisticRegression(C=1.0, class_weight=None, d...  0.664144   \n",
       "6       Si  LogisticRegression(C=1.0, class_weight=None, d...  0.642985   \n",
       "5       Ne       GaussianNB(priors=None, var_smoothing=1e-09)  0.619222   \n",
       "4       Ni  LogisticRegression(C=1.0, class_weight=None, d...  0.586344   \n",
       "\n",
       "        MSE            Classifier  \n",
       "3  0.422220        SGD-Classifier  \n",
       "0  0.169367   Logistic Regression  \n",
       "7  0.176725   Logistic Regression  \n",
       "1  0.286864        SGD-Classifier  \n",
       "2  0.177434   Logistic Regression  \n",
       "6  0.181660   Logistic Regression  \n",
       "5  0.218620  Gaussian Naive Bayes  \n",
       "4  0.186418   Logistic Regression  "
      ]
     },
     "execution_count": 53,
     "metadata": {},
     "output_type": "execute_result"
    }
   ],
   "source": [
    "#use tsvd to reduce vector dimensionality\n",
    "\n",
    "def tsvd(vectorized):\n",
    "    tsvd_cv = TruncatedSVD(n_components=100, \n",
    "                           n_iter=10, \n",
    "                           random_state=42)\n",
    "    tsvd_cv.fit(X_train_cv_matrix)\n",
    "    return tsvd_cv.transform(vectorized)\n",
    "\n",
    "wg_vect_train = pd.concat([word_groups_train_df,pd.DataFrame(tsvd(X_train_cv_matrix))],axis=1)\n",
    "wg_vect_test = pd.concat([word_groups_test_df, pd.DataFrame(tsvd(X_test_cv_matrix))],axis=1)\n",
    "print(\"Combining Word Vector Features and Word Groups to Classify Cognitive Functions\")\n",
    "wg_vect_classified = classify_function(wg_vect_train,wg_vect_test)\n",
    "wg_vect_classified = group_by_function(wg_vect_classified)\n",
    "wg_vect_classified"
   ]
  },
  {
   "cell_type": "markdown",
   "metadata": {},
   "source": [
    "These seem to classify features at a similar level as our vectorized word features"
   ]
  },
  {
   "cell_type": "markdown",
   "metadata": {},
   "source": [
    "Now lets have a look at what our best features and models thus far are for classifying each of the cognitive functions"
   ]
  },
  {
   "cell_type": "markdown",
   "metadata": {},
   "source": [
    "# Generating the Best Model for each Cognitive Function"
   ]
  },
  {
   "cell_type": "markdown",
   "metadata": {},
   "source": [
    "Call the find_best_models function on each of our models thus far (nonword,vectorizedwords,wordgroups,combined)  and \n",
    "see which of them do best in classifying each cognitive function.  "
   ]
  },
  {
   "cell_type": "code",
   "execution_count": 54,
   "metadata": {},
   "outputs": [],
   "source": [
    "def find_best_models(df):\n",
    "    best_classifiers = []\n",
    "    for func in type_list:\n",
    "        row = df.loc[df[\"Function\"] == func].iloc[0,:]\n",
    "        best_classifiers.append(row)\n",
    "\n",
    "    new = pd.DataFrame(best_classifiers)\n",
    "    new = new.sort_values(by='AUC')\n",
    "    new = new.reset_index()\n",
    "    return new\n",
    "\n"
   ]
  },
  {
   "cell_type": "code",
   "execution_count": null,
   "metadata": {},
   "outputs": [],
   "source": []
  },
  {
   "cell_type": "code",
   "execution_count": 55,
   "metadata": {},
   "outputs": [],
   "source": [
    "clf_column_names = ['Index','Function','Model','AUC','MSE','Classifier']\n",
    "\n",
    "# Find best vectorized models\n",
    "best_vectorized = find_best_models(vectorized_classified)\n",
    "best_vectorized = best_vectorized.loc[:,clf_column_names]\n",
    "best_vectorized.columns = clf_column_names\n",
    "best_vectorized['Feature'] = 'Vectorized'"
   ]
  },
  {
   "cell_type": "code",
   "execution_count": 56,
   "metadata": {},
   "outputs": [],
   "source": [
    "# Find best nonword models\n",
    "best_nw = find_best_models(nonwords_classified)\n",
    "best_nw = best_nw.loc[:,clf_column_names]\n",
    "best_nw.columns = clf_column_names\n",
    "\n",
    "# Find best nonwords+vectorized models\n",
    "best_combined = find_best_models(combined)\n",
    "best_combined = best_combined.loc[:,clf_column_names]\n",
    "best_combined.columns = clf_column_names\n",
    "best_combined['Feature'] = 'Vectorized + Nonwords'"
   ]
  },
  {
   "cell_type": "code",
   "execution_count": 57,
   "metadata": {
    "scrolled": true
   },
   "outputs": [
    {
     "name": "stdout",
     "output_type": "stream",
     "text": [
      "Best Models for Each Cognitive Function\n"
     ]
    },
    {
     "data": {
      "text/html": [
       "<div>\n",
       "<style scoped>\n",
       "    .dataframe tbody tr th:only-of-type {\n",
       "        vertical-align: middle;\n",
       "    }\n",
       "\n",
       "    .dataframe tbody tr th {\n",
       "        vertical-align: top;\n",
       "    }\n",
       "\n",
       "    .dataframe thead th {\n",
       "        text-align: right;\n",
       "    }\n",
       "</style>\n",
       "<table border=\"1\" class=\"dataframe\">\n",
       "  <thead>\n",
       "    <tr style=\"text-align: right;\">\n",
       "      <th></th>\n",
       "      <th>AUC</th>\n",
       "      <th>Classifier</th>\n",
       "      <th>Feature</th>\n",
       "      <th>Function</th>\n",
       "      <th>MSE</th>\n",
       "      <th>Model</th>\n",
       "    </tr>\n",
       "  </thead>\n",
       "  <tbody>\n",
       "    <tr>\n",
       "      <th>7</th>\n",
       "      <td>0.716960</td>\n",
       "      <td>SGD-Classifier</td>\n",
       "      <td>Vectorized</td>\n",
       "      <td>Te</td>\n",
       "      <td>0.277686</td>\n",
       "      <td>SGDClassifier(alpha=0.0001, average=False, cla...</td>\n",
       "    </tr>\n",
       "    <tr>\n",
       "      <th>6</th>\n",
       "      <td>0.713623</td>\n",
       "      <td>Logistic Regression</td>\n",
       "      <td>Vectorized + Nonwords</td>\n",
       "      <td>Fi</td>\n",
       "      <td>0.170625</td>\n",
       "      <td>LogisticRegression(C=1.0, class_weight=None, d...</td>\n",
       "    </tr>\n",
       "    <tr>\n",
       "      <th>5</th>\n",
       "      <td>0.682699</td>\n",
       "      <td>Logistic Regression</td>\n",
       "      <td>Word Groups + Vectorized</td>\n",
       "      <td>Se</td>\n",
       "      <td>0.176725</td>\n",
       "      <td>LogisticRegression(C=1.0, class_weight=None, d...</td>\n",
       "    </tr>\n",
       "    <tr>\n",
       "      <th>4</th>\n",
       "      <td>0.672607</td>\n",
       "      <td>SGD-Classifier</td>\n",
       "      <td>Vectorized</td>\n",
       "      <td>Ti</td>\n",
       "      <td>0.221785</td>\n",
       "      <td>SGDClassifier(alpha=0.0001, average=False, cla...</td>\n",
       "    </tr>\n",
       "    <tr>\n",
       "      <th>3</th>\n",
       "      <td>0.672363</td>\n",
       "      <td>RF-Classifier</td>\n",
       "      <td>Vectorized</td>\n",
       "      <td>Fe</td>\n",
       "      <td>0.183711</td>\n",
       "      <td>(DecisionTreeClassifier(class_weight=None, cri...</td>\n",
       "    </tr>\n",
       "    <tr>\n",
       "      <th>2</th>\n",
       "      <td>0.645996</td>\n",
       "      <td>RF-Classifier</td>\n",
       "      <td>Vectorized</td>\n",
       "      <td>Si</td>\n",
       "      <td>0.190547</td>\n",
       "      <td>(DecisionTreeClassifier(class_weight=None, cri...</td>\n",
       "    </tr>\n",
       "    <tr>\n",
       "      <th>1</th>\n",
       "      <td>0.623454</td>\n",
       "      <td>Gaussian Naive Bayes</td>\n",
       "      <td>Vectorized + Nonwords</td>\n",
       "      <td>Ni</td>\n",
       "      <td>0.189217</td>\n",
       "      <td>GaussianNB(priors=None, var_smoothing=1e-09)</td>\n",
       "    </tr>\n",
       "    <tr>\n",
       "      <th>0</th>\n",
       "      <td>0.619222</td>\n",
       "      <td>Gaussian Naive Bayes</td>\n",
       "      <td>Word Groups + Vectorized</td>\n",
       "      <td>Ne</td>\n",
       "      <td>0.218620</td>\n",
       "      <td>GaussianNB(priors=None, var_smoothing=1e-09)</td>\n",
       "    </tr>\n",
       "  </tbody>\n",
       "</table>\n",
       "</div>"
      ],
      "text/plain": [
       "        AUC            Classifier                   Feature Function  \\\n",
       "7  0.716960        SGD-Classifier                Vectorized       Te   \n",
       "6  0.713623   Logistic Regression     Vectorized + Nonwords       Fi   \n",
       "5  0.682699   Logistic Regression  Word Groups + Vectorized       Se   \n",
       "4  0.672607        SGD-Classifier                Vectorized       Ti   \n",
       "3  0.672363         RF-Classifier                Vectorized       Fe   \n",
       "2  0.645996         RF-Classifier                Vectorized       Si   \n",
       "1  0.623454  Gaussian Naive Bayes     Vectorized + Nonwords       Ni   \n",
       "0  0.619222  Gaussian Naive Bayes  Word Groups + Vectorized       Ne   \n",
       "\n",
       "        MSE                                              Model  \n",
       "7  0.277686  SGDClassifier(alpha=0.0001, average=False, cla...  \n",
       "6  0.170625  LogisticRegression(C=1.0, class_weight=None, d...  \n",
       "5  0.176725  LogisticRegression(C=1.0, class_weight=None, d...  \n",
       "4  0.221785  SGDClassifier(alpha=0.0001, average=False, cla...  \n",
       "3  0.183711  (DecisionTreeClassifier(class_weight=None, cri...  \n",
       "2  0.190547  (DecisionTreeClassifier(class_weight=None, cri...  \n",
       "1  0.189217       GaussianNB(priors=None, var_smoothing=1e-09)  \n",
       "0  0.218620       GaussianNB(priors=None, var_smoothing=1e-09)  "
      ]
     },
     "execution_count": 57,
     "metadata": {},
     "output_type": "execute_result"
    }
   ],
   "source": [
    "# Find best wordgroup models\n",
    "best_word_groups = find_best_models(word_groups_classified)\n",
    "best_word_groups = best_word_groups.loc[:,clf_column_names]\n",
    "best_word_groups.columns = clf_column_names\n",
    "best_word_groups['Feature'] = 'Word Groups'\n",
    "\n",
    "#Find best wordgroup_vectorized models\n",
    "best_wg_vects = find_best_models(wg_vect_classified)\n",
    "best_wg_vects = best_wg_vects.loc[:,clf_column_names]\n",
    "best_wg_vects.columns = clf_column_names\n",
    "best_wg_vects['Feature'] = 'Word Groups + Vectorized'\n",
    "\n",
    "#Find best wordgroup_nonwords models\n",
    "best_wg_nws = find_best_models(wg_nw_classified)\n",
    "best_wg_nws = best_wg_nws.loc[:,clf_column_names]\n",
    "best_wg_nws.columns = clf_column_names\n",
    "best_wg_nws['Feature'] = 'Word Groups + Non Words'\n",
    "\n",
    "#Find best wordgroup_nonwords_combined models\n",
    "best_wg_combined = find_best_models(wg_combined_classified)\n",
    "best_wg_combined = best_wg_combined.loc[:,clf_column_names]\n",
    "best_wg_combined.columns = clf_column_names\n",
    "best_wg_combined['Feature'] = 'Word Groups + Non Words' + 'Word Groups'\n",
    "\n",
    "# Finally find the optimal models for each function \n",
    "optimal_per_function = pd.concat([best_wg_vects,best_wg_nws,best_wg_combined,best_vectorized,best_nw,best_combined,best_word_groups],axis=0)\n",
    "optimal_per_function = optimal_per_function.sort_values(by='AUC',ascending=False)\n",
    "best_models = find_best_models(optimal_per_function)\n",
    "best_models = best_models.drop(['Index','index'],axis=1)\n",
    "best_models = best_models.sort_values(by='AUC',ascending=False)\n",
    "print(\"Best Models for Each Cognitive Function\")\n",
    "best_models\n"
   ]
  },
  {
   "cell_type": "markdown",
   "metadata": {},
   "source": [
    "Wow Our Scores are pretty good!"
   ]
  },
  {
   "cell_type": "markdown",
   "metadata": {},
   "source": [
    "Since SGDClassifier, Random Forest Classifier and Logistic Regression seemed to overall perform the best and return the highest AUC scores, lets try and perform grid search on the SGDClassifier, Random Forest Classifier and logistic regression model, tune their hyperparameters and see if we can optimize our model.  Note that we would do the same for GNB, but there are not hyperparameters we can easily tune.\n",
    "\n",
    "We will now test our optimized models on all of our feature sets and see if we can improve our predictions.\n"
   ]
  },
  {
   "cell_type": "markdown",
   "metadata": {},
   "source": [
    "# Optimizing the SGDClassifier via Grid Search"
   ]
  },
  {
   "cell_type": "code",
   "execution_count": 58,
   "metadata": {},
   "outputs": [],
   "source": [
    "\n",
    "possible_alphas = [1e-1, 1e-3]\n",
    "possible_tols = [None, 1e-3]\n",
    "possible_eta0 = [0.1, 0.001]\n",
    "possible_penalties = ['l1','l2']\n",
    "possible_max_iters = [5, 1000, 10000]\n",
    "\n",
    "def grid_search_SGD(X_train,X_test):\n",
    "    aucs = []\n",
    "    count=0\n",
    "    for func in type_list:\n",
    "        y_train = train_df[func]\n",
    "        y_test = test_df[func]\n",
    "        for penalty in possible_penalties:\n",
    "            for alpha in possible_alphas:\n",
    "                for itr in possible_max_iters:\n",
    "                            model = SGDClassifier(loss='log', penalty = penalty,\n",
    "                                                 alpha = alpha, max_iter = itr,tol = 1e-3,random_state=42,\n",
    "                                                 eta0=.001\n",
    "                                                 )\n",
    "                            \n",
    "                            model.fit(X_train, y_train)\n",
    "                            y_pred = model.predict_proba(X_test)[:,1]\n",
    "                            predictions = [value for value in y_pred]\n",
    "                            mse= mean_squared_error(y_test,y_pred) \n",
    "\n",
    "                            mse= mean_squared_error(y_test,y_pred) \n",
    "                            count+=1\n",
    "                            aucs.append([func,model,roc_auc_score(y_test,y_pred),mse])\n",
    "                            \n",
    "    results = pd.DataFrame(aucs,columns=['Function','Model','AUC','MSE'])\n",
    "    results = results.sort_values(by='AUC',ascending=False)\n",
    "    return results\n",
    "                            \n",
    "                            \n",
    "\n",
    "\n",
    "\n"
   ]
  },
  {
   "cell_type": "markdown",
   "metadata": {},
   "source": [
    "# Optimizing Random Forest Classifiers Via Grid Search"
   ]
  },
  {
   "cell_type": "code",
   "execution_count": 59,
   "metadata": {},
   "outputs": [],
   "source": [
    "possible_estimators =  [5,10,30,100]\n",
    "possible_max_depths = [3,5,10,20,50]\n",
    "\n",
    "def grid_search_rf(X_train,X_test):\n",
    "    aucs = []\n",
    "    count=0\n",
    "    for func in type_list:\n",
    "        y_train = train_df[func]\n",
    "        y_test = test_df[func]\n",
    "        for estimator in possible_estimators:\n",
    "            for depth in possible_max_depths:\n",
    "                        model = RandomForestClassifier(random_state=42,n_estimators=estimator,\n",
    "                                                       max_depth = depth\n",
    "                                                       )\n",
    "                        model.fit(X_train, y_train)\n",
    "                        try:\n",
    "                            y_pred = model.predict_proba(X_test)[:,1]\n",
    "                        except:\n",
    "                            y_pred = model.predict(X_test)\n",
    "                        predictions = [value for value in y_pred]\n",
    "                        mse= mean_squared_error(y_test,y_pred) \n",
    "                        count+=1\n",
    "                        aucs.append([func,model,roc_auc_score(y_test,y_pred),mse])\n",
    "                            \n",
    "    results = pd.DataFrame(aucs,columns=['Function','Model','AUC','MSE'])\n",
    "    results = results.sort_values(by='AUC',ascending=False)\n",
    "    return results"
   ]
  },
  {
   "cell_type": "markdown",
   "metadata": {},
   "source": [
    "# Optimizing Logistic Regression Models via Grid Search "
   ]
  },
  {
   "cell_type": "code",
   "execution_count": 60,
   "metadata": {},
   "outputs": [],
   "source": [
    "\n",
    "possible_penalties = ['l1','l2']\n",
    "possible_cs = np.logspace(0, 4, 5)\n",
    "\n",
    "def grid_search_log(X_train,X_test):\n",
    "    aucs = []\n",
    "    count=0\n",
    "    for func in type_list:\n",
    "        y_train = train_df[func]\n",
    "        y_test = test_df[func]\n",
    "        for penalty in possible_penalties:\n",
    "            for c in possible_cs:\n",
    "                model = LogisticRegression(penalty = penalty,C=c )\n",
    "                model.fit(X_train, y_train)\n",
    "                y_pred = model.predict_proba(X_test)[:,1]\n",
    "                predictions = [value for value in y_pred]\n",
    "                mse= mean_squared_error(y_test,y_pred) \n",
    "                count+=1\n",
    "                aucs.append([func,model,roc_auc_score(y_test,y_pred),mse])\n",
    "                            \n",
    "    results = pd.DataFrame(aucs,columns=['Function','Model','AUC','MSE'])\n",
    "    results = results.sort_values(by='AUC',ascending=False)\n",
    "    return results"
   ]
  },
  {
   "cell_type": "markdown",
   "metadata": {},
   "source": [
    "# Create a Method for Testing our Optimized Classifiers on each of our Feature Sets"
   ]
  },
  {
   "cell_type": "markdown",
   "metadata": {},
   "source": [
    "Note: This may take a couple of minutes"
   ]
  },
  {
   "cell_type": "code",
   "execution_count": 61,
   "metadata": {},
   "outputs": [
    {
     "name": "stdout",
     "output_type": "stream",
     "text": [
      "Optimal Hyperparameter Tuned Models for Predicting Each Cognitive Functions\n"
     ]
    },
    {
     "data": {
      "text/html": [
       "<div>\n",
       "<style scoped>\n",
       "    .dataframe tbody tr th:only-of-type {\n",
       "        vertical-align: middle;\n",
       "    }\n",
       "\n",
       "    .dataframe tbody tr th {\n",
       "        vertical-align: top;\n",
       "    }\n",
       "\n",
       "    .dataframe thead th {\n",
       "        text-align: right;\n",
       "    }\n",
       "</style>\n",
       "<table border=\"1\" class=\"dataframe\">\n",
       "  <thead>\n",
       "    <tr style=\"text-align: right;\">\n",
       "      <th></th>\n",
       "      <th>Function</th>\n",
       "      <th>Model</th>\n",
       "      <th>AUC</th>\n",
       "      <th>MSE</th>\n",
       "      <th>Feature</th>\n",
       "      <th>Classifier</th>\n",
       "    </tr>\n",
       "  </thead>\n",
       "  <tbody>\n",
       "    <tr>\n",
       "      <th>3</th>\n",
       "      <td>Te</td>\n",
       "      <td>SGDClassifier(alpha=0.001, average=False, clas...</td>\n",
       "      <td>0.727173</td>\n",
       "      <td>0.418715</td>\n",
       "      <td>Word Groups + Word Vectors</td>\n",
       "      <td>SGD Classifier</td>\n",
       "    </tr>\n",
       "    <tr>\n",
       "      <th>0</th>\n",
       "      <td>Fi</td>\n",
       "      <td>SGDClassifier(alpha=0.1, average=False, class_...</td>\n",
       "      <td>0.724528</td>\n",
       "      <td>0.170265</td>\n",
       "      <td>Word Vectors</td>\n",
       "      <td>SGD Classifier</td>\n",
       "    </tr>\n",
       "    <tr>\n",
       "      <th>1</th>\n",
       "      <td>Fe</td>\n",
       "      <td>LogisticRegression(C=10000.0, class_weight=Non...</td>\n",
       "      <td>0.701253</td>\n",
       "      <td>0.174327</td>\n",
       "      <td>Word Groups + Non Words</td>\n",
       "      <td>Logistic Regression</td>\n",
       "    </tr>\n",
       "    <tr>\n",
       "      <th>2</th>\n",
       "      <td>Ti</td>\n",
       "      <td>SGDClassifier(alpha=0.001, average=False, clas...</td>\n",
       "      <td>0.699788</td>\n",
       "      <td>0.173289</td>\n",
       "      <td>Non Words + Word Vectors</td>\n",
       "      <td>SGD Classifier</td>\n",
       "    </tr>\n",
       "    <tr>\n",
       "      <th>7</th>\n",
       "      <td>Se</td>\n",
       "      <td>LogisticRegression(C=100.0, class_weight=None,...</td>\n",
       "      <td>0.686442</td>\n",
       "      <td>0.177054</td>\n",
       "      <td>Word Groups + Word Vectors + Non Words</td>\n",
       "      <td>Logistic Regression</td>\n",
       "    </tr>\n",
       "    <tr>\n",
       "      <th>6</th>\n",
       "      <td>Si</td>\n",
       "      <td>SGDClassifier(alpha=0.1, average=False, class_...</td>\n",
       "      <td>0.664958</td>\n",
       "      <td>0.176457</td>\n",
       "      <td>Word Groups + Word Vectors</td>\n",
       "      <td>SGD Classifier</td>\n",
       "    </tr>\n",
       "    <tr>\n",
       "      <th>4</th>\n",
       "      <td>Ni</td>\n",
       "      <td>(DecisionTreeClassifier(class_weight=None, cri...</td>\n",
       "      <td>0.646118</td>\n",
       "      <td>0.183096</td>\n",
       "      <td>Non Words</td>\n",
       "      <td>Random Forest Classifier</td>\n",
       "    </tr>\n",
       "    <tr>\n",
       "      <th>5</th>\n",
       "      <td>Ne</td>\n",
       "      <td>(DecisionTreeClassifier(class_weight=None, cri...</td>\n",
       "      <td>0.598145</td>\n",
       "      <td>0.204492</td>\n",
       "      <td>Non Words + Word Vectors</td>\n",
       "      <td>Random Forest Classifier</td>\n",
       "    </tr>\n",
       "  </tbody>\n",
       "</table>\n",
       "</div>"
      ],
      "text/plain": [
       "  Function                                              Model       AUC  \\\n",
       "3       Te  SGDClassifier(alpha=0.001, average=False, clas...  0.727173   \n",
       "0       Fi  SGDClassifier(alpha=0.1, average=False, class_...  0.724528   \n",
       "1       Fe  LogisticRegression(C=10000.0, class_weight=Non...  0.701253   \n",
       "2       Ti  SGDClassifier(alpha=0.001, average=False, clas...  0.699788   \n",
       "7       Se  LogisticRegression(C=100.0, class_weight=None,...  0.686442   \n",
       "6       Si  SGDClassifier(alpha=0.1, average=False, class_...  0.664958   \n",
       "4       Ni  (DecisionTreeClassifier(class_weight=None, cri...  0.646118   \n",
       "5       Ne  (DecisionTreeClassifier(class_weight=None, cri...  0.598145   \n",
       "\n",
       "        MSE                                 Feature                Classifier  \n",
       "3  0.418715              Word Groups + Word Vectors            SGD Classifier  \n",
       "0  0.170265                            Word Vectors            SGD Classifier  \n",
       "1  0.174327                 Word Groups + Non Words       Logistic Regression  \n",
       "2  0.173289                Non Words + Word Vectors            SGD Classifier  \n",
       "7  0.177054  Word Groups + Word Vectors + Non Words       Logistic Regression  \n",
       "6  0.176457              Word Groups + Word Vectors            SGD Classifier  \n",
       "4  0.183096                               Non Words  Random Forest Classifier  \n",
       "5  0.204492                Non Words + Word Vectors  Random Forest Classifier  "
      ]
     },
     "execution_count": 61,
     "metadata": {},
     "output_type": "execute_result"
    }
   ],
   "source": [
    "clfs = [grid_search_SGD, grid_search_rf, grid_search_log]\n",
    "clf_names = ['SGD Classifier','Random Forest Classifier', 'Logistic Regression']\n",
    "feature_sets = [[reduced_cv_train_matrix,reduced_cv_test_matrix],\n",
    "               [non_word_feats_train,non_word_feats_test],\n",
    "                [combined_train_cv,combined_test_cv],\n",
    "                [word_groups_train_df,word_groups_test_df],\n",
    "                [wg_nw_train,wg_nw_test],\n",
    "                [wg_vect_train,wg_vect_test],\n",
    "                [wg_combined_train, wg_combined_test]\n",
    "               ]\n",
    "feature_names = ['Word Vectors','Non Words','Non Words + Word Vectors',\n",
    "                'Word Groups','Word Groups + Non Words','Word Groups + Word Vectors',\n",
    "                 'Word Groups + Word Vectors + Non Words'\n",
    "                ]\n",
    "\n",
    "def optimized_clf():\n",
    "    df = pd.DataFrame()\n",
    "    count_c = 0\n",
    "    for clf in clfs:\n",
    "        count_f = 0\n",
    "        for features in feature_sets:\n",
    "            optimized = clf(features[0],features[1])\n",
    "            optimized['Feature'] = feature_names[count_f]\n",
    "            optimized['Classifier'] = clf_names[count_c]\n",
    "            df = pd.concat([df,optimized],axis=0)\n",
    "            count_f += 1\n",
    "        count_c += 1\n",
    "    df = group_by_function(df)\n",
    "    return df\n",
    "\n",
    "optimized_classified = optimized_clf()\n",
    "print(\"Optimal Hyperparameter Tuned Models for Predicting Each Cognitive Functions\")\n",
    "optimized_classified"
   ]
  },
  {
   "cell_type": "markdown",
   "metadata": {},
   "source": [
    "Wow! as can be seen above, these optimized models seem to give us some of our best scores.  Lets \n",
    "combine them with our previous best scores and see how they fare!"
   ]
  },
  {
   "cell_type": "markdown",
   "metadata": {},
   "source": [
    "Now that we've optimized our models lets take another look at the best models for each cognitive function and\n",
    "see if they changed/improved"
   ]
  },
  {
   "cell_type": "code",
   "execution_count": 62,
   "metadata": {},
   "outputs": [],
   "source": [
    "#combine all results into one df and return a df of just the highest scores for each function\n",
    "optimal_per_function = pd.concat([optimized_classified,\n",
    "                                  best_wg_vects,best_wg_nws,best_wg_combined,best_vectorized,best_nw,best_combined,best_word_groups],axis=0)\n",
    "optimal_per_function = optimal_per_function.sort_values(by='AUC',ascending=False)\n",
    "best_models = find_best_models(optimal_per_function)\n",
    "best_models = best_models.drop(['Index','index'],axis=1)\n",
    "#optimal_per_function = optimal_per_function.drop(['level_0'],axis=1)"
   ]
  },
  {
   "cell_type": "code",
   "execution_count": 63,
   "metadata": {
    "scrolled": true
   },
   "outputs": [
    {
     "data": {
      "text/html": [
       "<div>\n",
       "<style scoped>\n",
       "    .dataframe tbody tr th:only-of-type {\n",
       "        vertical-align: middle;\n",
       "    }\n",
       "\n",
       "    .dataframe tbody tr th {\n",
       "        vertical-align: top;\n",
       "    }\n",
       "\n",
       "    .dataframe thead th {\n",
       "        text-align: right;\n",
       "    }\n",
       "</style>\n",
       "<table border=\"1\" class=\"dataframe\">\n",
       "  <thead>\n",
       "    <tr style=\"text-align: right;\">\n",
       "      <th></th>\n",
       "      <th>AUC</th>\n",
       "      <th>Classifier</th>\n",
       "      <th>Feature</th>\n",
       "      <th>Function</th>\n",
       "      <th>MSE</th>\n",
       "      <th>Model</th>\n",
       "    </tr>\n",
       "  </thead>\n",
       "  <tbody>\n",
       "    <tr>\n",
       "      <th>7</th>\n",
       "      <td>0.727173</td>\n",
       "      <td>SGD Classifier</td>\n",
       "      <td>Word Groups + Word Vectors</td>\n",
       "      <td>Te</td>\n",
       "      <td>0.418715</td>\n",
       "      <td>SGDClassifier(alpha=0.001, average=False, clas...</td>\n",
       "    </tr>\n",
       "    <tr>\n",
       "      <th>6</th>\n",
       "      <td>0.724528</td>\n",
       "      <td>SGD Classifier</td>\n",
       "      <td>Word Vectors</td>\n",
       "      <td>Fi</td>\n",
       "      <td>0.170265</td>\n",
       "      <td>SGDClassifier(alpha=0.1, average=False, class_...</td>\n",
       "    </tr>\n",
       "    <tr>\n",
       "      <th>5</th>\n",
       "      <td>0.701253</td>\n",
       "      <td>Logistic Regression</td>\n",
       "      <td>Word Groups + Non Words</td>\n",
       "      <td>Fe</td>\n",
       "      <td>0.174327</td>\n",
       "      <td>LogisticRegression(C=10000.0, class_weight=Non...</td>\n",
       "    </tr>\n",
       "    <tr>\n",
       "      <th>4</th>\n",
       "      <td>0.699788</td>\n",
       "      <td>SGD Classifier</td>\n",
       "      <td>Non Words + Word Vectors</td>\n",
       "      <td>Ti</td>\n",
       "      <td>0.173289</td>\n",
       "      <td>SGDClassifier(alpha=0.001, average=False, clas...</td>\n",
       "    </tr>\n",
       "    <tr>\n",
       "      <th>3</th>\n",
       "      <td>0.686442</td>\n",
       "      <td>Logistic Regression</td>\n",
       "      <td>Word Groups + Word Vectors + Non Words</td>\n",
       "      <td>Se</td>\n",
       "      <td>0.177054</td>\n",
       "      <td>LogisticRegression(C=100.0, class_weight=None,...</td>\n",
       "    </tr>\n",
       "    <tr>\n",
       "      <th>2</th>\n",
       "      <td>0.664958</td>\n",
       "      <td>SGD Classifier</td>\n",
       "      <td>Word Groups + Word Vectors</td>\n",
       "      <td>Si</td>\n",
       "      <td>0.176457</td>\n",
       "      <td>SGDClassifier(alpha=0.1, average=False, class_...</td>\n",
       "    </tr>\n",
       "    <tr>\n",
       "      <th>1</th>\n",
       "      <td>0.646118</td>\n",
       "      <td>Random Forest Classifier</td>\n",
       "      <td>Non Words</td>\n",
       "      <td>Ni</td>\n",
       "      <td>0.183096</td>\n",
       "      <td>(DecisionTreeClassifier(class_weight=None, cri...</td>\n",
       "    </tr>\n",
       "    <tr>\n",
       "      <th>0</th>\n",
       "      <td>0.619222</td>\n",
       "      <td>Gaussian Naive Bayes</td>\n",
       "      <td>Word Groups + Vectorized</td>\n",
       "      <td>Ne</td>\n",
       "      <td>0.218620</td>\n",
       "      <td>GaussianNB(priors=None, var_smoothing=1e-09)</td>\n",
       "    </tr>\n",
       "  </tbody>\n",
       "</table>\n",
       "</div>"
      ],
      "text/plain": [
       "        AUC                Classifier                                 Feature  \\\n",
       "7  0.727173            SGD Classifier              Word Groups + Word Vectors   \n",
       "6  0.724528            SGD Classifier                            Word Vectors   \n",
       "5  0.701253       Logistic Regression                 Word Groups + Non Words   \n",
       "4  0.699788            SGD Classifier                Non Words + Word Vectors   \n",
       "3  0.686442       Logistic Regression  Word Groups + Word Vectors + Non Words   \n",
       "2  0.664958            SGD Classifier              Word Groups + Word Vectors   \n",
       "1  0.646118  Random Forest Classifier                               Non Words   \n",
       "0  0.619222      Gaussian Naive Bayes                Word Groups + Vectorized   \n",
       "\n",
       "  Function       MSE                                              Model  \n",
       "7       Te  0.418715  SGDClassifier(alpha=0.001, average=False, clas...  \n",
       "6       Fi  0.170265  SGDClassifier(alpha=0.1, average=False, class_...  \n",
       "5       Fe  0.174327  LogisticRegression(C=10000.0, class_weight=Non...  \n",
       "4       Ti  0.173289  SGDClassifier(alpha=0.001, average=False, clas...  \n",
       "3       Se  0.177054  LogisticRegression(C=100.0, class_weight=None,...  \n",
       "2       Si  0.176457  SGDClassifier(alpha=0.1, average=False, class_...  \n",
       "1       Ni  0.183096  (DecisionTreeClassifier(class_weight=None, cri...  \n",
       "0       Ne  0.218620       GaussianNB(priors=None, var_smoothing=1e-09)  "
      ]
     },
     "execution_count": 63,
     "metadata": {},
     "output_type": "execute_result"
    }
   ],
   "source": [
    "best_models = best_models.sort_values(by=\"AUC\",ascending=False)\n",
    "best_models"
   ]
  },
  {
   "cell_type": "markdown",
   "metadata": {},
   "source": [
    "Pretty good! These results seem promising as AUCs can be seen mostly in the high 60s to the low 70s.  One interesting thing to notice is that the models used thus far seem to classify the judging functions (Fi,Fe,Ti,Te) better than the perceiving functions (Si,Se,Ni,Ne).  \n",
    "\n",
    "Now that we've found the best classifier for each cognitive function, lets try and combine them\n",
    "and form one comprehensive model.  "
   ]
  },
  {
   "cell_type": "markdown",
   "metadata": {},
   "source": [
    "# Set optimal models for predicting each cognitive function"
   ]
  },
  {
   "cell_type": "markdown",
   "metadata": {},
   "source": [
    "We will now run the optimal models we have for each cognitive function on a sample textfile and\n",
    "try and classify the cognitive functions of the textfiles author.  First we have to clean the textfile\n",
    "and prepare it for modeling.  The textfile was garnered from a post on a different online personality forum."
   ]
  },
  {
   "cell_type": "code",
   "execution_count": 64,
   "metadata": {},
   "outputs": [],
   "source": [
    "\n",
    "optimized_models = {}\n",
    "for row in best_models.iterrows():\n",
    "    function = row[1]['Function']\n",
    "    model = row[1]['Model']\n",
    "    optimized_models[function] = model\n"
   ]
  },
  {
   "cell_type": "markdown",
   "metadata": {},
   "source": [
    "# A Function to Explain Results"
   ]
  },
  {
   "cell_type": "markdown",
   "metadata": {},
   "source": [
    "After we get our results we will have to make them readable for the user and\n",
    "show them a distribution of their predicted cognitive functions by probability of possession\n",
    "and what their likely primary perceiving and judging functions are as predicted by our classifiers"
   ]
  },
  {
   "cell_type": "code",
   "execution_count": 65,
   "metadata": {},
   "outputs": [],
   "source": [
    "def find_optimal_pairing(predictions):\n",
    "    max_preds = []\n",
    "    IJ = ['Fi','Ti']\n",
    "    EJ = ['Fe','Te']\n",
    "    IP = ['Si','Ni']\n",
    "    EP = ['Se','Ne']\n",
    "    introverted = ['Ni','Si','Fi','Ti']\n",
    "    extraverted = ['Ne','Se','Fe','Te']\n",
    "    for func,p in predictions:\n",
    "        if(func in IP):\n",
    "            max_preds.append(['IP',func,p])\n",
    "        elif(func in EP):\n",
    "            max_preds.append(['EP',func,p])\n",
    "        elif(func in IJ):\n",
    "            max_preds.append(['IJ',func,p])\n",
    "        elif(func in EJ):\n",
    "            max_preds.append(['EJ',func,p])\n",
    "    funcs_df = pd.DataFrame(max_preds,columns=['Group','Function','Prediction'])\n",
    "    funcs_df = funcs_df.sort_values(by='Prediction',ascending=False)\n",
    "    best_p = 0\n",
    "    best_j = 0\n",
    "    scores = []\n",
    "    func_best_j = ''\n",
    "    func_best_p = ''\n",
    "    #print(funcs_df)\n",
    "    for row in funcs_df.iterrows():\n",
    "        group = row[1]['Group']\n",
    "        func = row[1]['Function']\n",
    "        pred = row[1]['Prediction']\n",
    "        if(group == 'IP' or group =='EP'):\n",
    "            if(pred > best_p):\n",
    "                best_p = pred\n",
    "                func_best_p = func\n",
    "            scores.append([func,func_best_j,best_j + pred])\n",
    "        else:\n",
    "            if(pred > best_j):\n",
    "                best_j = pred\n",
    "                func_best_j = func\n",
    "            scores.append([func_best_p,func,best_p + pred])\n",
    "    status = 'invalid'\n",
    "    primary_j = ''\n",
    "    primary_p = ''\n",
    "    #print(scores)\n",
    "    best_p = 0\n",
    "    for func_p,func_j,score in scores:\n",
    "        if((func_p in introverted and func_j in extraverted) or (func_j in introverted and func_p in extraverted)):\n",
    "            status = 'valid'\n",
    "            if(score > best_p):\n",
    "                best_p = score\n",
    "                primary_p = func_p\n",
    "                primary_j = func_j\n",
    "    print(f\"Your Primary Method of Perception is: {primary_p}\")\n",
    "    print(f\"Your Primary Method of Judgment is: {primary_j}\")"
   ]
  },
  {
   "cell_type": "markdown",
   "metadata": {},
   "source": [
    "# Get input ready for modeling"
   ]
  },
  {
   "cell_type": "markdown",
   "metadata": {},
   "source": [
    "We will have to get our sample file text ready to be modelled.  This wont be easy and we will have to resort\n",
    "for different means to extract the different type of features necessary for the different cognitive functions.\n",
    "For example, for the NE,TE and SI cognitive functions we will have to extract both word vectors and word groups as features."
   ]
  },
  {
   "cell_type": "code",
   "execution_count": 66,
   "metadata": {},
   "outputs": [],
   "source": [
    "from sklearn.linear_model import SGDRegressor\n",
    "def vectorize(post):\n",
    "    cv = CountVectorizer(analyzer=\"word\", \n",
    "                                     max_features=1500, \n",
    "                                     tokenizer=None,    \n",
    "                                     preprocessor=None, \n",
    "                                     ngram_range=(1,4),\n",
    "                                     stop_words=to_remove,  \n",
    "                                     binary=True\n",
    "                                    )\n",
    "    cv.fit(train_df['joined']) \n",
    "    X_cv = cv.transform(post)\n",
    "    return X_cv\n",
    "\n",
    "\n",
    "# different cognitive functions need different data preprocessing\n",
    "def optimal_classification(vectorized,test):\n",
    "    functions = []\n",
    "    for func in type_list:\n",
    "        X = tsvd(vectorized)\n",
    "\n",
    "        model = optimized_models[func] \n",
    "        \n",
    "        if(func in ['Ne','Si','Te','Fe','Se','Ni','Ti']):\n",
    "            rowlist = []\n",
    "            for row in test:\n",
    "                joined = row\n",
    "                word_list = row.split(' ')\n",
    "                rowlist.append([joined,word_list])\n",
    "            df_test = pd.DataFrame(rowlist,columns=['joined','word_list']) \n",
    "            if(func == 'Te'):\n",
    "                te_test_groups = add_word_group_feats(df_test)\n",
    "                te_test_groups = pd.concat([te_test_groups,pd.DataFrame(X)],axis=1)\n",
    "                train_groups = wg_vect_train\n",
    "                model.fit(train_groups,train_df[func])\n",
    "                try:\n",
    "                    pred = model.predict_proba(te_test_groups)[:,1]\n",
    "                except:\n",
    "                    pred = model.predict(te_test_groups)\n",
    "                prediction = [p for p in pred][-1]\n",
    "                functions.append([func,prediction])\n",
    "            elif(func == 'Ne'):\n",
    "                ne_test_groups = add_word_group_feats(df_test)\n",
    "                ne_test_groups = pd.concat([ne_test_groups,pd.DataFrame(X)],axis=1)\n",
    "                train_groups = wg_vect_train\n",
    "                model.fit(train_groups,train_df[func])\n",
    "                try:\n",
    "                    pred = model.predict_proba(ne_test_groups)[:,1]\n",
    "                except:\n",
    "                    pred = model.predict(ne_test_groups)\n",
    "                prediction = [p for p in pred][-1]\n",
    "                functions.append([func,prediction])                \n",
    "            elif(func == 'Si'):\n",
    "                si_test_groups = add_word_group_feats(df_test)\n",
    "                si_test_groups = pd.concat([si_test_groups,pd.DataFrame(X)],axis=1)\n",
    "                train_groups = wg_vect_train\n",
    "                model.fit(train_groups,train_df[func])\n",
    "                try:\n",
    "                    pred = model.predict_proba(si_test_groups)[:,1]\n",
    "                except:\n",
    "                    pred = model.predict(si_test_groups)\n",
    "                prediction = [p for p in pred][-1]\n",
    "                functions.append([func,prediction])            \n",
    "            elif(func in ['Fe','Se','Ni','Ti']):\n",
    "                test_groups = add_word_group_feats(df_test)\n",
    "                \n",
    "                test_postlist = []\n",
    "                test_sentences_per_post = []\n",
    "                test_words_per_sentence = []\n",
    "                for row in df_test.iterrows():\n",
    "                    cleaned = clean_posts(df_test,row[0],1)\n",
    "                    test_postlist.append(cleaned[0])\n",
    "                    test_sentences_per_post.append(cleaned[3])\n",
    "                    test_words_per_sentence.append(cleaned[4])\n",
    "                df_test['post_list'] = test_postlist\n",
    "                df_test['sents_per_post'] = test_sentences_per_post\n",
    "                df_test['words_per_sent'] = test_words_per_sentence\n",
    "                more_vars_test = get_more_vars(df_test)\n",
    "                df_test['question_count'] = more_vars_test[0]\n",
    "                df_test['exclamation_count'] = more_vars_test[1]\n",
    "                df_test['comma_count'] = more_vars_test[2]\n",
    "                df_test['image_count'] = more_vars_test[4]\n",
    "                df_test['video_count'] = more_vars_test[5]\n",
    "                df_test['nonmedia_url_count'] = more_vars_test[6]\n",
    "                df_test = df_test.drop(['post_list','joined','word_list'],axis=1)\n",
    "                \n",
    "                if(func == 'Fe'):\n",
    "                    fe_test = pd.concat([test_groups,df_test],axis=1)\n",
    "                    train = wg_nw_train\n",
    "                    model.fit(train,train_df['Fe'])\n",
    "                    try:\n",
    "                        pred = model.predict_proba(fe_test)[:,1]\n",
    "                    except:\n",
    "                        pred = model.predict(fe_test)\n",
    "                    prediction = [p for p in pred][-1]\n",
    "                    functions.append(['Fe',prediction])\n",
    "                elif(func == 'Se'):\n",
    "                    se_test = pd.concat([test_groups,df_test,pd.DataFrame(X)],axis=1)\n",
    "                    train = wg_combined_train\n",
    "                    model.fit(train,train_df['Se'])\n",
    "                    try:\n",
    "                        pred = model.predict_proba(se_test)[:,1]\n",
    "                    except:\n",
    "                        pred = model.predict(se_test)\n",
    "                    prediction = [p for p in pred][-1]\n",
    "                    functions.append(['Se',prediction])\n",
    "                elif(func == 'Ti'):\n",
    "                    ti_test = pd.concat([pd.DataFrame(X),df_test],axis=1)\n",
    "                    train = combined_train_cv\n",
    "                    model.fit(train,train_df['Ti'])\n",
    "                    try:\n",
    "                        pred = model.predict_proba(ti_test)[:,1]\n",
    "                    except:\n",
    "                        pred = model.predict(ti_test)\n",
    "                    prediction = [p for p in pred][-1]\n",
    "                    functions.append(['Ti',prediction])\n",
    "                elif(func == 'Ni'):\n",
    "                    ni_test = df_test\n",
    "                    train = non_word_feats_train\n",
    "                    model.fit(train,train_df['Ni'])\n",
    "                    try:\n",
    "                        pred = model.predict_proba(ni_test)[:,1]\n",
    "                    except:\n",
    "                        pred = model.predict(ni_test)\n",
    "                    prediction = [p for p in pred][-1]\n",
    "                    functions.append(['Ni',prediction])\n",
    "\n",
    "                \n",
    "        else:\n",
    "            model.fit(reduced_cv_train_matrix, train_df[func])\n",
    "            try:\n",
    "                predictions = model.predict_proba(X)[:,1]\n",
    "            except:\n",
    "                predictions = model.predict(X)[:,1]\n",
    "            prediction = [p for p in predictions][-1]\n",
    "            functions.append([func,prediction])\n",
    "    return functions\n",
    "def add_to_test(doc):\n",
    "    test_new = pd.Series(test_df['joined'])\n",
    "    doc_df = pd.Series(doc)\n",
    "    result = pd.concat([test_new,doc_df],axis=0)\n",
    "    result.columns = 'joined'\n",
    "    return result\n",
    "def clean_text(text):\n",
    "    text = text.lower()\n",
    "    table = str.maketrans(dict.fromkeys(string.punctuation)) \n",
    "    text = text.translate(table)                          \n",
    "    return text\n",
    "\n",
    "func_dict = {\n",
    "    'Fi':'Introverted Feeling',\n",
    "    'Fe':'Extraverted Feeling',\n",
    "    'Ti':'Introverted Thinking',\n",
    "    'Te':'Extraverted Thinking',\n",
    "    'Ni':'Introverted Intuition',\n",
    "    'Ne':'Extraverted Intuition',\n",
    "    'Si':'Introverted Sensing',\n",
    "    'Se':'Extraverted Sensing'\n",
    "}\n",
    "# Prepare the results for output\n",
    "def get_functions(predictions):\n",
    "    introverted = ['Fi','Ti','Ni','Se']\n",
    "    extraverted = ['Ne','Se','Te','Fe']\n",
    "    \n",
    "    judging = ['Fi','Fe','Ti','Te']\n",
    "    perceiving = ['Ni','Ne','Si','Se']\n",
    "    primary_perception_prediction = 0\n",
    "    primary_judgment_prediction = 0\n",
    "    primary_perception = ''\n",
    "    primary_judgment = ''\n",
    "    perceiving_list = []\n",
    "    judging_list = []\n",
    "    for p in predictions:\n",
    "        func = p[0]\n",
    "        prediction = p[1]\n",
    "        \n",
    "        if(func in judging):\n",
    "            if(prediction > primary_judgment_prediction):\n",
    "                primary_judgment_prediction = prediction\n",
    "                primary_judgment = func\n",
    "        elif(func in perceiving):\n",
    "            if(prediction > primary_perception_prediction):\n",
    "                primary_perception_prediction = prediction\n",
    "                primary_perception = func\n",
    "        \n",
    "    just_functions = [p[0] for p in predictions]\n",
    "    just_predictions = [p[1] for p in predictions]\n",
    "    plt.figure(figsize=(5, 4))\n",
    "    plt.barh(just_functions,just_predictions)\n",
    "    plt.title(\"Distribution of Cognitive Functions\")\n",
    "    find_optimal_pairing(predictions)\n",
    "            \n",
    "            \n",
    "            "
   ]
  },
  {
   "cell_type": "markdown",
   "metadata": {},
   "source": [
    "# Test out our model"
   ]
  },
  {
   "cell_type": "markdown",
   "metadata": {},
   "source": [
    "Finally its time to test our model!"
   ]
  },
  {
   "cell_type": "code",
   "execution_count": 67,
   "metadata": {},
   "outputs": [],
   "source": [
    "def classify_post(post):\n",
    "    with open(post) as f:\n",
    "        text = clean_text(post)\n",
    "        test = add_to_test(text)\n",
    "        vectorized = vectorize(test)\n",
    "        prediction = optimal_classification(vectorized,test)\n",
    "        get_functions(prediction)\n",
    "        #return prediction"
   ]
  },
  {
   "cell_type": "code",
   "execution_count": 68,
   "metadata": {
    "scrolled": true
   },
   "outputs": [
    {
     "name": "stdout",
     "output_type": "stream",
     "text": [
      "Your Primary Method of Perception is: Ni\n",
      "Your Primary Method of Judgment is: Te\n"
     ]
    },
    {
     "data": {
      "image/png": "[encoded data removed]",
      "text/plain": [
       "<Figure size 360x288 with 1 Axes>"
      ]
     },
     "metadata": {},
     "output_type": "display_data"
    }
   ],
   "source": [
    "# Classify sample post\n",
    "classify_post('sample_post.txt')"
   ]
  },
  {
   "cell_type": "markdown",
   "metadata": {},
   "source": [
    " Per our\n",
    "predicted results, the author of the excerpt is most probable to display primary extraverted thinking and introverted intuition\n",
    "functions.   \n"
   ]
  },
  {
   "cell_type": "markdown",
   "metadata": {},
   "source": [
    "Note that while the user may in some cases show to have high incidences of two functions of the same orientation, per the Jungian theory, only one primary function \n",
    "can be of each orientation.  Therefore our optimization algorithm will prioritize the function of the orietation\n",
    "that renders the highest probability of being possessed.  If the other primary function is of the same orientation,\n",
    "it will keep taking the next cognitive function it finds to have the next highestprobability of being present \n",
    "and finally settle on the one it finds of the opposite orientation.  "
   ]
  },
  {
   "cell_type": "markdown",
   "metadata": {},
   "source": [
    "# Conclusion"
   ]
  },
  {
   "cell_type": "markdown",
   "metadata": {},
   "source": [
    "Overall it is not totally clear if cognitive functions can be accurately predicted by text alone.\n",
    "The features used in this data were garnered from a list of 50 user posts each and were all from a personality\n",
    "forum.  It is unclear if data not from a personality forum that is shorter in length will classify as well. \n",
    "60-70 AUC scores per cognitive function arent very bad, but also dont constitute a model that should be\n",
    "used for any purpose other than entertainment."
   ]
  },
  {
   "cell_type": "markdown",
   "metadata": {},
   "source": [
    "# Caveats"
   ]
  },
  {
   "cell_type": "markdown",
   "metadata": {},
   "source": [
    "Just to summarize, A few caveats of this model include\n",
    "\n",
    "- The model was only tested on forum data (downsampling and topic cleaning helps, but still can be biased)\n",
    "- The model was only tested on data that included 50 posts for each user\n",
    "- Model only demonstrated AUCs in the high 60s- low 70s\n",
    "- Jungian cognitive functions are not necessarily a fool proof metric for personality"
   ]
  },
  {
   "cell_type": "markdown",
   "metadata": {},
   "source": [
    "# Future Improvements\n",
    "\n",
    "If we had more time I would definitely want to get more non forum data and integrate that in the model to \n",
    "better generalize it.  Additionally, I would want to see how text sample size fares with how accurate our model\n",
    "is.   "
   ]
  },
  {
   "cell_type": "code",
   "execution_count": null,
   "metadata": {},
   "outputs": [],
   "source": []
  },
  {
   "cell_type": "code",
   "execution_count": null,
   "metadata": {},
   "outputs": [],
   "source": []
  },
  {
   "cell_type": "code",
   "execution_count": null,
   "metadata": {},
   "outputs": [],
   "source": []
  },
  {
   "cell_type": "code",
   "execution_count": null,
   "metadata": {},
   "outputs": [],
   "source": []
  },
  {
   "cell_type": "code",
   "execution_count": null,
   "metadata": {},
   "outputs": [],
   "source": []
  },
  {
   "cell_type": "code",
   "execution_count": null,
   "metadata": {},
   "outputs": [],
   "source": []
  }
 ],
 "metadata": {
  "kernelspec": {
   "display_name": "Python 3",
   "language": "python",
   "name": "python3"
  },
  "language_info": {
   "codemirror_mode": {
    "name": "ipython",
    "version": 3
   },
   "file_extension": ".py",
   "mimetype": "text/x-python",
   "name": "python",
   "nbconvert_exporter": "python",
   "pygments_lexer": "ipython3",
   "version": "3.7.3"
  }
 },
 "nbformat": 4,
 "nbformat_minor": 2
}
